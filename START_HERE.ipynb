{
 "cells": [
  {
   "cell_type": "markdown",
   "id": "7657bdc0-a3af-4b78-9535-d4e4d6924625",
   "metadata": {},
   "source": [
    "# Demo Notebooks  "
   ]
  },
  {
   "cell_type": "markdown",
   "id": "f98cc21e",
   "metadata": {},
   "source": [
    "Note: Demo Notebooks can only be run from https://opal.guild-software.dev/\n",
    "\n",
    "Weave is used to upload and access data: [Weave Readme](https://github.com/309thEDDGE/weave/blob/main/README.md)\n",
    "\n",
    "Metaflow can be used to define and orchestrate ETL processes.\n",
    "\n",
    "Dask can be used for parallel computation when analyzing large scale data."
   ]
  },
  {
   "cell_type": "markdown",
   "id": "a715b011-b43f-4099-8b78-ba05e3c4c063",
   "metadata": {},
   "source": [
    "[Metaflow with Dask](demo-notebooks/analysis_demo.ipynb)"
   ]
  },
  {
   "cell_type": "markdown",
   "id": "a94805c7-f067-4e2c-b492-7728e1429b4c",
   "metadata": {},
   "source": [
    "[Metaflow and Weave](demo-notebooks/extract_transform_load_demo.ipynb)"
   ]
  },
  {
   "cell_type": "markdown",
   "id": "4217d973-0869-4d94-9137-ebf5066b127c",
   "metadata": {},
   "source": [
    "# Dashboarding Example"
   ]
  },
  {
   "cell_type": "markdown",
   "id": "65de0d87-adbf-4bf0-bdba-9349930c2bfc",
   "metadata": {},
   "source": [
    "[Readme](docs/cdsdashboards-examples/README.md)"
   ]
  },
  {
   "cell_type": "markdown",
   "id": "3d151d78-5aba-42d3-bf5e-5b62d804334d",
   "metadata": {},
   "source": [
    "[Example Dashboard Script](docs/cdsdashboards-examples/app.py)"
   ]
  },
  {
   "cell_type": "markdown",
   "id": "5cd35bf8-6cfa-4d12-ad9a-1017ad60aa3b",
   "metadata": {},
   "source": [
    "# Tests"
   ]
  },
  {
   "cell_type": "markdown",
   "id": "1b27f749-6f76-417d-80cd-83405fed9cab",
   "metadata": {},
   "source": [
    "### Test Notebooks"
   ]
  },
  {
   "cell_type": "markdown",
   "id": "4fc35609-27a2-4dd2-b015-a4bf95315853",
   "metadata": {},
   "source": [
    "[GUI Tests](test-notebooks/gui_tests/panel_ipywidgets_tests.ipynb)"
   ]
  },
  {
   "cell_type": "markdown",
   "id": "568452ce-9201-4866-ba4c-1e0613bdca22",
   "metadata": {},
   "source": [
    "[Dask Benchmark](test-notebooks/Dask_Cluster_Benchmark_notebook.ipynb)"
   ]
  },
  {
   "cell_type": "markdown",
   "id": "2692d5ed-8e5b-4bf4-a2af-9cf10d8af6df",
   "metadata": {},
   "source": [
    "[GPU Test](test-notebooks/gpu-test-notebook.ipynb)"
   ]
  },
  {
   "cell_type": "markdown",
   "id": "85a3806d-2a4b-455c-b04f-55897a8fa338",
   "metadata": {},
   "source": [
    "# Documentation:\n",
    "\n",
    "Links to documentation from open source projects available for use inside of OPAL:\n",
    "\n",
    "- [Jupyter Hub](https://jupyterhub.readthedocs.io/en/stable/index.html)\n",
    "- [Jupyter Lab](https://jupyterlab.readthedocs.io/en/stable/index.html)\n",
    "- [Python 3.10](https://docs.python.org/3.10/)\n",
    "- [Numpy 1.23](https://numpy.org/doc/1.23/)\n",
    "- [Pandas 1.5](https://pandas.pydata.org/pandas-docs/version/1.5/index.html)\n",
    "- [iPython 8.10](https://ipython.readthedocs.io/en/8.10.0/)\n",
    "- [Jupyter Notebook](https://jupyter-notebook.readthedocs.io/en/latest/) (Note that we have Notebook version 6.5, whereas the latest Notebook docs are for version 7)"
   ]
  },
  {
   "cell_type": "markdown",
   "id": "ba633648-b708-4336-bb33-9ca5b9624340",
   "metadata": {},
   "source": [
    "#### Test Runner"
   ]
  },
  {
   "cell_type": "markdown",
   "id": "54e0323b-69e8-4d09-bfca-15c6cc55d2df",
   "metadata": {},
   "source": [
    "**Execute the below cell or copy+paste the command (without the '!') into a terminal tab**"
   ]
  },
  {
   "cell_type": "code",
   "execution_count": null,
   "id": "ee342f15-bb59-4db4-9fa4-36902b719fb0",
   "metadata": {
    "tags": []
   },
   "outputs": [],
   "source": [
    "!bash devops-software/test_all.bash"
   ]
  }
 ],
 "metadata": {
  "kernelspec": {
   "display_name": "base",
   "language": "python",
   "name": "python3"
  },
  "language_info": {
   "codemirror_mode": {
    "name": "ipython",
    "version": 3
   },
   "file_extension": ".py",
   "mimetype": "text/x-python",
   "name": "python",
   "nbconvert_exporter": "python",
   "pygments_lexer": "ipython3",
   "version": "3.13.2"
  }
 },
 "nbformat": 4,
 "nbformat_minor": 5
}
