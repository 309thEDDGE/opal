{
 "cells": [
  {
   "cell_type": "markdown",
   "id": "04031edc-6c49-48eb-982e-52d63e89dfc2",
   "metadata": {},
   "source": [
    "# OPAL Directory"
   ]
  },
  {
   "cell_type": "markdown",
   "id": "0fe3269c-7454-451a-8d88-d775a6e7de93",
   "metadata": {},
   "source": [
    "## [Startup Guide](opal/starter-notebooks/startup-guide/Startup_Guide_Jupyterlab.ipynb)"
   ]
  },
  {
   "cell_type": "markdown",
   "id": "7657bdc0-a3af-4b78-9535-d4e4d6924625",
   "metadata": {},
   "source": [
    "### Example Notebooks"
   ]
  },
  {
   "cell_type": "markdown",
   "id": "a715b011-b43f-4099-8b78-ba05e3c4c063",
   "metadata": {},
   "source": [
    "[Metaflow with Dask](opal/starter-notebooks/demo_notebook_coiled.ipynb)"
   ]
  },
  {
   "cell_type": "markdown",
   "id": "a94805c7-f067-4e2c-b492-7728e1429b4c",
   "metadata": {},
   "source": [
    "[ETL with Metaflow](opal/starter-notebooks/demo_notebook_ETL_metaflow.ipynb)"
   ]
  },
  {
   "cell_type": "markdown",
   "id": "8dd41786-0378-4c75-83af-d59a07b3f12d",
   "metadata": {},
   "source": [
    "[Metaflow Flows](opal/starter-notebooks/metaflow_notebook.ipynb)"
   ]
  },
  {
   "cell_type": "markdown",
   "id": "4217d973-0869-4d94-9137-ebf5066b127c",
   "metadata": {},
   "source": [
    "### Dashboarding Example"
   ]
  },
  {
   "cell_type": "markdown",
   "id": "65de0d87-adbf-4bf0-bdba-9349930c2bfc",
   "metadata": {},
   "source": [
    "[Readme](opal/docs/cdsdashboards-examples/README.md)"
   ]
  },
  {
   "cell_type": "markdown",
   "id": "3d151d78-5aba-42d3-bf5e-5b62d804334d",
   "metadata": {},
   "source": [
    "[Example Dashboard Script](opal/docs/cdsdashboards-examples/app.py)"
   ]
  },
  {
   "cell_type": "markdown",
   "id": "5cd35bf8-6cfa-4d12-ad9a-1017ad60aa3b",
   "metadata": {},
   "source": [
    "### Tests"
   ]
  },
  {
   "cell_type": "markdown",
   "id": "1b27f749-6f76-417d-80cd-83405fed9cab",
   "metadata": {},
   "source": [
    "#### Test Notebooks"
   ]
  },
  {
   "cell_type": "markdown",
   "id": "4fc35609-27a2-4dd2-b015-a4bf95315853",
   "metadata": {},
   "source": [
    "[Catalog Publish](opal/test-notebooks/catalog_publish.ipynb)"
   ]
  },
  {
   "cell_type": "markdown",
   "id": "568452ce-9201-4866-ba4c-1e0613bdca22",
   "metadata": {},
   "source": [
    "[Catalog Search](opal/test-notebooks/catalog_search.ipynb)"
   ]
  },
  {
   "cell_type": "markdown",
   "id": "2692d5ed-8e5b-4bf4-a2af-9cf10d8af6df",
   "metadata": {},
   "source": [
    "[Minio Interaction](opal/test-notebooks/minio.ipynb)"
   ]
  },
  {
   "cell_type": "markdown",
   "id": "13c52b95-67a2-46d1-be8b-74c1f11483de",
   "metadata": {},
   "source": [
    "[Metaflow Run](opal/test-notebooks/run_metaflow.ipynb)"
   ]
  },
  {
   "cell_type": "markdown",
   "id": "ba633648-b708-4336-bb33-9ca5b9624340",
   "metadata": {},
   "source": [
    "#### Test Runner"
   ]
  },
  {
   "cell_type": "markdown",
   "id": "54e0323b-69e8-4d09-bfca-15c6cc55d2df",
   "metadata": {},
   "source": [
    "**Execute the below cell or copy+paste the command (without the '!') into a terminal tab**"
   ]
  },
  {
   "cell_type": "code",
   "execution_count": null,
   "id": "ee342f15-bb59-4db4-9fa4-36902b719fb0",
   "metadata": {
    "tags": []
   },
   "outputs": [],
   "source": [
    "!bash /home/jovyan/opal/devops-software/test_all.bash"
   ]
  },
  {
   "cell_type": "code",
   "execution_count": null,
   "id": "f367f387-a97c-43ac-a394-f15cdb30867e",
   "metadata": {},
   "outputs": [],
   "source": []
  }
 ],
 "metadata": {
  "kernelspec": {
   "display_name": "Python [conda env:singleuser] *",
   "language": "python",
   "name": "conda-env-singleuser-py"
  },
  "language_info": {
   "codemirror_mode": {
    "name": "ipython",
    "version": 3
   },
   "file_extension": ".py",
   "mimetype": "text/x-python",
   "name": "python",
   "nbconvert_exporter": "python",
   "pygments_lexer": "ipython3",
   "version": "3.9.7"
  }
 },
 "nbformat": 4,
 "nbformat_minor": 5
}
