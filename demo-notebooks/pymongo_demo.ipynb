{
 "cells": [
  {
   "cell_type": "markdown",
   "id": "54c4160a-207c-4b96-a041-ffde07155be3",
   "metadata": {
    "editable": true,
    "slideshow": {
     "slide_type": ""
    },
    "tags": []
   },
   "source": [
    "# Set Up and Getting Data Ready"
   ]
  },
  {
   "cell_type": "code",
   "execution_count": 1,
   "id": "2e97ab16-9e65-47bc-b70a-82704fa46e59",
   "metadata": {},
   "outputs": [],
   "source": [
    "import os\n",
    "import s3fs\n",
    "import math\n",
    "import weave\n",
    "import random\n",
    "import matplotlib.pyplot as plt\n",
    "\n",
    "from weave.pantry import Pantry\n",
    "from mpl_toolkits import mplot3d\n",
    "from weave.mongo_loader import MongoLoader\n",
    "from weave.index.index_pandas import IndexPandas"
   ]
  },
  {
   "cell_type": "code",
   "execution_count": 2,
   "id": "1ba4a563-694b-41dd-b2a9-a9dcd55d27d3",
   "metadata": {},
   "outputs": [],
   "source": [
    "# Gets a connection to the mongo db\n",
    "# This is a weave function (weave.xxx)\n",
    "client = weave.config.get_mongo_db()\n",
    "\n",
    "# Provide the mongo client when initializing a pantry object\n",
    "demo_pantry_path = \"mongodb-demo\"\n",
    "demo_pantry = weave.Pantry(\n",
    "    weave.IndexPandas,\n",
    "    pantry_path=demo_pantry_path,\n",
    "    file_system=s3fs.S3FileSystem(client_kwargs = {'endpoint_url': os.environ['S3_ENDPOINT']}),\n",
    "    mongo_client=client,\n",
    ")"
   ]
  },
  {
   "cell_type": "code",
   "execution_count": 3,
   "id": "4a29d874-3bf4-4334-bd8b-08c795a05745",
   "metadata": {},
   "outputs": [],
   "source": [
    "# Generating some data\n",
    "# The purpose of metadata is to store a snap shot of the entire dataset. In this trivial example there is the altitude, and speed for\n",
    "# every second of a 2 hour flight. There is also a singular data point of how much fuel was burned. A big purpose of using pymongo is \n",
    "# to store some interesting data points about the data so there is a quick snapshot of the whole dataset. Faster to query singular\n",
    "# data points such as max_altitude to know more about a particular dataset rather than looking at every altitude data point.\n",
    "max_altitude = 8_000\n",
    "for i in range(0,25):\n",
    "    max_speed = math.floor(900 * random.uniform(1, 2.1))\n",
    "    fuel_burned = math.floor(max_speed * random.uniform(4.5, 5.2) + random.uniform(-150, 250))\n",
    "    demo_pantry.upload_basket(\n",
    "        upload_items=[{'path': '/home/jovyan/opal/resources/652200104150842.ch10', 'stub': True}],\n",
    "        basket_type='ch10',\n",
    "        metadata = {'ch10name': '652200104150842', 'max_altitude': max_altitude, 'max_speed': max_speed, 'fuel_burned': fuel_burned},\n",
    "    )\n",
    "    max_altitude += 350"
   ]
  },
  {
   "cell_type": "code",
   "execution_count": 4,
   "id": "380217f8-491d-44a8-a284-f5d98b91eea1",
   "metadata": {},
   "outputs": [
    {
     "data": {
      "text/html": [
       "<div>\n",
       "<style scoped>\n",
       "    .dataframe tbody tr th:only-of-type {\n",
       "        vertical-align: middle;\n",
       "    }\n",
       "\n",
       "    .dataframe tbody tr th {\n",
       "        vertical-align: top;\n",
       "    }\n",
       "\n",
       "    .dataframe thead th {\n",
       "        text-align: right;\n",
       "    }\n",
       "</style>\n",
       "<table border=\"1\" class=\"dataframe\">\n",
       "  <thead>\n",
       "    <tr style=\"text-align: right;\">\n",
       "      <th></th>\n",
       "      <th>uuid</th>\n",
       "      <th>upload_time</th>\n",
       "      <th>parent_uuids</th>\n",
       "      <th>basket_type</th>\n",
       "      <th>label</th>\n",
       "      <th>weave_version</th>\n",
       "      <th>address</th>\n",
       "      <th>storage_type</th>\n",
       "    </tr>\n",
       "  </thead>\n",
       "  <tbody>\n",
       "    <tr>\n",
       "      <th>0</th>\n",
       "      <td>e3103a6e8dbb11f090969e5d1605a090</td>\n",
       "      <td>2025-09-09 20:30:55.646987+00:00</td>\n",
       "      <td>[]</td>\n",
       "      <td>ch10</td>\n",
       "      <td></td>\n",
       "      <td>1.15.2</td>\n",
       "      <td>mongodb-demo/ch10/e3103a6e8dbb11f090969e5d1605...</td>\n",
       "      <td>S3FileSystem</td>\n",
       "    </tr>\n",
       "    <tr>\n",
       "      <th>1</th>\n",
       "      <td>e327afe68dbb11f090969e5d1605a090</td>\n",
       "      <td>2025-09-09 20:30:55.794505+00:00</td>\n",
       "      <td>[]</td>\n",
       "      <td>ch10</td>\n",
       "      <td></td>\n",
       "      <td>1.15.2</td>\n",
       "      <td>mongodb-demo/ch10/e327afe68dbb11f090969e5d1605...</td>\n",
       "      <td>S3FileSystem</td>\n",
       "    </tr>\n",
       "    <tr>\n",
       "      <th>2</th>\n",
       "      <td>e3338f1e8dbb11f090969e5d1605a090</td>\n",
       "      <td>2025-09-09 20:30:55.871751+00:00</td>\n",
       "      <td>[]</td>\n",
       "      <td>ch10</td>\n",
       "      <td></td>\n",
       "      <td>1.15.2</td>\n",
       "      <td>mongodb-demo/ch10/e3338f1e8dbb11f090969e5d1605...</td>\n",
       "      <td>S3FileSystem</td>\n",
       "    </tr>\n",
       "    <tr>\n",
       "      <th>3</th>\n",
       "      <td>e34025448dbb11f090969e5d1605a090</td>\n",
       "      <td>2025-09-09 20:30:55.954158+00:00</td>\n",
       "      <td>[]</td>\n",
       "      <td>ch10</td>\n",
       "      <td></td>\n",
       "      <td>1.15.2</td>\n",
       "      <td>mongodb-demo/ch10/e34025448dbb11f090969e5d1605...</td>\n",
       "      <td>S3FileSystem</td>\n",
       "    </tr>\n",
       "    <tr>\n",
       "      <th>4</th>\n",
       "      <td>e34eb7128dbb11f090969e5d1605a090</td>\n",
       "      <td>2025-09-09 20:30:56.049190+00:00</td>\n",
       "      <td>[]</td>\n",
       "      <td>ch10</td>\n",
       "      <td></td>\n",
       "      <td>1.15.2</td>\n",
       "      <td>mongodb-demo/ch10/e34eb7128dbb11f090969e5d1605...</td>\n",
       "      <td>S3FileSystem</td>\n",
       "    </tr>\n",
       "  </tbody>\n",
       "</table>\n",
       "</div>"
      ],
      "text/plain": [
       "                               uuid                      upload_time  \\\n",
       "0  e3103a6e8dbb11f090969e5d1605a090 2025-09-09 20:30:55.646987+00:00   \n",
       "1  e327afe68dbb11f090969e5d1605a090 2025-09-09 20:30:55.794505+00:00   \n",
       "2  e3338f1e8dbb11f090969e5d1605a090 2025-09-09 20:30:55.871751+00:00   \n",
       "3  e34025448dbb11f090969e5d1605a090 2025-09-09 20:30:55.954158+00:00   \n",
       "4  e34eb7128dbb11f090969e5d1605a090 2025-09-09 20:30:56.049190+00:00   \n",
       "\n",
       "  parent_uuids basket_type label weave_version  \\\n",
       "0           []        ch10              1.15.2   \n",
       "1           []        ch10              1.15.2   \n",
       "2           []        ch10              1.15.2   \n",
       "3           []        ch10              1.15.2   \n",
       "4           []        ch10              1.15.2   \n",
       "\n",
       "                                             address  storage_type  \n",
       "0  mongodb-demo/ch10/e3103a6e8dbb11f090969e5d1605...  S3FileSystem  \n",
       "1  mongodb-demo/ch10/e327afe68dbb11f090969e5d1605...  S3FileSystem  \n",
       "2  mongodb-demo/ch10/e3338f1e8dbb11f090969e5d1605...  S3FileSystem  \n",
       "3  mongodb-demo/ch10/e34025448dbb11f090969e5d1605...  S3FileSystem  \n",
       "4  mongodb-demo/ch10/e34eb7128dbb11f090969e5d1605...  S3FileSystem  "
      ]
     },
     "execution_count": 4,
     "metadata": {},
     "output_type": "execute_result"
    }
   ],
   "source": [
    "# Get the pandas df representation of the manifest data of the baskets in the pantry\n",
    "index = demo_pantry.index\n",
    "index_df = index.to_pandas_df()\n",
    "# Getting current weave version for later on in the demo\n",
    "current_weave_version = index_df.weave_version[0]\n",
    "# Printing the first 5 baskets\n",
    "index_df.head()"
   ]
  },
  {
   "cell_type": "code",
   "execution_count": 5,
   "id": "74e26fda-3f83-4e1b-b76b-a9bf0606a352",
   "metadata": {},
   "outputs": [
    {
     "name": "stdout",
     "output_type": "stream",
     "text": [
      "Index length: 50\n"
     ]
    },
    {
     "data": {
      "text/plain": [
       "basket_type\n",
       "ch10    50\n",
       "Name: count, dtype: int64"
      ]
     },
     "execution_count": 5,
     "metadata": {},
     "output_type": "execute_result"
    }
   ],
   "source": [
    "print(f\"Index length: {len(index)}\")\n",
    "# value_counts is a pandas function\n",
    "# https://pandas.pydata.org/docs/reference/api/pandas.Series.value_counts.html\n",
    "index_df.basket_type.value_counts()"
   ]
  },
  {
   "cell_type": "markdown",
   "id": "3fcb094e-6961-4a02-a63e-52e29a91925b",
   "metadata": {},
   "source": [
    "# MongoDB Tutorial"
   ]
  },
  {
   "cell_type": "code",
   "execution_count": 6,
   "id": "387e62dd-e665-4b1a-81fc-adcb8c48ad47",
   "metadata": {},
   "outputs": [],
   "source": [
    "# Initalizing a mongo database for the demo pantry\n",
    "# Pantry is the pantry object from weave.Pantry()\n",
    "# If the pantry already has a mongo_client attached to it (if it\n",
    "# was passed into the pantry constructor, or if it was loaded during\n",
    "# the factory constructor), the mongo client does not need to be\n",
    "# passed in explicitly, it will retrieve the pantry's mongo_client.\n",
    "mongo_loader = MongoLoader(pantry=demo_pantry)\n",
    "# mongo_client explicitly passed in below\n",
    "# mongo_loader = MongoLoader(pantry=demo_pantry, mongo_client=client)"
   ]
  },
  {
   "cell_type": "markdown",
   "id": "9b038bf8-81aa-45e9-9f42-4a020b1f7525",
   "metadata": {},
   "source": [
    "This is a function built in house (part of the weave library). Most of the functions built in house for mongo can be found <a href=https://github.com/309thEDDGE/weave/blob/main/weave/mongo_loader.py>here</a>"
   ]
  },
  {
   "cell_type": "code",
   "execution_count": 7,
   "id": "5952612b-a822-4c6e-90cf-ad65b68547a6",
   "metadata": {},
   "outputs": [
    {
     "name": "stdout",
     "output_type": "stream",
     "text": [
      "mongodb-demo\n",
      "Database(MongoClient(host=['mongodb:27017'], document_class=dict, tz_aware=False, connect=True, timeoutms=0.0), 'mongodb-demo')\n"
     ]
    }
   ],
   "source": [
    "# Printing the database name to make sure everything is set up properly \n",
    "# .database_name is part of weave\n",
    "print(mongo_loader.database_name)\n",
    "\n",
    "# Get the pymongo database associated with the pantry\n",
    "mongo_db = mongo_loader.database\n",
    "print(mongo_db)"
   ]
  },
  {
   "cell_type": "code",
   "execution_count": 8,
   "id": "b8e8cd9b-ab65-4db2-af69-2985a30f352f",
   "metadata": {},
   "outputs": [
    {
     "name": "stdout",
     "output_type": "stream",
     "text": [
      "manifest\n",
      "supplement\n",
      "metadata\n"
     ]
    }
   ],
   "source": [
    "# This is not an extensive pymongo tutorial just a small introduction\n",
    "# Printing a list of all the collection names in the mongo database\n",
    "# list_collection_names() is a pymongo function\n",
    "collection_names = mongo_db.list_collection_names()\n",
    "for name in collection_names:\n",
    "    print(name)"
   ]
  },
  {
   "cell_type": "code",
   "execution_count": 9,
   "id": "43c002bf-ca24-401d-a28f-a52c4b87dba4",
   "metadata": {},
   "outputs": [
    {
     "name": "stdout",
     "output_type": "stream",
     "text": [
      "Collection(Database(MongoClient(host=['mongodb:27017'], document_class=dict, tz_aware=False, connect=True, timeoutms=0.0), 'mongodb-demo'), 'manifest')\n",
      "50\n",
      "Collection(Database(MongoClient(host=['mongodb:27017'], document_class=dict, tz_aware=False, connect=True, timeoutms=0.0), 'mongodb-demo'), 'metadata')\n",
      "50\n",
      "Collection(Database(MongoClient(host=['mongodb:27017'], document_class=dict, tz_aware=False, connect=True, timeoutms=0.0), 'mongodb-demo'), 'supplement')\n",
      "50\n"
     ]
    }
   ],
   "source": [
    "# Getting each collection its own variable\n",
    "# mongo_loader.xxx_collection is part of weave\n",
    "manifest_collection = mongo_db[mongo_loader.manifest_collection]\n",
    "print(manifest_collection)\n",
    "print(manifest_collection.count_documents({}))\n",
    "\n",
    "metadata_collection = mongo_db[mongo_loader.metadata_collection]\n",
    "print(metadata_collection)\n",
    "print(metadata_collection.count_documents({}))\n",
    "\n",
    "supplement_collection = mongo_db[mongo_loader.supplement_collection]\n",
    "print(supplement_collection)\n",
    "print(supplement_collection.count_documents({}))"
   ]
  },
  {
   "cell_type": "code",
   "execution_count": 10,
   "id": "12c52b52-f4d1-4887-bc93-01da0dd57138",
   "metadata": {},
   "outputs": [
    {
     "name": "stdout",
     "output_type": "stream",
     "text": [
      "Manifest fieldnames: {'basket_type', '_id', 'label', 'upload_time', 'uuid', 'weave_version', 'parent_uuids'} \n",
      "\n",
      "Metadata fieldnames:  {'ch10name', 'basket_type', '_id', 'fuel_burned', 'uuid', 'max_altitude', 'parent_uuids', 'max_speed'} \n",
      "\n",
      "Supplement fieldnames:  {'integrity_data.access_date', 'basket_type', '_id', 'upload_items.stub', 'integrity_data.file_size', 'integrity_data.hash', 'integrity_data.byte_count', 'integrity_data.upload_path', 'uuid', 'upload_items', 'integrity_data', 'integrity_data.source_path', 'integrity_data.stub', 'upload_items.path'} \n",
      "\n"
     ]
    }
   ],
   "source": [
    "# The rest of these functions used in this notebook are standard pymongo functions\n",
    "# Getting the unique fieldnames (keys) for a collection \n",
    "def get_unique_fieldnames(collection):\n",
    "    fieldnames = set()\n",
    "    for doc in collection.find():\n",
    "        def extract_keys(d, prefix=''):\n",
    "            for k, v in d.items():\n",
    "                full_key = f\"{prefix}.{k}\" if prefix else k\n",
    "                fieldnames.add(full_key)\n",
    "                if isinstance(v, dict):\n",
    "                    extract_keys(v, full_key)\n",
    "                elif isinstance(v, list):\n",
    "                    for item in v:\n",
    "                        if isinstance(item, dict):\n",
    "                            extract_keys(item, full_key)\n",
    "        extract_keys(doc)\n",
    "    return fieldnames\n",
    "\n",
    "# Getting field names for each collection\n",
    "manifest_fn = get_unique_fieldnames(manifest_collection)\n",
    "metadata_fn = get_unique_fieldnames(metadata_collection)\n",
    "supplement_fn = get_unique_fieldnames(supplement_collection)\n",
    "\n",
    "print(\"Manifest fieldnames:\", manifest_fn, \"\\n\")\n",
    "print(\"Metadata fieldnames: \", metadata_fn, \"\\n\")\n",
    "print(\"Supplement fieldnames: \", supplement_fn, \"\\n\")"
   ]
  },
  {
   "cell_type": "code",
   "execution_count": 11,
   "id": "77f4a22e-7b7d-4e9e-886d-7945329c57f3",
   "metadata": {},
   "outputs": [
    {
     "name": "stdout",
     "output_type": "stream",
     "text": [
      "[{'_id': ObjectId('68c08e7f2616f22bbf877136'), 'uuid': 'e3103a6e8dbb11f090969e5d1605a090', 'basket_type': 'ch10', 'parent_uuids': [], 'ch10name': '652200104150842', 'max_altitude': 8000, 'max_speed': 969, 'fuel_burned': 4447}, {'_id': ObjectId('68c08e7f2616f22bbf87713d'), 'uuid': 'e327afe68dbb11f090969e5d1605a090', 'basket_type': 'ch10', 'parent_uuids': [], 'ch10name': '652200104150842', 'max_altitude': 8350, 'max_speed': 1677, 'fuel_burned': 8346}, {'_id': ObjectId('68c08e7f2616f22bbf877144'), 'uuid': 'e3338f1e8dbb11f090969e5d1605a090', 'basket_type': 'ch10', 'parent_uuids': [], 'ch10name': '652200104150842', 'max_altitude': 8700, 'max_speed': 1396, 'fuel_burned': 6676}]\n",
      "50\n"
     ]
    }
   ],
   "source": [
    "# Printing out the first 3 items in the metadata collection\n",
    "print(list(metadata_collection.find({}))[0:3])\n",
    "print(metadata_collection.count_documents({}))"
   ]
  },
  {
   "cell_type": "code",
   "execution_count": 12,
   "id": "9cf2c9e5-8550-413b-b150-494607d63523",
   "metadata": {},
   "outputs": [
    {
     "name": "stdout",
     "output_type": "stream",
     "text": [
      "[{'_id': ObjectId('68c08e7f3d06b4cc72c28fbd'), 'uuid': 'e3103a6e8dbb11f090969e5d1605a090', 'upload_time': '2025-09-09T20:30:55.646987+00:00', 'parent_uuids': [], 'basket_type': 'ch10', 'label': '', 'weave_version': '1.15.2'}, {'_id': ObjectId('68c08e7f3d06b4cc72c28fbf'), 'uuid': 'e327afe68dbb11f090969e5d1605a090', 'upload_time': '2025-09-09T20:30:55.794505+00:00', 'parent_uuids': [], 'basket_type': 'ch10', 'label': '', 'weave_version': '1.15.2'}, {'_id': ObjectId('68c08e7f3d06b4cc72c28fc1'), 'uuid': 'e3338f1e8dbb11f090969e5d1605a090', 'upload_time': '2025-09-09T20:30:55.871751+00:00', 'parent_uuids': [], 'basket_type': 'ch10', 'label': '', 'weave_version': '1.15.2'}]\n",
      "50\n"
     ]
    }
   ],
   "source": [
    "# Printing out the first 3 items in the manifest collection\n",
    "print(list(manifest_collection.find({}))[0:3])\n",
    "print(manifest_collection.count_documents({}))"
   ]
  },
  {
   "cell_type": "code",
   "execution_count": 13,
   "id": "7209416a-f400-457a-a450-39aa896a60b9",
   "metadata": {},
   "outputs": [
    {
     "name": "stdout",
     "output_type": "stream",
     "text": [
      "[{'_id': ObjectId('68c08e7f3d06b4cc72c28fbe'), 'uuid': 'e3103a6e8dbb11f090969e5d1605a090', 'basket_type': 'ch10', 'integrity_data': [{'file_size': 1024780, 'hash': '29b43ef8fe61d0077138f04b2570f6bc311255aa90ac6caedb07827ec2704c7c', 'access_date': '2025-09-09T20:30:55.646967+00:00', 'source_path': '/home/jovyan/opal/resources/652200104150842.ch10', 'byte_count': 100000000, 'stub': True, 'upload_path': 'stub'}], 'upload_items': [{'path': '/home/jovyan/opal/resources/652200104150842.ch10', 'stub': True}]}, {'_id': ObjectId('68c08e7f3d06b4cc72c28fc0'), 'uuid': 'e327afe68dbb11f090969e5d1605a090', 'basket_type': 'ch10', 'integrity_data': [{'file_size': 1024780, 'hash': '29b43ef8fe61d0077138f04b2570f6bc311255aa90ac6caedb07827ec2704c7c', 'access_date': '2025-09-09T20:30:55.794488+00:00', 'source_path': '/home/jovyan/opal/resources/652200104150842.ch10', 'byte_count': 100000000, 'stub': True, 'upload_path': 'stub'}], 'upload_items': [{'path': '/home/jovyan/opal/resources/652200104150842.ch10', 'stub': True}]}, {'_id': ObjectId('68c08e7f3d06b4cc72c28fc2'), 'uuid': 'e3338f1e8dbb11f090969e5d1605a090', 'basket_type': 'ch10', 'integrity_data': [{'file_size': 1024780, 'hash': '29b43ef8fe61d0077138f04b2570f6bc311255aa90ac6caedb07827ec2704c7c', 'access_date': '2025-09-09T20:30:55.871736+00:00', 'source_path': '/home/jovyan/opal/resources/652200104150842.ch10', 'byte_count': 100000000, 'stub': True, 'upload_path': 'stub'}], 'upload_items': [{'path': '/home/jovyan/opal/resources/652200104150842.ch10', 'stub': True}]}]\n",
      "50\n"
     ]
    }
   ],
   "source": [
    "# Printing out the first 3 items in the supplement collection\n",
    "print(list(supplement_collection.find({}))[0:3])\n",
    "print(supplement_collection.count_documents({}))"
   ]
  },
  {
   "cell_type": "code",
   "execution_count": 14,
   "id": "d74ed244-2bee-441c-bcc5-993c4e4f150e",
   "metadata": {},
   "outputs": [
    {
     "name": "stdout",
     "output_type": "stream",
     "text": [
      "{'_id': ObjectId('68c08e7f3d06b4cc72c28fbd'), 'uuid': 'e3103a6e8dbb11f090969e5d1605a090', 'upload_time': '2025-09-09T20:30:55.646987+00:00', 'parent_uuids': [], 'basket_type': 'ch10', 'label': '', 'weave_version': '1.15.2'}\n"
     ]
    }
   ],
   "source": [
    "# Find one item with a basket_type of ch10 in the manifest collection\n",
    "# This is more efficiently done using weave indexing\n",
    "ch10_find_one = manifest_collection.find_one({\"basket_type\": \"ch10\"})\n",
    "print(ch10_find_one)"
   ]
  },
  {
   "cell_type": "code",
   "execution_count": 15,
   "id": "4dd105cf-e947-428f-bbf2-1efc9efc35b7",
   "metadata": {},
   "outputs": [
    {
     "name": "stdout",
     "output_type": "stream",
     "text": [
      "Weave version 1.15.2\n",
      "{'_id': ObjectId('68c08e7f3d06b4cc72c28fbd'), 'uuid': 'e3103a6e8dbb11f090969e5d1605a090', 'upload_time': '2025-09-09T20:30:55.646987+00:00', 'parent_uuids': [], 'basket_type': 'ch10', 'label': '', 'weave_version': '1.15.2'}\n",
      "{'_id': ObjectId('68c08e7f3d06b4cc72c28fbf'), 'uuid': 'e327afe68dbb11f090969e5d1605a090', 'upload_time': '2025-09-09T20:30:55.794505+00:00', 'parent_uuids': [], 'basket_type': 'ch10', 'label': '', 'weave_version': '1.15.2'}\n",
      "{'_id': ObjectId('68c08e7f3d06b4cc72c28fc1'), 'uuid': 'e3338f1e8dbb11f090969e5d1605a090', 'upload_time': '2025-09-09T20:30:55.871751+00:00', 'parent_uuids': [], 'basket_type': 'ch10', 'label': '', 'weave_version': '1.15.2'}\n",
      "{'_id': ObjectId('68c08e803d06b4cc72c28fc3'), 'uuid': 'e34025448dbb11f090969e5d1605a090', 'upload_time': '2025-09-09T20:30:55.954158+00:00', 'parent_uuids': [], 'basket_type': 'ch10', 'label': '', 'weave_version': '1.15.2'}\n",
      "{'_id': ObjectId('68c08e803d06b4cc72c28fc5'), 'uuid': 'e34eb7128dbb11f090969e5d1605a090', 'upload_time': '2025-09-09T20:30:56.049190+00:00', 'parent_uuids': [], 'basket_type': 'ch10', 'label': '', 'weave_version': '1.15.2'}\n",
      "Weave version 589.13.4\n"
     ]
    }
   ],
   "source": [
    "# Print all of the items that has a weave version of 1.14.2 in the manifest collection\n",
    "# This is more efficiently done using weave indexing\n",
    "print(f\"Weave version {current_weave_version}\")\n",
    "for doc in manifest_collection.find({\"weave_version\": current_weave_version}).limit(5):\n",
    "    print(doc)\n",
    "\n",
    "# Different weave version not in data\n",
    "# Nothing was printed because nothing with weave version 589.13.4\n",
    "print(\"Weave version 589.13.4\")\n",
    "for doc in manifest_collection.find({\"weave_version\": \"589.13.4\"}).limit(5):\n",
    "    print(doc)"
   ]
  },
  {
   "cell_type": "code",
   "execution_count": 16,
   "id": "991cd0e4-253c-4533-98e1-7fae8735c48d",
   "metadata": {},
   "outputs": [
    {
     "name": "stdout",
     "output_type": "stream",
     "text": [
      "<pymongo.synchronous.cursor.Cursor object at 0x749b2e4f0b60>\n",
      "50\n",
      "e3103a6e8dbb11f090969e5d1605a090\n",
      "e327afe68dbb11f090969e5d1605a090\n",
      "e3338f1e8dbb11f090969e5d1605a090\n",
      "e34025448dbb11f090969e5d1605a090\n",
      "e34eb7128dbb11f090969e5d1605a090\n"
     ]
    }
   ],
   "source": [
    "# Getting uuid for each item in the manifest collection\n",
    "all_uuids_find = manifest_collection.find({}, {'uuid': True})\n",
    "print(all_uuids_find)\n",
    "print(len(list(all_uuids_find.clone())))\n",
    "\n",
    "for i in range(0, 5):\n",
    "    print(all_uuids_find[i]['uuid'])"
   ]
  },
  {
   "cell_type": "code",
   "execution_count": 17,
   "id": "8a33d1b2-0138-4ce9-8b6b-57a02cb95b2e",
   "metadata": {},
   "outputs": [
    {
     "name": "stdout",
     "output_type": "stream",
     "text": [
      "e3103a6e8dbb11f090969e5d1605a090\n",
      "e327afe68dbb11f090969e5d1605a090\n",
      "e3338f1e8dbb11f090969e5d1605a090\n",
      "e34025448dbb11f090969e5d1605a090\n",
      "e34eb7128dbb11f090969e5d1605a090\n"
     ]
    }
   ],
   "source": [
    "# Printing out all the uuids for each item in the manifest collection using the find() function in a different way\n",
    "for i in range(0, 5):\n",
    "    object_id = manifest_collection.find()[i]['uuid']\n",
    "    print(object_id)\n",
    "\n",
    "# Can be done this way, but do not want to print out all uuids\n",
    "# for document in manifest_collection.find():\n",
    "#     object_id = document['uuid']\n",
    "#     print(object_id)"
   ]
  },
  {
   "cell_type": "code",
   "execution_count": 18,
   "id": "0368eeac-bf87-4ec9-bdc4-9fd24c572297",
   "metadata": {},
   "outputs": [
    {
     "name": "stdout",
     "output_type": "stream",
     "text": [
      "50\n",
      "['14f9aba48dc211f085af662dec570ff3', '15138c868dc211f085af662dec570ff3', '1529aaf28dc211f085af662dec570ff3', '153bbecc8dc211f085af662dec570ff3', '154d3f9e8dc211f085af662dec570ff3', '155f50268dc211f085af662dec570ff3', '1570fa248dc211f085af662dec570ff3', '158219588dc211f085af662dec570ff3', '159398228dc211f085af662dec570ff3', '15a47d5e8dc211f085af662dec570ff3']\n"
     ]
    }
   ],
   "source": [
    "# Another example to get uuids by using the distinct function to get all uuids (trivial example to show some different functions,\n",
    "# since all uuids are distinct)\n",
    "manifest_ids = manifest_collection.distinct('uuid')\n",
    "print(len(manifest_ids))\n",
    "print(manifest_ids[0:10])"
   ]
  },
  {
   "cell_type": "markdown",
   "id": "814e9a7c-256a-43e9-b595-928e6fa883d4",
   "metadata": {},
   "source": [
    "# Less trival examples"
   ]
  },
  {
   "cell_type": "code",
   "execution_count": 19,
   "id": "d9e39ff7-9ec0-42ac-9ab9-0128c48794ce",
   "metadata": {},
   "outputs": [
    {
     "name": "stdout",
     "output_type": "stream",
     "text": [
      "There are 7 out of 50 documents that satisfy the above query\n",
      "Those documents' uuid's are \n",
      "[{'_id': ObjectId('68c08e802616f22bbf87717c'), 'uuid': 'e3a93ef88dbb11f090969e5d1605a090', 'basket_type': 'ch10', 'parent_uuids': [], 'ch10name': '652200104150842', 'max_altitude': 11500, 'max_speed': 1339, 'fuel_burned': 7122}, {'_id': ObjectId('68c08e812616f22bbf877191'), 'uuid': 'e3d80c608dbb11f090969e5d1605a090', 'basket_type': 'ch10', 'parent_uuids': [], 'ch10name': '652200104150842', 'max_altitude': 12550, 'max_speed': 1368, 'fuel_burned': 6742}, {'_id': ObjectId('68c08e812616f22bbf8771bb'), 'uuid': 'e437dfaa8dbb11f090969e5d1605a090', 'basket_type': 'ch10', 'parent_uuids': [], 'ch10name': '652200104150842', 'max_altitude': 14650, 'max_speed': 1348, 'fuel_burned': 6690}, {'_id': ObjectId('68c08e822616f22bbf8771d0'), 'uuid': 'e46ac5968dbb11f090969e5d1605a090', 'basket_type': 'ch10', 'parent_uuids': [], 'ch10name': '652200104150842', 'max_altitude': 15700, 'max_speed': 1211, 'fuel_burned': 6129}, {'_id': ObjectId('68c08e822616f22bbf8771d7'), 'uuid': 'e47cc1108dbb11f090969e5d1605a090', 'basket_type': 'ch10', 'parent_uuids': [], 'ch10name': '652200104150842', 'max_altitude': 16050, 'max_speed': 1342, 'fuel_burned': 6107}, {'_id': ObjectId('68c098e55b39e650a1c6d7fa'), 'uuid': '158219588dc211f085af662dec570ff3', 'basket_type': 'ch10', 'parent_uuids': [], 'ch10name': '652200104150842', 'max_altitude': 10450, 'max_speed': 1436, 'fuel_burned': 7384}, {'_id': ObjectId('68c098e65b39e650a1c6d839'), 'uuid': '1626d4988dc211f085af662dec570ff3', 'basket_type': 'ch10', 'parent_uuids': [], 'ch10name': '652200104150842', 'max_altitude': 13600, 'max_speed': 1448, 'fuel_burned': 7322}]\n"
     ]
    }
   ],
   "source": [
    "# Getting all documents' uuid's in metadata_collection that follows the query below\n",
    "# max_altitude > 10_000\n",
    "# max_speed < 1_450\n",
    "# fuel_burned >= 6_000 and <= 8_000\n",
    "query = {\"max_altitude\": {\"$gt\": 10_000}, \"max_speed\": {\"$lt\": 1_450}, \"fuel_burned\": {\"$gte\": 6_000, \"$lte\": 8_000}}\n",
    "\n",
    "# Querying data like this is the main purpose of using a mongo db\n",
    "# Upload baskets with metadata to a pantry, and query the metadata using mongo.\n",
    "doc_uuids = list(metadata_collection.find(query))\n",
    "\n",
    "print(f\"There are {len(doc_uuids)} out of {metadata_collection.count_documents({})} documents that satisfy the above query\")\n",
    "print(f\"Those documents' uuid's are \\n{doc_uuids}\")"
   ]
  },
  {
   "cell_type": "markdown",
   "id": "6f1ffb6b-9d99-4509-88cf-16850a0abb78",
   "metadata": {},
   "source": [
    "More on how to query collections can be found\n",
    "<a href=\"https://www.w3schools.com/python/python_mongodb_query.asp\">here</a>."
   ]
  },
  {
   "cell_type": "code",
   "execution_count": 20,
   "id": "1de41344-72f8-48d0-bbe9-2b34239df6c7",
   "metadata": {},
   "outputs": [
    {
     "name": "stdout",
     "output_type": "stream",
     "text": [
      "50\n"
     ]
    }
   ],
   "source": [
    "# 25 documents have metadata (metadata was entered when it was uploaded to the basket)\n",
    "# 2 documents do not have metadata\n",
    "print(metadata_collection.count_documents({}))"
   ]
  },
  {
   "cell_type": "code",
   "execution_count": 21,
   "id": "61995124-5d1b-41b0-a0ee-8c01005666ad",
   "metadata": {},
   "outputs": [],
   "source": [
    "# Adding more data\n",
    "# Automatically gets uploaded to the mongo_db with basket_type ch10_2 (ch10 for the previous time data was uploaded)\n",
    "max_altitude = 8_000\n",
    "for i in range(0,25):\n",
    "    max_speed = math.floor(900 * random.uniform(1, 2.1))\n",
    "    fuel_burned = math.floor(max_speed * random.uniform(4.5, 5.2) + random.uniform(-150, 250))\n",
    "    demo_pantry.upload_basket(\n",
    "        upload_items=[{'path': '/home/jovyan/opal/resources/652200104150842.ch10', 'stub': True}],\n",
    "        basket_type='ch10_2',\n",
    "        metadata = {'ch10name': '652200104150842', 'max_altitude': max_altitude, 'max_speed': max_speed, 'fuel_burned': fuel_burned},\n",
    "    )\n",
    "    max_altitude += 350"
   ]
  },
  {
   "cell_type": "code",
   "execution_count": 22,
   "id": "40a5f491-25da-458f-847d-07e606f86f6c",
   "metadata": {},
   "outputs": [
    {
     "data": {
      "text/html": [
       "<div>\n",
       "<style scoped>\n",
       "    .dataframe tbody tr th:only-of-type {\n",
       "        vertical-align: middle;\n",
       "    }\n",
       "\n",
       "    .dataframe tbody tr th {\n",
       "        vertical-align: top;\n",
       "    }\n",
       "\n",
       "    .dataframe thead th {\n",
       "        text-align: right;\n",
       "    }\n",
       "</style>\n",
       "<table border=\"1\" class=\"dataframe\">\n",
       "  <thead>\n",
       "    <tr style=\"text-align: right;\">\n",
       "      <th></th>\n",
       "      <th>uuid</th>\n",
       "      <th>upload_time</th>\n",
       "      <th>parent_uuids</th>\n",
       "      <th>basket_type</th>\n",
       "      <th>label</th>\n",
       "      <th>weave_version</th>\n",
       "      <th>address</th>\n",
       "      <th>storage_type</th>\n",
       "    </tr>\n",
       "  </thead>\n",
       "  <tbody>\n",
       "    <tr>\n",
       "      <th>0</th>\n",
       "      <td>e3103a6e8dbb11f090969e5d1605a090</td>\n",
       "      <td>2025-09-09 20:30:55.646987+00:00</td>\n",
       "      <td>[]</td>\n",
       "      <td>ch10</td>\n",
       "      <td></td>\n",
       "      <td>1.15.2</td>\n",
       "      <td>mongodb-demo/ch10/e3103a6e8dbb11f090969e5d1605...</td>\n",
       "      <td>S3FileSystem</td>\n",
       "    </tr>\n",
       "    <tr>\n",
       "      <th>1</th>\n",
       "      <td>e327afe68dbb11f090969e5d1605a090</td>\n",
       "      <td>2025-09-09 20:30:55.794505+00:00</td>\n",
       "      <td>[]</td>\n",
       "      <td>ch10</td>\n",
       "      <td></td>\n",
       "      <td>1.15.2</td>\n",
       "      <td>mongodb-demo/ch10/e327afe68dbb11f090969e5d1605...</td>\n",
       "      <td>S3FileSystem</td>\n",
       "    </tr>\n",
       "    <tr>\n",
       "      <th>2</th>\n",
       "      <td>e3338f1e8dbb11f090969e5d1605a090</td>\n",
       "      <td>2025-09-09 20:30:55.871751+00:00</td>\n",
       "      <td>[]</td>\n",
       "      <td>ch10</td>\n",
       "      <td></td>\n",
       "      <td>1.15.2</td>\n",
       "      <td>mongodb-demo/ch10/e3338f1e8dbb11f090969e5d1605...</td>\n",
       "      <td>S3FileSystem</td>\n",
       "    </tr>\n",
       "    <tr>\n",
       "      <th>3</th>\n",
       "      <td>e34025448dbb11f090969e5d1605a090</td>\n",
       "      <td>2025-09-09 20:30:55.954158+00:00</td>\n",
       "      <td>[]</td>\n",
       "      <td>ch10</td>\n",
       "      <td></td>\n",
       "      <td>1.15.2</td>\n",
       "      <td>mongodb-demo/ch10/e34025448dbb11f090969e5d1605...</td>\n",
       "      <td>S3FileSystem</td>\n",
       "    </tr>\n",
       "    <tr>\n",
       "      <th>4</th>\n",
       "      <td>e34eb7128dbb11f090969e5d1605a090</td>\n",
       "      <td>2025-09-09 20:30:56.049190+00:00</td>\n",
       "      <td>[]</td>\n",
       "      <td>ch10</td>\n",
       "      <td></td>\n",
       "      <td>1.15.2</td>\n",
       "      <td>mongodb-demo/ch10/e34eb7128dbb11f090969e5d1605...</td>\n",
       "      <td>S3FileSystem</td>\n",
       "    </tr>\n",
       "  </tbody>\n",
       "</table>\n",
       "</div>"
      ],
      "text/plain": [
       "                               uuid                      upload_time  \\\n",
       "0  e3103a6e8dbb11f090969e5d1605a090 2025-09-09 20:30:55.646987+00:00   \n",
       "1  e327afe68dbb11f090969e5d1605a090 2025-09-09 20:30:55.794505+00:00   \n",
       "2  e3338f1e8dbb11f090969e5d1605a090 2025-09-09 20:30:55.871751+00:00   \n",
       "3  e34025448dbb11f090969e5d1605a090 2025-09-09 20:30:55.954158+00:00   \n",
       "4  e34eb7128dbb11f090969e5d1605a090 2025-09-09 20:30:56.049190+00:00   \n",
       "\n",
       "  parent_uuids basket_type label weave_version  \\\n",
       "0           []        ch10              1.15.2   \n",
       "1           []        ch10              1.15.2   \n",
       "2           []        ch10              1.15.2   \n",
       "3           []        ch10              1.15.2   \n",
       "4           []        ch10              1.15.2   \n",
       "\n",
       "                                             address  storage_type  \n",
       "0  mongodb-demo/ch10/e3103a6e8dbb11f090969e5d1605...  S3FileSystem  \n",
       "1  mongodb-demo/ch10/e327afe68dbb11f090969e5d1605...  S3FileSystem  \n",
       "2  mongodb-demo/ch10/e3338f1e8dbb11f090969e5d1605...  S3FileSystem  \n",
       "3  mongodb-demo/ch10/e34025448dbb11f090969e5d1605...  S3FileSystem  \n",
       "4  mongodb-demo/ch10/e34eb7128dbb11f090969e5d1605...  S3FileSystem  "
      ]
     },
     "execution_count": 22,
     "metadata": {},
     "output_type": "execute_result"
    }
   ],
   "source": [
    "# Pandas df representation\n",
    "index = demo_pantry.index\n",
    "index_df = index.to_pandas_df()\n",
    "index_df.head()"
   ]
  },
  {
   "cell_type": "code",
   "execution_count": 23,
   "id": "e836fce5-4d04-4b72-b42b-566f56ab1ea7",
   "metadata": {},
   "outputs": [
    {
     "name": "stdout",
     "output_type": "stream",
     "text": [
      "Index length: 75\n"
     ]
    },
    {
     "data": {
      "text/plain": [
       "basket_type\n",
       "ch10      50\n",
       "ch10_2    25\n",
       "Name: count, dtype: int64"
      ]
     },
     "execution_count": 23,
     "metadata": {},
     "output_type": "execute_result"
    }
   ],
   "source": [
    "# The 25 items are in minio as ch10_2 basket type\n",
    "print(f\"Index length: {len(index)}\")\n",
    "index_df.basket_type.value_counts()"
   ]
  },
  {
   "cell_type": "code",
   "execution_count": 24,
   "id": "698f2c0a-3f01-42e8-b107-c783035b8209",
   "metadata": {},
   "outputs": [
    {
     "name": "stdout",
     "output_type": "stream",
     "text": [
      "75\n"
     ]
    }
   ],
   "source": [
    "# Those 25 items uploaded to minio are also in the mongo_db\n",
    "# There are 50 documents that have a metadata collection\n",
    "metadata_collection = mongo_db[mongo_loader.metadata_collection]\n",
    "print(metadata_collection.count_documents({}))"
   ]
  },
  {
   "cell_type": "code",
   "execution_count": 25,
   "id": "17eca168-0bf6-4d75-bfbc-57fe6fd58e67",
   "metadata": {},
   "outputs": [
    {
     "name": "stdout",
     "output_type": "stream",
     "text": [
      "There are 10 out of 75 documents that satisfy the above query\n",
      "Those documents' uuid's are \n",
      "[{'uuid': 'e3a93ef88dbb11f090969e5d1605a090'}, {'uuid': 'e3d80c608dbb11f090969e5d1605a090'}, {'uuid': 'e437dfaa8dbb11f090969e5d1605a090'}, {'uuid': 'e46ac5968dbb11f090969e5d1605a090'}, {'uuid': 'e47cc1108dbb11f090969e5d1605a090'}, {'uuid': '158219588dc211f085af662dec570ff3'}, {'uuid': '1626d4988dc211f085af662dec570ff3'}, {'uuid': '17cbfe9a8dc211f085af662dec570ff3'}, {'uuid': '18262e608dc211f085af662dec570ff3'}, {'uuid': '18d688788dc211f085af662dec570ff3'}]\n"
     ]
    }
   ],
   "source": [
    "# Lets see how many documents satisfy the same query\n",
    "# Include uuid column exclude _id column (_id column gets automatically put into the list)\n",
    "projection = {\"uuid\": 1, \"_id\": 0}\n",
    "doc_uuids = list(metadata_collection.find(query, projection))\n",
    "\n",
    "print(f\"There are {len(doc_uuids)} out of {metadata_collection.count_documents({})} documents that satisfy the above query\")\n",
    "print(f\"Those documents' uuid's are \\n{doc_uuids}\")"
   ]
  },
  {
   "cell_type": "markdown",
   "id": "91b34b42-0595-4c2c-8a89-887aa25b372f",
   "metadata": {},
   "source": [
    "# Graph the Data"
   ]
  },
  {
   "cell_type": "code",
   "execution_count": 26,
   "id": "08bf11c7-224c-4400-9211-8bc73a39d8d2",
   "metadata": {},
   "outputs": [],
   "source": [
    "labels = []\n",
    "max_speed_data = []\n",
    "fuel_burned_data = []\n",
    "max_altitude_data = []\n",
    "# Making the list of dictionaries just of list of uuids\n",
    "doc_uuids = [d['uuid'] for d in doc_uuids]\n",
    "\n",
    "# Get data for the graph\n",
    "for doc in metadata_collection.find():\n",
    "    # If it satisfied the query from above then add True to label\n",
    "    # This is so we can have those labels be a different color from the rest\n",
    "    if doc['uuid'] in doc_uuids:\n",
    "        labels.append(True)\n",
    "    else:\n",
    "        labels.append(False)\n",
    "    max_speed_data.append(doc['max_speed'])\n",
    "    fuel_burned_data.append(doc['fuel_burned'])\n",
    "    max_altitude_data.append(doc['max_altitude'])"
   ]
  },
  {
   "cell_type": "code",
   "execution_count": 27,
   "id": "c205a01b-20c5-4292-a9d1-171cdc614cd1",
   "metadata": {},
   "outputs": [
    {
     "data": {
      "image/png": "[encoded data removed]",
      "text/plain": [
       "<Figure size 640x480 with 1 Axes>"
      ]
     },
     "metadata": {},
     "output_type": "display_data"
    }
   ],
   "source": [
    "# Create 3d axes\n",
    "fig = plt.figure()\n",
    "ax = plt.axes(projection='3d')\n",
    " \n",
    "# Data\n",
    "x = fuel_burned_data\n",
    "y = max_speed_data\n",
    "z = max_altitude_data\n",
    "colors = ['green' if label == True else 'red' for label in labels]\n",
    "ax.scatter(x, y, z, c=colors)\n",
    "\n",
    "ax.set_title('Graphing Metadata', fontsize=12)\n",
    "ax.set_xlabel('Fuel Burned', fontsize=12)\n",
    "ax.set_ylabel('Max Speed', fontsize=12)\n",
    "ax.set_zlabel('Max Altitude', fontsize=12)\n",
    " \n",
    "plt.show()"
   ]
  },
  {
   "cell_type": "markdown",
   "id": "ec150141-9c76-4541-9cd4-78ee3d21ea74",
   "metadata": {},
   "source": [
    "# Inserting More Data"
   ]
  },
  {
   "cell_type": "code",
   "execution_count": 28,
   "id": "1fec5512-6527-4924-8c71-c39a9f153da4",
   "metadata": {},
   "outputs": [],
   "source": [
    "# Uploading baskets to the demo_pantry while not giving weave.Pantry a mongo_client\n",
    "demo_pantry = weave.Pantry(\n",
    "    weave.IndexPandas,\n",
    "    pantry_path=demo_pantry_path,\n",
    "    file_system=s3fs.S3FileSystem(client_kwargs = {'endpoint_url': os.environ['S3_ENDPOINT']}),\n",
    ")\n",
    "\n",
    "demo_index = demo_pantry.index\n",
    "\n",
    "for i in range(0,5):\n",
    "    demo_pantry.upload_basket(\n",
    "        upload_items=[{'path': '/home/jovyan/opal/resources/652200104150842.ch10', 'stub': True}],\n",
    "        basket_type='ex1',\n",
    "        metadata = {'max_altitude': 8_000, 'max_speed': 1_250, 'fuel_burned': 5_000},\n",
    "    )"
   ]
  },
  {
   "cell_type": "code",
   "execution_count": 29,
   "id": "75991cec-3c38-41b3-a1ff-0e36b1343bcd",
   "metadata": {},
   "outputs": [
    {
     "data": {
      "text/plain": [
       "80"
      ]
     },
     "execution_count": 29,
     "metadata": {},
     "output_type": "execute_result"
    }
   ],
   "source": [
    "# Pandas df representation\n",
    "# New items are recognized by the index and are at the bottom of the dataframe if displaying index_df\n",
    "index = demo_pantry.index\n",
    "index_df = demo_pantry.index.to_pandas_df()\n",
    "len(index_df)"
   ]
  },
  {
   "cell_type": "code",
   "execution_count": 30,
   "id": "3c1f9d84-f49e-4505-ab3d-ad1932f24e30",
   "metadata": {},
   "outputs": [
    {
     "name": "stdout",
     "output_type": "stream",
     "text": [
      "75\n"
     ]
    }
   ],
   "source": [
    "# Will be at 50 since the new data was not uploaded to the mongo database because weave.Pantry was not given a mongo_client\n",
    "metadata_collection = mongo_db[mongo_loader.metadata_collection]\n",
    "print(metadata_collection.count_documents({}))"
   ]
  },
  {
   "cell_type": "code",
   "execution_count": 31,
   "id": "7caaa7db-39d1-46a2-9e93-bad113273954",
   "metadata": {},
   "outputs": [
    {
     "name": "stdout",
     "output_type": "stream",
     "text": [
      "Index length: 80\n"
     ]
    },
    {
     "data": {
      "text/plain": [
       "basket_type\n",
       "ch10      50\n",
       "ch10_2    25\n",
       "ex1        5\n",
       "Name: count, dtype: int64"
      ]
     },
     "execution_count": 31,
     "metadata": {},
     "output_type": "execute_result"
    }
   ],
   "source": [
    "# The ex1 basket is in minio but not in mongo database because length is 55\n",
    "print(f\"Index length: {len(index)}\")\n",
    "index_df.basket_type.value_counts()"
   ]
  },
  {
   "cell_type": "code",
   "execution_count": 32,
   "id": "27355bf7-f64c-4c9e-abe4-cf7259a7df98",
   "metadata": {},
   "outputs": [
    {
     "name": "stdout",
     "output_type": "stream",
     "text": [
      "['194e23748dc211f085af662dec570ff3', '19cc1e328dc211f085af662dec570ff3', '19d81f488dc211f085af662dec570ff3', '19e40d8a8dc211f085af662dec570ff3', '19f069228dc211f085af662dec570ff3']\n",
      "5\n"
     ]
    }
   ],
   "source": [
    "# Getting the uuids from the newly created baskets\n",
    "# The newly created baskets are all of basket type 'ex1'\n",
    "# This line of code is just pandas df code (no weave or opal specific fucntions)\n",
    "ex1_uuids = list((index_df.loc[index_df['basket_type']=='ex1', 'uuid']))\n",
    "print(ex1_uuids)\n",
    "print(len(ex1_uuids))"
   ]
  },
  {
   "cell_type": "code",
   "execution_count": 33,
   "id": "cdea8411-f796-42ef-8489-c64a71e0e6a9",
   "metadata": {},
   "outputs": [],
   "source": [
    "# Uploading items to the mongo database manually (items' uuid to upload to mongo is required)\n",
    "mongo_loader.load_mongo(ex1_uuids)"
   ]
  },
  {
   "cell_type": "code",
   "execution_count": 34,
   "id": "80c90fe5-fa93-4f31-a2ee-2f201449d94a",
   "metadata": {},
   "outputs": [
    {
     "name": "stdout",
     "output_type": "stream",
     "text": [
      "80\n"
     ]
    }
   ],
   "source": [
    "# Will be 55 since the documents were uploaded to the mongo database\n",
    "metadata_collection = mongo_db[mongo_loader.metadata_collection]\n",
    "print(metadata_collection.count_documents({}))"
   ]
  },
  {
   "cell_type": "markdown",
   "id": "cb293f95-c3af-4d61-a91e-f491a20f8f50",
   "metadata": {},
   "source": [
    "# Cleanup"
   ]
  },
  {
   "cell_type": "code",
   "execution_count": 35,
   "id": "76a31149-38c5-48a2-a368-7623bc8e72d5",
   "metadata": {},
   "outputs": [],
   "source": [
    "# Deleting the pantry\n",
    "s3 = s3fs.S3FileSystem(client_kwargs = {'endpoint_url': os.environ['S3_ENDPOINT']})\n",
    "if s3.exists(demo_pantry_path):\n",
    "    s3.rm(f's3://{demo_pantry_path}', recursive = True)\n",
    "s3.mkdir(demo_pantry_path)"
   ]
  },
  {
   "cell_type": "code",
   "execution_count": 36,
   "id": "f35c7998-0b26-470b-b613-0d079917f90e",
   "metadata": {},
   "outputs": [],
   "source": [
    "# Clearing mongo database\n",
    "mongo_loader.clear_mongo()"
   ]
  }
 ],
 "metadata": {
  "kernelspec": {
   "display_name": "Python [conda env:singleuser] *",
   "language": "python",
   "name": "conda-env-singleuser-py"
  },
  "language_info": {
   "codemirror_mode": {
    "name": "ipython",
    "version": 3
   },
   "file_extension": ".py",
   "mimetype": "text/x-python",
   "name": "python",
   "nbconvert_exporter": "python",
   "pygments_lexer": "ipython3",
   "version": "3.12.10"
  }
 },
 "nbformat": 4,
 "nbformat_minor": 5
}
