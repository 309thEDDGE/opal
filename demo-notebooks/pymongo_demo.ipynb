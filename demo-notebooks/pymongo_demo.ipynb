{
 "cells": [
  {
   "cell_type": "markdown",
   "id": "54c4160a-207c-4b96-a041-ffde07155be3",
   "metadata": {},
   "source": [
    "# Set Up and Getting Data Ready"
   ]
  },
  {
   "cell_type": "code",
   "execution_count": 1,
   "id": "2e97ab16-9e65-47bc-b70a-82704fa46e59",
   "metadata": {},
   "outputs": [],
   "source": [
    "import os\n",
    "import s3fs\n",
    "import math\n",
    "import weave\n",
    "import random\n",
    "import matplotlib.pyplot as plt\n",
    "\n",
    "from weave.pantry import Pantry\n",
    "from mpl_toolkits import mplot3d\n",
    "from weave.mongo_loader import MongoLoader\n",
    "from weave.index.index_pandas import IndexPandas"
   ]
  },
  {
   "cell_type": "code",
   "execution_count": 2,
   "id": "1ba4a563-694b-41dd-b2a9-a9dcd55d27d3",
   "metadata": {},
   "outputs": [],
   "source": [
    "# this is a function built in house (part of the weave library)\n",
    "client = weave.config.get_mongo_db()\n",
    "\n",
    "# create a pantry\n",
    "# include mongo_client variable to upload mongo data\n",
    "# this is a function built in house (part of the weave library)\n",
    "demo_pantry_path = \"mongodb-demo\"\n",
    "demo_pantry = weave.Pantry(\n",
    "    weave.IndexPandas,\n",
    "    pantry_path=demo_pantry_path,\n",
    "    file_system=s3fs.S3FileSystem(client_kwargs = {'endpoint_url': os.environ['S3_ENDPOINT']}),\n",
    "    mongo_client=client,\n",
    ")"
   ]
  },
  {
   "cell_type": "code",
   "execution_count": 3,
   "id": "4a29d874-3bf4-4334-bd8b-08c795a05745",
   "metadata": {},
   "outputs": [],
   "source": [
    "# generating some more interesting data\n",
    "# The purpose of metadata is to store a snap shot of the entire dataset. In this trivial example there is the altitude, and speed for\n",
    "# every second of a 2 hour flight. There is also a singular data point of how much fuel was burned. A big purpose of using pymongo is \n",
    "# to store some interesting data points about the data so there is a quick snapshot of the whole dataset. Faster to query singular\n",
    "# data points such as max_altitude to know more about a particular dataset rather than looking at every altitude data point.\n",
    "max_altitude = 8_000\n",
    "for i in range(0,25):\n",
    "    max_speed = math.floor(900 * random.uniform(1, 2.1))\n",
    "    fuel_burned = math.floor(max_speed * random.uniform(4.5, 5.2) + random.uniform(-150, 250))\n",
    "    demo_pantry.upload_basket(\n",
    "        upload_items=[{'path': '/home/jovyan/opal/resources/652200104150842.ch10', 'stub': True}],\n",
    "        basket_type='ch10',\n",
    "        metadata = {'ch10name': '652200104150842', 'max_altitude': max_altitude, 'max_speed': max_speed, 'fuel_burned': fuel_burned},\n",
    "    )\n",
    "    max_altitude += 350"
   ]
  },
  {
   "cell_type": "code",
   "execution_count": 4,
   "id": "380217f8-491d-44a8-a284-f5d98b91eea1",
   "metadata": {},
   "outputs": [
    {
     "data": {
      "text/html": [
       "<div>\n",
       "<style scoped>\n",
       "    .dataframe tbody tr th:only-of-type {\n",
       "        vertical-align: middle;\n",
       "    }\n",
       "\n",
       "    .dataframe tbody tr th {\n",
       "        vertical-align: top;\n",
       "    }\n",
       "\n",
       "    .dataframe thead th {\n",
       "        text-align: right;\n",
       "    }\n",
       "</style>\n",
       "<table border=\"1\" class=\"dataframe\">\n",
       "  <thead>\n",
       "    <tr style=\"text-align: right;\">\n",
       "      <th></th>\n",
       "      <th>uuid</th>\n",
       "      <th>upload_time</th>\n",
       "      <th>parent_uuids</th>\n",
       "      <th>basket_type</th>\n",
       "      <th>label</th>\n",
       "      <th>weave_version</th>\n",
       "      <th>address</th>\n",
       "      <th>storage_type</th>\n",
       "    </tr>\n",
       "  </thead>\n",
       "  <tbody>\n",
       "    <tr>\n",
       "      <th>0</th>\n",
       "      <td>a6d713cc56c211f0bee30242ac19000b</td>\n",
       "      <td>2025-07-01 21:30:47.145143+00:00</td>\n",
       "      <td>[]</td>\n",
       "      <td>ch10</td>\n",
       "      <td></td>\n",
       "      <td>1.13.2</td>\n",
       "      <td>mongodb-demo/ch10/a6d713cc56c211f0bee30242ac19...</td>\n",
       "      <td>S3FileSystem</td>\n",
       "    </tr>\n",
       "    <tr>\n",
       "      <th>1</th>\n",
       "      <td>a718bb1056c211f0bee30242ac19000b</td>\n",
       "      <td>2025-07-01 21:30:47.568976+00:00</td>\n",
       "      <td>[]</td>\n",
       "      <td>ch10</td>\n",
       "      <td></td>\n",
       "      <td>1.13.2</td>\n",
       "      <td>mongodb-demo/ch10/a718bb1056c211f0bee30242ac19...</td>\n",
       "      <td>S3FileSystem</td>\n",
       "    </tr>\n",
       "    <tr>\n",
       "      <th>2</th>\n",
       "      <td>a74ac5ec56c211f0bee30242ac19000b</td>\n",
       "      <td>2025-07-01 21:30:47.892626+00:00</td>\n",
       "      <td>[]</td>\n",
       "      <td>ch10</td>\n",
       "      <td></td>\n",
       "      <td>1.13.2</td>\n",
       "      <td>mongodb-demo/ch10/a74ac5ec56c211f0bee30242ac19...</td>\n",
       "      <td>S3FileSystem</td>\n",
       "    </tr>\n",
       "    <tr>\n",
       "      <th>3</th>\n",
       "      <td>a77a5d7a56c211f0bee30242ac19000b</td>\n",
       "      <td>2025-07-01 21:30:48.207460+00:00</td>\n",
       "      <td>[]</td>\n",
       "      <td>ch10</td>\n",
       "      <td></td>\n",
       "      <td>1.13.2</td>\n",
       "      <td>mongodb-demo/ch10/a77a5d7a56c211f0bee30242ac19...</td>\n",
       "      <td>S3FileSystem</td>\n",
       "    </tr>\n",
       "    <tr>\n",
       "      <th>4</th>\n",
       "      <td>a7b9d31a56c211f0bee30242ac19000b</td>\n",
       "      <td>2025-07-01 21:30:48.622041+00:00</td>\n",
       "      <td>[]</td>\n",
       "      <td>ch10</td>\n",
       "      <td></td>\n",
       "      <td>1.13.2</td>\n",
       "      <td>mongodb-demo/ch10/a7b9d31a56c211f0bee30242ac19...</td>\n",
       "      <td>S3FileSystem</td>\n",
       "    </tr>\n",
       "  </tbody>\n",
       "</table>\n",
       "</div>"
      ],
      "text/plain": [
       "                               uuid                      upload_time  \\\n",
       "0  a6d713cc56c211f0bee30242ac19000b 2025-07-01 21:30:47.145143+00:00   \n",
       "1  a718bb1056c211f0bee30242ac19000b 2025-07-01 21:30:47.568976+00:00   \n",
       "2  a74ac5ec56c211f0bee30242ac19000b 2025-07-01 21:30:47.892626+00:00   \n",
       "3  a77a5d7a56c211f0bee30242ac19000b 2025-07-01 21:30:48.207460+00:00   \n",
       "4  a7b9d31a56c211f0bee30242ac19000b 2025-07-01 21:30:48.622041+00:00   \n",
       "\n",
       "  parent_uuids basket_type label weave_version  \\\n",
       "0           []        ch10              1.13.2   \n",
       "1           []        ch10              1.13.2   \n",
       "2           []        ch10              1.13.2   \n",
       "3           []        ch10              1.13.2   \n",
       "4           []        ch10              1.13.2   \n",
       "\n",
       "                                             address  storage_type  \n",
       "0  mongodb-demo/ch10/a6d713cc56c211f0bee30242ac19...  S3FileSystem  \n",
       "1  mongodb-demo/ch10/a718bb1056c211f0bee30242ac19...  S3FileSystem  \n",
       "2  mongodb-demo/ch10/a74ac5ec56c211f0bee30242ac19...  S3FileSystem  \n",
       "3  mongodb-demo/ch10/a77a5d7a56c211f0bee30242ac19...  S3FileSystem  \n",
       "4  mongodb-demo/ch10/a7b9d31a56c211f0bee30242ac19...  S3FileSystem  "
      ]
     },
     "execution_count": 4,
     "metadata": {},
     "output_type": "execute_result"
    }
   ],
   "source": [
    "# ensure the index is up to date\n",
    "# updates the json files in the index folder in the bucket\n",
    "index = demo_pantry.index\n",
    "index.generate_index()\n",
    "\n",
    "# get the pandas df representation.\n",
    "index_df = index.to_pandas_df()\n",
    "index_df.head()"
   ]
  },
  {
   "cell_type": "code",
   "execution_count": 5,
   "id": "74e26fda-3f83-4e1b-b76b-a9bf0606a352",
   "metadata": {},
   "outputs": [
    {
     "name": "stdout",
     "output_type": "stream",
     "text": [
      "Index length: 25\n"
     ]
    },
    {
     "data": {
      "text/plain": [
       "basket_type\n",
       "ch10    25\n",
       "Name: count, dtype: int64"
      ]
     },
     "execution_count": 5,
     "metadata": {},
     "output_type": "execute_result"
    }
   ],
   "source": [
    "print(f\"Index length: {len(index)}\")\n",
    "# basket_type is a pandas function\n",
    "# https://pandas.pydata.org/docs/reference/api/pandas.Series.html\n",
    "# basket is a Series attribute\n",
    "index_df.basket_type.value_counts()"
   ]
  },
  {
   "cell_type": "markdown",
   "id": "3fcb094e-6961-4a02-a63e-52e29a91925b",
   "metadata": {},
   "source": [
    "# MongoDB Tutorial"
   ]
  },
  {
   "cell_type": "code",
   "execution_count": 6,
   "id": "6d131ea3-e140-4cfc-b369-d3de95ca2dce",
   "metadata": {},
   "outputs": [],
   "source": [
    "# initalizing a mongo database for the demo pantry\n",
    "# this is a function built in house (part of the weave library)\n",
    "# https://github.com/309thEDDGE/weave/blob/main/weave/mongo_loader.py\n",
    "# above is where most of the functions built in house for mongo is\n",
    "mongo = MongoLoader(pantry=demo_pantry, mongo_client=client)"
   ]
  },
  {
   "cell_type": "code",
   "execution_count": 7,
   "id": "5952612b-a822-4c6e-90cf-ad65b68547a6",
   "metadata": {},
   "outputs": [
    {
     "name": "stdout",
     "output_type": "stream",
     "text": [
      "mongodb-demo\n",
      "Database(MongoClient(host=['mongodb:27017'], document_class=dict, tz_aware=False, connect=True, timeoutms=0.0), 'mongodb-demo')\n"
     ]
    }
   ],
   "source": [
    "# printing the database name\n",
    "print(mongo.database_name)\n",
    "\n",
    "# setting a variable for the mongo database\n",
    "mongodb = mongo.database\n",
    "print(mongodb)"
   ]
  },
  {
   "cell_type": "code",
   "execution_count": 8,
   "id": "b8e8cd9b-ab65-4db2-af69-2985a30f352f",
   "metadata": {},
   "outputs": [
    {
     "name": "stdout",
     "output_type": "stream",
     "text": [
      "supplement\n",
      "manifest\n",
      "metadata\n"
     ]
    }
   ],
   "source": [
    "# this is not an extensive pymongo tutorial just a small introduction\n",
    "# getting collection names (similar to table names in a relational database)\n",
    "# list_collection_names() is a pymongo function\n",
    "collection_names = mongodb.list_collection_names()\n",
    "for name in collection_names:\n",
    "    print(name)"
   ]
  },
  {
   "cell_type": "code",
   "execution_count": 9,
   "id": "43c002bf-ca24-401d-a28f-a52c4b87dba4",
   "metadata": {},
   "outputs": [
    {
     "name": "stdout",
     "output_type": "stream",
     "text": [
      "Collection(Database(MongoClient(host=['mongodb:27017'], document_class=dict, tz_aware=False, connect=True, timeoutms=0.0), 'mongodb-demo'), 'manifest')\n",
      "25\n",
      "Collection(Database(MongoClient(host=['mongodb:27017'], document_class=dict, tz_aware=False, connect=True, timeoutms=0.0), 'mongodb-demo'), 'metadata')\n",
      "25\n",
      "Collection(Database(MongoClient(host=['mongodb:27017'], document_class=dict, tz_aware=False, connect=True, timeoutms=0.0), 'mongodb-demo'), 'supplement')\n",
      "25\n"
     ]
    }
   ],
   "source": [
    "# getting each collection its own variable\n",
    "# mongo.xxx_collection is part of the weave functionality\n",
    "manifest_collection = mongodb[mongo.manifest_collection]\n",
    "print(manifest_collection)\n",
    "print(manifest_collection.count_documents({}))\n",
    "\n",
    "metadata_collection = mongodb[mongo.metadata_collection]\n",
    "print(metadata_collection)\n",
    "print(metadata_collection.count_documents({}))\n",
    "\n",
    "supplement_collection = mongodb[mongo.supplement_collection]\n",
    "print(supplement_collection)\n",
    "print(supplement_collection.count_documents({}))"
   ]
  },
  {
   "cell_type": "code",
   "execution_count": 10,
   "id": "12c52b52-f4d1-4887-bc93-01da0dd57138",
   "metadata": {},
   "outputs": [
    {
     "name": "stdout",
     "output_type": "stream",
     "text": [
      "Manifest fieldnames: {'weave_version', 'upload_time', 'parent_uuids', '_id', 'label', 'basket_type', 'uuid'} \n",
      "\n",
      "Metadata fieldnames:  {'max_speed', 'fuel_burned', '_id', 'max_altitude', 'ch10name', 'basket_type', 'uuid'} \n",
      "\n",
      "Supplement fieldnames:  {'integrity_data.file_size', 'integrity_data.access_date', 'upload_items', 'upload_items.stub', 'integrity_data.source_path', 'integrity_data.byte_count', '_id', 'integrity_data.upload_path', 'integrity_data', 'integrity_data.stub', 'upload_items.path', 'integrity_data.hash', 'basket_type', 'uuid'} \n",
      "\n"
     ]
    }
   ],
   "source": [
    "# the rest of these functions used in this notebook are standard pymongo functions\n",
    "# getting the unique fieldnames (keys) for a collection \n",
    "def get_unique_fieldnames(collection):\n",
    "    fieldnames = set()\n",
    "    for doc in collection.find():\n",
    "        def extract_keys(d, prefix=''):\n",
    "            for k, v in d.items():\n",
    "                full_key = f\"{prefix}.{k}\" if prefix else k\n",
    "                fieldnames.add(full_key)\n",
    "                if isinstance(v, dict):\n",
    "                    extract_keys(v, full_key)\n",
    "                elif isinstance(v, list):\n",
    "                    for item in v:\n",
    "                        if isinstance(item, dict):\n",
    "                            extract_keys(item, full_key)\n",
    "        extract_keys(doc)\n",
    "    return fieldnames\n",
    "\n",
    "# getting field names for each collection\n",
    "manifest_fn = get_unique_fieldnames(manifest_collection)\n",
    "metadata_fn = get_unique_fieldnames(metadata_collection)\n",
    "supplement_fn = get_unique_fieldnames(supplement_collection)\n",
    "\n",
    "print(\"Manifest fieldnames:\", manifest_fn, \"\\n\")\n",
    "print(\"Metadata fieldnames: \", metadata_fn, \"\\n\")\n",
    "print(\"Supplement fieldnames: \", supplement_fn, \"\\n\")"
   ]
  },
  {
   "cell_type": "code",
   "execution_count": 11,
   "id": "77f4a22e-7b7d-4e9e-886d-7945329c57f3",
   "metadata": {},
   "outputs": [
    {
     "name": "stdout",
     "output_type": "stream",
     "text": [
      "[{'_id': ObjectId('6864538725e2fb1b531e4dd9'), 'uuid': 'a6d713cc56c211f0bee30242ac19000b', 'basket_type': 'ch10', 'ch10name': '652200104150842', 'max_altitude': 8000, 'max_speed': 1431, 'fuel_burned': 7182}, {'_id': ObjectId('6864538725e2fb1b531e4ddc'), 'uuid': 'a718bb1056c211f0bee30242ac19000b', 'basket_type': 'ch10', 'ch10name': '652200104150842', 'max_altitude': 8350, 'max_speed': 1161, 'fuel_burned': 5833}, {'_id': ObjectId('6864538825e2fb1b531e4ddf'), 'uuid': 'a74ac5ec56c211f0bee30242ac19000b', 'basket_type': 'ch10', 'ch10name': '652200104150842', 'max_altitude': 8700, 'max_speed': 1836, 'fuel_burned': 9329}]\n",
      "25\n"
     ]
    }
   ],
   "source": [
    "# printing out the first 3 items in the metadata collection\n",
    "print(list(metadata_collection.find({}))[0:3])\n",
    "print(metadata_collection.count_documents({}))"
   ]
  },
  {
   "cell_type": "code",
   "execution_count": 12,
   "id": "9cf2c9e5-8550-413b-b150-494607d63523",
   "metadata": {},
   "outputs": [
    {
     "name": "stdout",
     "output_type": "stream",
     "text": [
      "[{'_id': ObjectId('6864538725e2fb1b531e4dda'), 'uuid': 'a6d713cc56c211f0bee30242ac19000b', 'upload_time': '2025-07-01T21:30:47.145143+00:00', 'parent_uuids': [], 'basket_type': 'ch10', 'label': '', 'weave_version': '1.13.2'}, {'_id': ObjectId('6864538725e2fb1b531e4ddd'), 'uuid': 'a718bb1056c211f0bee30242ac19000b', 'upload_time': '2025-07-01T21:30:47.568976+00:00', 'parent_uuids': [], 'basket_type': 'ch10', 'label': '', 'weave_version': '1.13.2'}, {'_id': ObjectId('6864538825e2fb1b531e4de0'), 'uuid': 'a74ac5ec56c211f0bee30242ac19000b', 'upload_time': '2025-07-01T21:30:47.892626+00:00', 'parent_uuids': [], 'basket_type': 'ch10', 'label': '', 'weave_version': '1.13.2'}]\n",
      "25\n"
     ]
    }
   ],
   "source": [
    "# printing out the first 3 items in the manifest collection\n",
    "print(list(manifest_collection.find({}))[0:3])\n",
    "print(manifest_collection.count_documents({}))"
   ]
  },
  {
   "cell_type": "code",
   "execution_count": 13,
   "id": "7209416a-f400-457a-a450-39aa896a60b9",
   "metadata": {},
   "outputs": [
    {
     "name": "stdout",
     "output_type": "stream",
     "text": [
      "[{'_id': ObjectId('6864538725e2fb1b531e4ddb'), 'uuid': 'a6d713cc56c211f0bee30242ac19000b', 'basket_type': 'ch10', 'integrity_data': [{'file_size': 1024780, 'hash': '29b43ef8fe61d0077138f04b2570f6bc311255aa90ac6caedb07827ec2704c7c', 'access_date': '2025-07-01T21:30:47.145079+00:00', 'source_path': '/home/jovyan/opal/resources/652200104150842.ch10', 'byte_count': 100000000, 'stub': True, 'upload_path': 'stub'}], 'upload_items': [{'path': '/home/jovyan/opal/resources/652200104150842.ch10', 'stub': True}]}, {'_id': ObjectId('6864538725e2fb1b531e4dde'), 'uuid': 'a718bb1056c211f0bee30242ac19000b', 'basket_type': 'ch10', 'integrity_data': [{'file_size': 1024780, 'hash': '29b43ef8fe61d0077138f04b2570f6bc311255aa90ac6caedb07827ec2704c7c', 'access_date': '2025-07-01T21:30:47.568902+00:00', 'source_path': '/home/jovyan/opal/resources/652200104150842.ch10', 'byte_count': 100000000, 'stub': True, 'upload_path': 'stub'}], 'upload_items': [{'path': '/home/jovyan/opal/resources/652200104150842.ch10', 'stub': True}]}, {'_id': ObjectId('6864538825e2fb1b531e4de1'), 'uuid': 'a74ac5ec56c211f0bee30242ac19000b', 'basket_type': 'ch10', 'integrity_data': [{'file_size': 1024780, 'hash': '29b43ef8fe61d0077138f04b2570f6bc311255aa90ac6caedb07827ec2704c7c', 'access_date': '2025-07-01T21:30:47.892565+00:00', 'source_path': '/home/jovyan/opal/resources/652200104150842.ch10', 'byte_count': 100000000, 'stub': True, 'upload_path': 'stub'}], 'upload_items': [{'path': '/home/jovyan/opal/resources/652200104150842.ch10', 'stub': True}]}]\n",
      "25\n"
     ]
    }
   ],
   "source": [
    "# printing out the first 3 items in the supplement collection\n",
    "print(list(supplement_collection.find({}))[0:3])\n",
    "print(supplement_collection.count_documents({}))"
   ]
  },
  {
   "cell_type": "code",
   "execution_count": 14,
   "id": "d74ed244-2bee-441c-bcc5-993c4e4f150e",
   "metadata": {},
   "outputs": [
    {
     "name": "stdout",
     "output_type": "stream",
     "text": [
      "{'_id': ObjectId('6864538725e2fb1b531e4dda'), 'uuid': 'a6d713cc56c211f0bee30242ac19000b', 'upload_time': '2025-07-01T21:30:47.145143+00:00', 'parent_uuids': [], 'basket_type': 'ch10', 'label': '', 'weave_version': '1.13.2'}\n"
     ]
    }
   ],
   "source": [
    "# find one item with a basket_type of ch10 in the manifest collection\n",
    "# this can be done better using weave indexing\n",
    "ch10_find_one = manifest_collection.find_one({\"basket_type\": \"ch10\"})\n",
    "print(ch10_find_one)"
   ]
  },
  {
   "cell_type": "code",
   "execution_count": 15,
   "id": "4dd105cf-e947-428f-bbf2-1efc9efc35b7",
   "metadata": {},
   "outputs": [
    {
     "name": "stdout",
     "output_type": "stream",
     "text": [
      "<pymongo.cursor.Cursor object at 0x7f68c76ad8d0>\n",
      "{'_id': ObjectId('6864538725e2fb1b531e4dda'), 'uuid': 'a6d713cc56c211f0bee30242ac19000b', 'upload_time': '2025-07-01T21:30:47.145143+00:00', 'parent_uuids': [], 'basket_type': 'ch10', 'label': '', 'weave_version': '1.13.2'}\n",
      "{'_id': ObjectId('6864538725e2fb1b531e4ddd'), 'uuid': 'a718bb1056c211f0bee30242ac19000b', 'upload_time': '2025-07-01T21:30:47.568976+00:00', 'parent_uuids': [], 'basket_type': 'ch10', 'label': '', 'weave_version': '1.13.2'}\n",
      "{'_id': ObjectId('6864538825e2fb1b531e4de0'), 'uuid': 'a74ac5ec56c211f0bee30242ac19000b', 'upload_time': '2025-07-01T21:30:47.892626+00:00', 'parent_uuids': [], 'basket_type': 'ch10', 'label': '', 'weave_version': '1.13.2'}\n",
      "{'_id': ObjectId('6864538825e2fb1b531e4de3'), 'uuid': 'a77a5d7a56c211f0bee30242ac19000b', 'upload_time': '2025-07-01T21:30:48.207460+00:00', 'parent_uuids': [], 'basket_type': 'ch10', 'label': '', 'weave_version': '1.13.2'}\n",
      "{'_id': ObjectId('6864538825e2fb1b531e4de6'), 'uuid': 'a7b9d31a56c211f0bee30242ac19000b', 'upload_time': '2025-07-01T21:30:48.622041+00:00', 'parent_uuids': [], 'basket_type': 'ch10', 'label': '', 'weave_version': '1.13.2'}\n",
      "\n",
      "\n",
      "<pymongo.cursor.Cursor object at 0x7f692b3005d0>\n"
     ]
    }
   ],
   "source": [
    "# print all of the items that has a weave version of 1.13.2 in the manifest collection\n",
    "# this can be done better using weave indexing\n",
    "weave_ver_find = manifest_collection.find({\"weave_version\": \"1.13.2\"})\n",
    "print(weave_ver_find)\n",
    "\n",
    "for i in range(0, 5):\n",
    "    print(weave_ver_find[i])\n",
    "print(\"\\n\")\n",
    "\n",
    "# different weave version not in data\n",
    "weave_ver_find = manifest_collection.find({\"weave_version\": \"589.13.4\"})\n",
    "print(weave_ver_find)\n",
    "\n",
    "# nothing was printed because nothing with weave version 589.13.4\n",
    "for single_item in weave_ver_find:\n",
    "    print(single_item)"
   ]
  },
  {
   "cell_type": "code",
   "execution_count": 16,
   "id": "991cd0e4-253c-4533-98e1-7fae8735c48d",
   "metadata": {},
   "outputs": [
    {
     "name": "stdout",
     "output_type": "stream",
     "text": [
      "<pymongo.cursor.Cursor object at 0x7f68c76d0290>\n",
      "25\n",
      "a6d713cc56c211f0bee30242ac19000b\n",
      "a718bb1056c211f0bee30242ac19000b\n",
      "a74ac5ec56c211f0bee30242ac19000b\n",
      "a77a5d7a56c211f0bee30242ac19000b\n",
      "a7b9d31a56c211f0bee30242ac19000b\n"
     ]
    }
   ],
   "source": [
    "# getting uuid for each item in the manifest collection\n",
    "all_uuids_find = manifest_collection.find({}, {'uuid': True})\n",
    "print(all_uuids_find)\n",
    "print(len(list(all_uuids_find.clone())))\n",
    "\n",
    "for i in range(0, 5):\n",
    "    print(all_uuids_find[i]['uuid'])"
   ]
  },
  {
   "cell_type": "code",
   "execution_count": 17,
   "id": "8a33d1b2-0138-4ce9-8b6b-57a02cb95b2e",
   "metadata": {},
   "outputs": [
    {
     "name": "stdout",
     "output_type": "stream",
     "text": [
      "a6d713cc56c211f0bee30242ac19000b\n",
      "a718bb1056c211f0bee30242ac19000b\n",
      "a74ac5ec56c211f0bee30242ac19000b\n",
      "a77a5d7a56c211f0bee30242ac19000b\n",
      "a7b9d31a56c211f0bee30242ac19000b\n"
     ]
    }
   ],
   "source": [
    "# printing out all the uuids for each item in the manifest collection using the find() function in a different way\n",
    "for i in range(0, 5):\n",
    "    object_id = manifest_collection.find()[i]['uuid']\n",
    "    print(object_id)\n",
    "\n",
    "# can be done this way but do not want to print out all uuids\n",
    "# for document in manifest_collection.find():\n",
    "#     object_id = document['uuid']\n",
    "#     print(object_id)"
   ]
  },
  {
   "cell_type": "code",
   "execution_count": 18,
   "id": "0368eeac-bf87-4ec9-bdc4-9fd24c572297",
   "metadata": {},
   "outputs": [
    {
     "name": "stdout",
     "output_type": "stream",
     "text": [
      "25\n",
      "['a6d713cc56c211f0bee30242ac19000b', 'a718bb1056c211f0bee30242ac19000b', 'a74ac5ec56c211f0bee30242ac19000b', 'a77a5d7a56c211f0bee30242ac19000b', 'a7b9d31a56c211f0bee30242ac19000b', 'a7eed9f256c211f0bee30242ac19000b', 'a8237cac56c211f0bee30242ac19000b', 'a857267e56c211f0bee30242ac19000b', 'a885ae4a56c211f0bee30242ac19000b', 'a8c1a33256c211f0bee30242ac19000b']\n"
     ]
    }
   ],
   "source": [
    "# another example to get uuids by using the distinct function to get all uuids (trivial example to show some different functions,\n",
    "# since all uuids are distinct)\n",
    "manifest_ids = manifest_collection.distinct('uuid')\n",
    "print(len(manifest_ids))\n",
    "print(manifest_ids[0:10])"
   ]
  },
  {
   "cell_type": "markdown",
   "id": "814e9a7c-256a-43e9-b595-928e6fa883d4",
   "metadata": {},
   "source": [
    "# Less trival examples"
   ]
  },
  {
   "cell_type": "code",
   "execution_count": 19,
   "id": "d9e39ff7-9ec0-42ac-9ab9-0128c48794ce",
   "metadata": {},
   "outputs": [
    {
     "name": "stdout",
     "output_type": "stream",
     "text": [
      "There are 3 out of 25 documents that satisfy the above query\n",
      "Those documents' uuid's are \n",
      "[{'_id': ObjectId('6864538b25e2fb1b531e4dfa'), 'uuid': 'a939dafa56c211f0bee30242ac19000b', 'basket_type': 'ch10', 'ch10name': '652200104150842', 'max_altitude': 11850, 'max_speed': 1434, 'fuel_burned': 6684}, {'_id': ObjectId('6864538c25e2fb1b531e4e03'), 'uuid': 'a9fd49b856c211f0bee30242ac19000b', 'basket_type': 'ch10', 'ch10name': '652200104150842', 'max_altitude': 12900, 'max_speed': 1424, 'fuel_burned': 7248}, {'_id': ObjectId('6864538f25e2fb1b531e4e15'), 'uuid': 'ab98588a56c211f0bee30242ac19000b', 'basket_type': 'ch10', 'ch10name': '652200104150842', 'max_altitude': 15000, 'max_speed': 1380, 'fuel_burned': 6378}]\n"
     ]
    }
   ],
   "source": [
    "# getting all documents' uuid's in metadata_collection that follows the query below\n",
    "# max_altitude > 10_000\n",
    "# max_speed < 1_450\n",
    "# fuel_burned >= 6_000 and <= 8_000\n",
    "query = {\"max_altitude\": {\"$gt\": 10_000}, \"max_speed\": {\"$lt\": 1_450}, \"fuel_burned\": {\"$gte\": 6_000, \"$lte\": 8_000}}\n",
    "\n",
    "# querying data like this is the main purpose of using a mongo db\n",
    "# put the data into its own bucket and use weave for getting parent uuids, seeing what files in the bucket, etc.\n",
    "doc_uuids = list(metadata_collection.find(query))\n",
    "\n",
    "print(f\"There are {len(doc_uuids)} out of {metadata_collection.count_documents({})} documents that satisfy the above query\")\n",
    "print(f\"Those documents' uuid's are \\n{doc_uuids}\")"
   ]
  },
  {
   "cell_type": "code",
   "execution_count": 20,
   "id": "1de41344-72f8-48d0-bbe9-2b34239df6c7",
   "metadata": {},
   "outputs": [
    {
     "name": "stdout",
     "output_type": "stream",
     "text": [
      "25\n"
     ]
    }
   ],
   "source": [
    "# 25 documents have metadata (metadata was entered when it was uploaded to the basket)\n",
    "# 2 documents do not have metadata\n",
    "print(metadata_collection.count_documents({}))"
   ]
  },
  {
   "cell_type": "code",
   "execution_count": 21,
   "id": "61995124-5d1b-41b0-a0ee-8c01005666ad",
   "metadata": {},
   "outputs": [],
   "source": [
    "# adding more data\n",
    "# automatically gets uploaded to the mongodb\n",
    "# with basket_type ch10_2 (ch10 for the previous time data was uploaded)\n",
    "max_altitude = 8_000\n",
    "for i in range(0,25):\n",
    "    max_speed = math.floor(900 * random.uniform(1, 2.1))\n",
    "    fuel_burned = math.floor(max_speed * random.uniform(4.5, 5.2) + random.uniform(-150, 250))\n",
    "    demo_pantry.upload_basket(\n",
    "        upload_items=[{'path': '/home/jovyan/opal/resources/652200104150842.ch10', 'stub': True}],\n",
    "        basket_type='ch10_2',\n",
    "        metadata = {'ch10name': '652200104150842', 'max_altitude': max_altitude, 'max_speed': max_speed, 'fuel_burned': fuel_burned},\n",
    "    )\n",
    "    max_altitude += 350"
   ]
  },
  {
   "cell_type": "code",
   "execution_count": 22,
   "id": "40a5f491-25da-458f-847d-07e606f86f6c",
   "metadata": {},
   "outputs": [
    {
     "data": {
      "text/html": [
       "<div>\n",
       "<style scoped>\n",
       "    .dataframe tbody tr th:only-of-type {\n",
       "        vertical-align: middle;\n",
       "    }\n",
       "\n",
       "    .dataframe tbody tr th {\n",
       "        vertical-align: top;\n",
       "    }\n",
       "\n",
       "    .dataframe thead th {\n",
       "        text-align: right;\n",
       "    }\n",
       "</style>\n",
       "<table border=\"1\" class=\"dataframe\">\n",
       "  <thead>\n",
       "    <tr style=\"text-align: right;\">\n",
       "      <th></th>\n",
       "      <th>uuid</th>\n",
       "      <th>upload_time</th>\n",
       "      <th>parent_uuids</th>\n",
       "      <th>basket_type</th>\n",
       "      <th>label</th>\n",
       "      <th>weave_version</th>\n",
       "      <th>address</th>\n",
       "      <th>storage_type</th>\n",
       "    </tr>\n",
       "  </thead>\n",
       "  <tbody>\n",
       "    <tr>\n",
       "      <th>0</th>\n",
       "      <td>a6d713cc56c211f0bee30242ac19000b</td>\n",
       "      <td>2025-07-01 21:30:47.145143+00:00</td>\n",
       "      <td>[]</td>\n",
       "      <td>ch10</td>\n",
       "      <td></td>\n",
       "      <td>1.13.2</td>\n",
       "      <td>mongodb-demo/ch10/a6d713cc56c211f0bee30242ac19...</td>\n",
       "      <td>S3FileSystem</td>\n",
       "    </tr>\n",
       "    <tr>\n",
       "      <th>1</th>\n",
       "      <td>a718bb1056c211f0bee30242ac19000b</td>\n",
       "      <td>2025-07-01 21:30:47.568976+00:00</td>\n",
       "      <td>[]</td>\n",
       "      <td>ch10</td>\n",
       "      <td></td>\n",
       "      <td>1.13.2</td>\n",
       "      <td>mongodb-demo/ch10/a718bb1056c211f0bee30242ac19...</td>\n",
       "      <td>S3FileSystem</td>\n",
       "    </tr>\n",
       "    <tr>\n",
       "      <th>2</th>\n",
       "      <td>a74ac5ec56c211f0bee30242ac19000b</td>\n",
       "      <td>2025-07-01 21:30:47.892626+00:00</td>\n",
       "      <td>[]</td>\n",
       "      <td>ch10</td>\n",
       "      <td></td>\n",
       "      <td>1.13.2</td>\n",
       "      <td>mongodb-demo/ch10/a74ac5ec56c211f0bee30242ac19...</td>\n",
       "      <td>S3FileSystem</td>\n",
       "    </tr>\n",
       "    <tr>\n",
       "      <th>3</th>\n",
       "      <td>a77a5d7a56c211f0bee30242ac19000b</td>\n",
       "      <td>2025-07-01 21:30:48.207460+00:00</td>\n",
       "      <td>[]</td>\n",
       "      <td>ch10</td>\n",
       "      <td></td>\n",
       "      <td>1.13.2</td>\n",
       "      <td>mongodb-demo/ch10/a77a5d7a56c211f0bee30242ac19...</td>\n",
       "      <td>S3FileSystem</td>\n",
       "    </tr>\n",
       "    <tr>\n",
       "      <th>4</th>\n",
       "      <td>a7b9d31a56c211f0bee30242ac19000b</td>\n",
       "      <td>2025-07-01 21:30:48.622041+00:00</td>\n",
       "      <td>[]</td>\n",
       "      <td>ch10</td>\n",
       "      <td></td>\n",
       "      <td>1.13.2</td>\n",
       "      <td>mongodb-demo/ch10/a7b9d31a56c211f0bee30242ac19...</td>\n",
       "      <td>S3FileSystem</td>\n",
       "    </tr>\n",
       "  </tbody>\n",
       "</table>\n",
       "</div>"
      ],
      "text/plain": [
       "                               uuid                      upload_time  \\\n",
       "0  a6d713cc56c211f0bee30242ac19000b 2025-07-01 21:30:47.145143+00:00   \n",
       "1  a718bb1056c211f0bee30242ac19000b 2025-07-01 21:30:47.568976+00:00   \n",
       "2  a74ac5ec56c211f0bee30242ac19000b 2025-07-01 21:30:47.892626+00:00   \n",
       "3  a77a5d7a56c211f0bee30242ac19000b 2025-07-01 21:30:48.207460+00:00   \n",
       "4  a7b9d31a56c211f0bee30242ac19000b 2025-07-01 21:30:48.622041+00:00   \n",
       "\n",
       "  parent_uuids basket_type label weave_version  \\\n",
       "0           []        ch10              1.13.2   \n",
       "1           []        ch10              1.13.2   \n",
       "2           []        ch10              1.13.2   \n",
       "3           []        ch10              1.13.2   \n",
       "4           []        ch10              1.13.2   \n",
       "\n",
       "                                             address  storage_type  \n",
       "0  mongodb-demo/ch10/a6d713cc56c211f0bee30242ac19...  S3FileSystem  \n",
       "1  mongodb-demo/ch10/a718bb1056c211f0bee30242ac19...  S3FileSystem  \n",
       "2  mongodb-demo/ch10/a74ac5ec56c211f0bee30242ac19...  S3FileSystem  \n",
       "3  mongodb-demo/ch10/a77a5d7a56c211f0bee30242ac19...  S3FileSystem  \n",
       "4  mongodb-demo/ch10/a7b9d31a56c211f0bee30242ac19...  S3FileSystem  "
      ]
     },
     "execution_count": 22,
     "metadata": {},
     "output_type": "execute_result"
    }
   ],
   "source": [
    "# the pandas df representation\n",
    "index = demo_pantry.index\n",
    "index_df = index.to_pandas_df()\n",
    "index_df.head()"
   ]
  },
  {
   "cell_type": "code",
   "execution_count": 23,
   "id": "e836fce5-4d04-4b72-b42b-566f56ab1ea7",
   "metadata": {},
   "outputs": [
    {
     "name": "stdout",
     "output_type": "stream",
     "text": [
      "Index length: 50\n"
     ]
    },
    {
     "data": {
      "text/plain": [
       "basket_type\n",
       "ch10      25\n",
       "ch10_2    25\n",
       "Name: count, dtype: int64"
      ]
     },
     "execution_count": 23,
     "metadata": {},
     "output_type": "execute_result"
    }
   ],
   "source": [
    "# the 25 items are in minio as ch10_2 basket type\n",
    "print(f\"Index length: {len(index)}\")\n",
    "index_df.basket_type.value_counts()"
   ]
  },
  {
   "cell_type": "code",
   "execution_count": 24,
   "id": "698f2c0a-3f01-42e8-b107-c783035b8209",
   "metadata": {},
   "outputs": [
    {
     "name": "stdout",
     "output_type": "stream",
     "text": [
      "50\n"
     ]
    }
   ],
   "source": [
    "# those 25 items uploaded to minio are also in the mongodb\n",
    "# there are 50 documents that have a metadata collection\n",
    "metadata_collection = mongodb[mongo.metadata_collection]\n",
    "print(metadata_collection.count_documents({}))"
   ]
  },
  {
   "cell_type": "code",
   "execution_count": 25,
   "id": "17eca168-0bf6-4d75-bfbc-57fe6fd58e67",
   "metadata": {},
   "outputs": [
    {
     "name": "stdout",
     "output_type": "stream",
     "text": [
      "There are 5 out of 50 documents that satisfy the above query\n",
      "Those documents' uuid's are \n",
      "[{'uuid': 'a939dafa56c211f0bee30242ac19000b'}, {'uuid': 'a9fd49b856c211f0bee30242ac19000b'}, {'uuid': 'ab98588a56c211f0bee30242ac19000b'}, {'uuid': 'b3ffebfa56c211f0bee30242ac19000b'}, {'uuid': 'b5bc668056c211f0bee30242ac19000b'}]\n"
     ]
    }
   ],
   "source": [
    "# lets see how many documents satisfy the same query\n",
    "# include uuid column exclude _id column (_id column gets automatically put into the list)\n",
    "projection = {\"uuid\": 1, \"_id\": 0}\n",
    "doc_uuids = list(metadata_collection.find(query, projection))\n",
    "\n",
    "print(f\"There are {len(doc_uuids)} out of {metadata_collection.count_documents({})} documents that satisfy the above query\")\n",
    "print(f\"Those documents' uuid's are \\n{doc_uuids}\")"
   ]
  },
  {
   "cell_type": "markdown",
   "id": "91b34b42-0595-4c2c-8a89-887aa25b372f",
   "metadata": {},
   "source": [
    "# Graph the Data"
   ]
  },
  {
   "cell_type": "code",
   "execution_count": 26,
   "id": "08bf11c7-224c-4400-9211-8bc73a39d8d2",
   "metadata": {},
   "outputs": [],
   "source": [
    "labels = []\n",
    "max_speed_data = []\n",
    "fuel_burned_data = []\n",
    "max_altitude_data = []\n",
    "# making the list of dictionaries just of list of uuids\n",
    "doc_uuids = [d['uuid'] for d in doc_uuids]\n",
    "\n",
    "# get data for the graph\n",
    "for doc in metadata_collection.find():\n",
    "    # if it satisfied the query from above then add True to label\n",
    "    # this is so we can have those labels be a different color\n",
    "    # from the rest\n",
    "    if doc['uuid'] in doc_uuids:\n",
    "        labels.append(True)\n",
    "    else:\n",
    "        labels.append(False)\n",
    "    max_speed_data.append(doc['max_speed'])\n",
    "    fuel_burned_data.append(doc['fuel_burned'])\n",
    "    max_altitude_data.append(doc['max_altitude'])"
   ]
  },
  {
   "cell_type": "code",
   "execution_count": 27,
   "id": "c205a01b-20c5-4292-a9d1-171cdc614cd1",
   "metadata": {},
   "outputs": [
    {
     "data": {
      "image/png": "[encoded data removed]",
      "text/plain": [
       "<Figure size 640x480 with 1 Axes>"
      ]
     },
     "metadata": {},
     "output_type": "display_data"
    }
   ],
   "source": [
    "# create 3d axes\n",
    "fig = plt.figure()\n",
    "ax = plt.axes(projection='3d')\n",
    " \n",
    "# data\n",
    "x = fuel_burned_data\n",
    "y = max_speed_data\n",
    "z = max_altitude_data\n",
    "colors = ['green' if label == True else 'red' for label in labels]\n",
    "ax.scatter(x, y, z, c=colors)\n",
    "\n",
    "ax.set_title('Graphing Metadata', fontsize=12)\n",
    "ax.set_xlabel('Fuel Burned', fontsize=12)\n",
    "ax.set_ylabel('Max Speed', fontsize=12)\n",
    "ax.set_zlabel('Max Altitude', fontsize=12)\n",
    " \n",
    "plt.show()"
   ]
  },
  {
   "cell_type": "markdown",
   "id": "ec150141-9c76-4541-9cd4-78ee3d21ea74",
   "metadata": {},
   "source": [
    "# Inserting More Data"
   ]
  },
  {
   "cell_type": "code",
   "execution_count": 28,
   "id": "1fec5512-6527-4924-8c71-c39a9f153da4",
   "metadata": {},
   "outputs": [],
   "source": [
    "# uploading baskets to the demo_pantry while note giving weave.Pantry a mongo_client\n",
    "demo_pantry = weave.Pantry(\n",
    "    weave.IndexPandas,\n",
    "    pantry_path=demo_pantry_path,\n",
    "    file_system=s3fs.S3FileSystem(client_kwargs = {'endpoint_url': os.environ['S3_ENDPOINT']}),\n",
    ")\n",
    "\n",
    "demo_index = demo_pantry.index\n",
    "\n",
    "for i in range(0,5):\n",
    "    demo_pantry.upload_basket(\n",
    "        upload_items=[{'path': '/home/jovyan/opal/resources/652200104150842.ch10', 'stub': True}],\n",
    "        basket_type='ex1',\n",
    "        metadata = {'max_altitude': 8_000, 'max_speed': 1_250, 'fuel_burned': 5_000},\n",
    "    )"
   ]
  },
  {
   "cell_type": "code",
   "execution_count": 29,
   "id": "75991cec-3c38-41b3-a1ff-0e36b1343bcd",
   "metadata": {},
   "outputs": [
    {
     "data": {
      "text/plain": [
       "55"
      ]
     },
     "execution_count": 29,
     "metadata": {},
     "output_type": "execute_result"
    }
   ],
   "source": [
    "# pandas df representation\n",
    "# new items are recognized by the index and are at the bottom of the dataframe if displaying index_df\n",
    "index = demo_pantry.index\n",
    "index_df = demo_pantry.index.to_pandas_df()\n",
    "len(index_df)"
   ]
  },
  {
   "cell_type": "code",
   "execution_count": 30,
   "id": "3c1f9d84-f49e-4505-ab3d-ad1932f24e30",
   "metadata": {},
   "outputs": [
    {
     "name": "stdout",
     "output_type": "stream",
     "text": [
      "50\n"
     ]
    }
   ],
   "source": [
    "# will be at 50 since the new data was not uploaded to the mongo database because weave.Pantry was not given a mongo_client\n",
    "metadata_collection = mongodb[mongo.metadata_collection]\n",
    "print(metadata_collection.count_documents({}))"
   ]
  },
  {
   "cell_type": "code",
   "execution_count": 31,
   "id": "7caaa7db-39d1-46a2-9e93-bad113273954",
   "metadata": {},
   "outputs": [
    {
     "name": "stdout",
     "output_type": "stream",
     "text": [
      "Index length: 55\n"
     ]
    },
    {
     "data": {
      "text/plain": [
       "basket_type\n",
       "ch10      25\n",
       "ch10_2    25\n",
       "ex1        5\n",
       "Name: count, dtype: int64"
      ]
     },
     "execution_count": 31,
     "metadata": {},
     "output_type": "execute_result"
    }
   ],
   "source": [
    "# the ex1 basket is in minio but not in mongo database because length is 55\n",
    "print(f\"Index length: {len(index)}\")\n",
    "index_df.basket_type.value_counts()"
   ]
  },
  {
   "cell_type": "code",
   "execution_count": 32,
   "id": "27355bf7-f64c-4c9e-abe4-cf7259a7df98",
   "metadata": {},
   "outputs": [
    {
     "name": "stdout",
     "output_type": "stream",
     "text": [
      "['b6f6fa4c56c211f0bee30242ac19000b', 'b86435c056c211f0bee30242ac19000b', 'b8963bba56c211f0bee30242ac19000b', 'b8bbfe8656c211f0bee30242ac19000b', 'b8f6cfb656c211f0bee30242ac19000b']\n",
      "5\n"
     ]
    }
   ],
   "source": [
    "# getting the uuids from the newly created baskets\n",
    "# the newly created baskets are all of basket type 'ex1'\n",
    "# the line of code is just pandas df code (no weave or opal specific fucntions)\n",
    "ex1_uuids = list((index_df.loc[index_df['basket_type']=='ex1', 'uuid']))\n",
    "print(ex1_uuids)\n",
    "print(len(ex1_uuids))"
   ]
  },
  {
   "cell_type": "code",
   "execution_count": 33,
   "id": "cdea8411-f796-42ef-8489-c64a71e0e6a9",
   "metadata": {},
   "outputs": [],
   "source": [
    "# uploading items to the mongo database manually (items' uuid to upload to mongo is required)\n",
    "mongo.load_mongo(ex1_uuids)"
   ]
  },
  {
   "cell_type": "code",
   "execution_count": 34,
   "id": "80c90fe5-fa93-4f31-a2ee-2f201449d94a",
   "metadata": {},
   "outputs": [
    {
     "name": "stdout",
     "output_type": "stream",
     "text": [
      "55\n"
     ]
    }
   ],
   "source": [
    "# will be 55 since the documents were uploaded to the mongo database\n",
    "metadata_collection = mongodb[mongo.metadata_collection]\n",
    "print(metadata_collection.count_documents({}))"
   ]
  },
  {
   "cell_type": "markdown",
   "id": "cb293f95-c3af-4d61-a91e-f491a20f8f50",
   "metadata": {},
   "source": [
    "# Cleanup"
   ]
  },
  {
   "cell_type": "code",
   "execution_count": 35,
   "id": "76a31149-38c5-48a2-a368-7623bc8e72d5",
   "metadata": {},
   "outputs": [],
   "source": [
    "# deleting the pantry\n",
    "s3 = s3fs.S3FileSystem(client_kwargs = {'endpoint_url': os.environ['S3_ENDPOINT']})\n",
    "if s3.exists(demo_pantry_path):\n",
    "    s3.rm(f's3://{demo_pantry_path}', recursive = True)\n",
    "s3.mkdir(demo_pantry_path)"
   ]
  },
  {
   "cell_type": "code",
   "execution_count": 36,
   "id": "f35c7998-0b26-470b-b613-0d079917f90e",
   "metadata": {},
   "outputs": [],
   "source": [
    "# clearing mongo database\n",
    "mongo.clear_mongo()"
   ]
  }
 ],
 "metadata": {
  "kernelspec": {
   "display_name": "Python [conda env:singleuser] *",
   "language": "python",
   "name": "conda-env-singleuser-py"
  },
  "language_info": {
   "codemirror_mode": {
    "name": "ipython",
    "version": 3
   },
   "file_extension": ".py",
   "mimetype": "text/x-python",
   "name": "python",
   "nbconvert_exporter": "python",
   "pygments_lexer": "ipython3",
   "version": "3.11.7"
  }
 },
 "nbformat": 4,
 "nbformat_minor": 5
}
