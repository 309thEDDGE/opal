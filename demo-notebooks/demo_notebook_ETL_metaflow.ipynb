{
 "cells": [
  {
   "cell_type": "markdown",
   "id": "d733d1a6-fc96-41f5-89f2-dcc596206226",
   "metadata": {},
   "source": [
    "## Import Python Module to Create/Upload New Data Instances\n",
    "### (Persona: Data Engineer)\n",
    "\n",
    "Use metaflow-based data model"
   ]
  },
  {
   "cell_type": "code",
   "execution_count": null,
   "id": "476c940c-707d-4639-8e17-13fdc45da524",
   "metadata": {
    "tags": []
   },
   "outputs": [],
   "source": [
    "import s3fs\n",
    "import os\n",
    "import json\n",
    "from opal.weave.create_index import create_index_from_s3\n",
    "import pandas as pd\n",
    "import matplotlib.pyplot as plt\n",
    "from matplotlib import cm\n",
    "import numpy as np"
   ]
  },
  {
   "cell_type": "code",
   "execution_count": null,
   "id": "a1df740c-913b-481b-bde0-e8469cdedf72",
   "metadata": {
    "tags": []
   },
   "outputs": [],
   "source": [
    "s3 = s3fs.S3FileSystem(client_kwargs = {'endpoint_url': os.environ['S3_ENDPOINT']})"
   ]
  },
  {
   "cell_type": "markdown",
   "id": "dc9f73d3-f4f9-4861-a469-7b50d82a7dd0",
   "metadata": {},
   "source": [
    "# What data do I have?\n",
    "\n",
    "### Create an index of my data store using Weave.\n",
    "\n",
    "<img src=\"resources/weave to minio.drawio.png\">"
   ]
  },
  {
   "cell_type": "code",
   "execution_count": null,
   "id": "39eee942-86ac-4c81-b356-15129726bcc6",
   "metadata": {},
   "outputs": [],
   "source": [
    "index = create_index_from_s3('basket-data-with-arinc')\n",
    "index"
   ]
  },
  {
   "cell_type": "code",
   "execution_count": null,
   "id": "8e9a0867-7abd-4b13-bf1b-e9aa131d24a5",
   "metadata": {
    "tags": []
   },
   "outputs": [],
   "source": [
    "index.basket_type.value_counts()"
   ]
  },
  {
   "cell_type": "markdown",
   "id": "c174fca9-1f74-4ebb-b9b8-219092e33227",
   "metadata": {},
   "source": [
    "# Where did my data come from?\n",
    "\n",
    "### Provenance tracking example using Metaflow and TIP."
   ]
  },
  {
   "cell_type": "code",
   "execution_count": null,
   "id": "4bb91e5c-a684-4e72-b175-5e28948f1f3b",
   "metadata": {
    "tags": []
   },
   "outputs": [],
   "source": [
    "small_index = create_index_from_s3('provenance-demo')\n",
    "small_index"
   ]
  },
  {
   "cell_type": "code",
   "execution_count": null,
   "id": "1d37926f-66a3-4655-b750-fe9b7b991436",
   "metadata": {
    "tags": []
   },
   "outputs": [],
   "source": [
    "!python /home/jovyan/opal/data-engineering-resources/NASA_ch10_flows/parse_nasa_ch10s_flow.py run --bucket_name provenance-demo --n 1"
   ]
  },
  {
   "cell_type": "code",
   "execution_count": null,
   "id": "6a785e4d-a54e-43ad-b729-b22fb7419bfa",
   "metadata": {
    "tags": []
   },
   "outputs": [],
   "source": [
    "small_index = create_index_from_s3('provenance-demo')\n",
    "small_index"
   ]
  },
  {
   "cell_type": "code",
   "execution_count": null,
   "id": "d94793c7-ad59-4a9b-8133-8e1b3000c731",
   "metadata": {
    "tags": []
   },
   "outputs": [],
   "source": [
    "!python /home/jovyan/opal/data-engineering-resources/NASA_ch10_flows/translate_nasa_ch10s_flow.py run --bucket_name provenance-demo --n 1\n",
    "!python /home/jovyan/opal/data-engineering-resources/NASA_ch10_flows/translate_nasa_ch10s_flow.py run --bucket_name provenance-demo --data_type ARINC429 --n 1"
   ]
  },
  {
   "cell_type": "code",
   "execution_count": null,
   "id": "1a8a5acf-dc16-4cce-b976-d71c8b756931",
   "metadata": {
    "tags": []
   },
   "outputs": [],
   "source": [
    "small_index = create_index_from_s3('provenance-demo')\n",
    "small_index"
   ]
  },
  {
   "cell_type": "code",
   "execution_count": null,
   "id": "ba4419ea-9b7b-44ae-ad4b-ed2c5dd10334",
   "metadata": {},
   "outputs": [],
   "source": [
    "arinc_basket = small_index[small_index.basket_type == 'ch10_translated_ARINC429']\n",
    "arinc_path = arinc_basket.address.iloc[0]\n",
    "arinc_metadata_path = os.path.join(arinc_path, 'basket_metadata.json')\n",
    "with s3.open(arinc_metadata_path, 'rb') as file:\n",
    "    arinc_metadata = json.load(file)\n",
    "arinc_metadata"
   ]
  },
  {
   "cell_type": "markdown",
   "id": "b1b49c22-9876-4b34-b54a-77722541efcf",
   "metadata": {},
   "source": [
    "### A look back at the complete index."
   ]
  },
  {
   "cell_type": "code",
   "execution_count": null,
   "id": "429806f2-2204-48d0-baff-0d52479c9609",
   "metadata": {
    "tags": []
   },
   "outputs": [],
   "source": [
    "index"
   ]
  },
  {
   "cell_type": "markdown",
   "id": "37658177-08fd-4878-a3c3-7fec3bf9a9b2",
   "metadata": {
    "tags": []
   },
   "source": [
    "<img src=\"./resources/ch10_flow.png\"  width = \"600\" height=\"5500\">"
   ]
  },
  {
   "cell_type": "code",
   "execution_count": null,
   "id": "580acce5-6861-4b89-b909-75fa1e516e7b",
   "metadata": {
    "tags": []
   },
   "outputs": [],
   "source": [
    "my_translated_data = index[index.basket_type == 'ch10_translated_MILSTD1553'].sample()\n",
    "my_translated_data"
   ]
  },
  {
   "cell_type": "code",
   "execution_count": null,
   "id": "7b574d4d-c494-41f5-a343-e04d56022e9d",
   "metadata": {
    "tags": []
   },
   "outputs": [],
   "source": [
    "my_parents = index[index.uuid.isin(my_translated_data.parent_uuids.iloc[0])]\n",
    "my_parents"
   ]
  },
  {
   "cell_type": "code",
   "execution_count": null,
   "id": "2e505dac-bde7-4716-acda-b9a3fd26eaae",
   "metadata": {
    "tags": []
   },
   "outputs": [],
   "source": [
    "parsed_data = my_parents.iloc[1]\n",
    "original_ch10 = index[index.uuid.isin(parsed_data.parent_uuids)]\n",
    "original_ch10"
   ]
  },
  {
   "cell_type": "markdown",
   "id": "94a9a286-920b-4676-8ea2-052adb4bd792",
   "metadata": {},
   "source": [
    "# How do I access my data?\n",
    "\n",
    "### View a portion of the data contained in a ch10.\n",
    "\n",
    "<img src=\"resources/weave to pandas.drawio.png\">"
   ]
  },
  {
   "cell_type": "code",
   "execution_count": null,
   "id": "81fa9280-f53c-4282-9aa3-f9778a744307",
   "metadata": {
    "tags": []
   },
   "outputs": [],
   "source": [
    "my_data = index[index.label == '652200104211052']\n",
    "my_data"
   ]
  },
  {
   "cell_type": "code",
   "execution_count": null,
   "id": "08c429c7-03eb-4c30-93be-d883d007724a",
   "metadata": {
    "tags": []
   },
   "outputs": [],
   "source": [
    "path_1553 = os.path.join(my_data[my_data.basket_type == 'ch10_translated_MILSTD1553'].address.iloc[0], 'parsed_data_translated', 'NAV.parquet', '00.parquet')\n",
    "df_1553 = pd.read_parquet(path_1553, filesystem = s3)\n",
    "df_1553"
   ]
  },
  {
   "cell_type": "code",
   "execution_count": null,
   "id": "eb9eefe7-0b1e-4030-bb01-f52c844c47ce",
   "metadata": {
    "tags": []
   },
   "outputs": [],
   "source": [
    "# Filter out invalid lat/long/altitude measurements\n",
    "where_valid = df_1553[df_1553[\"NAV-0110\"] & df_1553[\"NAV-0111\"]]\n",
    "plt.rcParams.update({\"font.size\":18})\n",
    "\n",
    "# plot\n",
    "fig, ax = plt.subplots()\n",
    "ax = where_valid.plot(\n",
    "    kind=\"scatter\", title=\"Aircraft Position (1553)\",\n",
    "    x=\"NAV-23\", y=\"NAV-21\", c=\"NAV-25\", s=1,\n",
    "    cmap=\"viridis\", figsize=(15, 10), ax=ax)\n",
    "\n",
    "ax.set_aspect(\"equal\")\n",
    "ax.set_xlabel(\"Longitude [deg]\")\n",
    "ax.set_ylabel(\"Latitude [deg]\")\n",
    "plt.gcf().get_axes()[1].set_ylabel(\"Altitude [ft]\")\n",
    "plt.show()"
   ]
  },
  {
   "cell_type": "markdown",
   "id": "ccdc71d0-ecec-4a25-ad55-10f0e6a2673f",
   "metadata": {},
   "source": [
    "### Reset TIP example."
   ]
  },
  {
   "cell_type": "code",
   "execution_count": null,
   "id": "e8349264-1be8-413b-b4a6-47f74cb05654",
   "metadata": {
    "tags": []
   },
   "outputs": [],
   "source": [
    "index_1 = small_index[small_index.label == 'tail_35_pilot_slider_1']\n",
    "\n",
    "parsed_path = index_1[index_1.basket_type == 'ch10_parsed'].address.iloc[0]\n",
    "s3.rm(parsed_path,recursive = True)\n",
    "arinc_path = index_1[index_1.basket_type == 'ch10_translated_ARINC429'].address.iloc[0]\n",
    "s3.rm(arinc_path,recursive = True)\n",
    "milstd1553_path = index_1[index_1.basket_type == 'ch10_translated_MILSTD1553'].address.iloc[0]\n",
    "s3.rm(milstd1553_path,recursive = True)"
   ]
  },
  {
   "cell_type": "code",
   "execution_count": null,
   "id": "29b3ec0d-448c-43b4-9367-2d58f5b30d07",
   "metadata": {
    "tags": []
   },
   "outputs": [],
   "source": [
    "small_index = create_index_from_s3('provenance-demo')\n",
    "small_index"
   ]
  }
 ],
 "metadata": {
  "kernelspec": {
   "display_name": "Python [conda env:singleuser] *",
   "language": "python",
   "name": "conda-env-singleuser-py"
  },
  "language_info": {
   "codemirror_mode": {
    "name": "ipython",
    "version": 3
   },
   "file_extension": ".py",
   "mimetype": "text/x-python",
   "name": "python",
   "nbconvert_exporter": "python",
   "pygments_lexer": "ipython3",
   "version": "3.10.9"
  },
  "vscode": {
   "interpreter": {
    "hash": "916dbcbb3f70747c44a77c7bcd40155683ae19c65e1c03b4aa3499c5328201f1"
   }
  }
 },
 "nbformat": 4,
 "nbformat_minor": 5
}
