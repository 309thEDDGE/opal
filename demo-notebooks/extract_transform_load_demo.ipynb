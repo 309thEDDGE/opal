{
 "cells": [
  {
   "cell_type": "markdown",
   "id": "d733d1a6-fc96-41f5-89f2-dcc596206226",
   "metadata": {},
   "source": [
    "## Import Python Module to Create/Upload New Data Instances\n",
    "### (Persona: Data Engineer)\n",
    "\n",
    "Use metaflow-based data model"
   ]
  },
  {
   "cell_type": "code",
   "execution_count": 1,
   "id": "476c940c-707d-4639-8e17-13fdc45da524",
   "metadata": {
    "tags": []
   },
   "outputs": [],
   "source": [
    "import s3fs\n",
    "import os\n",
    "import json\n",
    "import weave\n",
    "import pandas as pd\n",
    "import matplotlib.pyplot as plt\n",
    "from matplotlib import cm\n",
    "import numpy as np"
   ]
  },
  {
   "cell_type": "code",
   "execution_count": 2,
   "id": "a1df740c-913b-481b-bde0-e8469cdedf72",
   "metadata": {
    "tags": []
   },
   "outputs": [],
   "source": [
    "s3 = s3fs.S3FileSystem(client_kwargs = {'endpoint_url': os.environ['S3_ENDPOINT']})"
   ]
  },
  {
   "cell_type": "markdown",
   "id": "299fbb81-f0d8-4e5c-837d-af7b70e69f0b",
   "metadata": {},
   "source": [
    "### Refresh provenance demo bucket"
   ]
  },
  {
   "cell_type": "code",
   "execution_count": 3,
   "id": "c85579cb-e861-4e66-a0bb-4821c89a93ee",
   "metadata": {
    "tags": []
   },
   "outputs": [
    {
     "data": {
      "text/plain": [
       "'provenance-demo/ch10/6270a53c5cc211eeaa8d0242ac120005'"
      ]
     },
     "execution_count": 3,
     "metadata": {},
     "output_type": "execute_result"
    }
   ],
   "source": [
    "if s3.exists('provenance-demo'):\n",
    "    s3.rm('s3://provenance-demo', recursive = True)\n",
    "\n",
    "weave.upload.UploadBasket(\n",
    "    upload_items=[{'path': '/home/jovyan/opal/resources/NASA_MILSTD1553_DTS.yaml', 'stub': False}],\n",
    "    basket_type='NASA_MILSTD1553_DTS',\n",
    "    pantry_path='provenance-demo',\n",
    "    file_system=s3,\n",
    ")\n",
    "weave.upload.UploadBasket(\n",
    "    upload_items=[{'path': '/home/jovyan/opal/resources/NASA_ARINC429_DTS.yaml', 'stub': False}],\n",
    "    basket_type='NASA_ARINC429_DTS',\n",
    "    pantry_path='provenance-demo',\n",
    "    file_system=s3,\n",
    ")\n",
    "weave.upload.UploadBasket(\n",
    "    upload_items=[{'path': '/home/jovyan/opal/resources/652200104150842.ch10', 'stub': False}],\n",
    "    basket_type='ch10',\n",
    "    pantry_path='provenance-demo',\n",
    "    file_system=s3,\n",
    "    metadata = {'ch10name': '652200104150842'},\n",
    ").get_upload_path()"
   ]
  },
  {
   "cell_type": "markdown",
   "id": "dc9f73d3-f4f9-4861-a469-7b50d82a7dd0",
   "metadata": {},
   "source": [
    "# What data do I have?\n",
    "\n",
    "### Create an index of my data store using Weave.\n",
    "\n",
    "<img src=\"resources/weave to minio.drawio.png\">"
   ]
  },
  {
   "cell_type": "code",
   "execution_count": 11,
   "id": "39eee942-86ac-4c81-b356-15129726bcc6",
   "metadata": {
    "tags": []
   },
   "outputs": [
    {
     "data": {
      "text/html": [
       "<div>\n",
       "<style scoped>\n",
       "    .dataframe tbody tr th:only-of-type {\n",
       "        vertical-align: middle;\n",
       "    }\n",
       "\n",
       "    .dataframe tbody tr th {\n",
       "        vertical-align: top;\n",
       "    }\n",
       "\n",
       "    .dataframe thead th {\n",
       "        text-align: right;\n",
       "    }\n",
       "</style>\n",
       "<table border=\"1\" class=\"dataframe\">\n",
       "  <thead>\n",
       "    <tr style=\"text-align: right;\">\n",
       "      <th></th>\n",
       "      <th>uuid</th>\n",
       "      <th>upload_time</th>\n",
       "      <th>parent_uuids</th>\n",
       "      <th>basket_type</th>\n",
       "      <th>label</th>\n",
       "      <th>weave_version</th>\n",
       "      <th>address</th>\n",
       "      <th>storage_type</th>\n",
       "    </tr>\n",
       "  </thead>\n",
       "  <tbody>\n",
       "    <tr>\n",
       "      <th>0</th>\n",
       "      <td>58a7843efc1a11ed8cb60242ac120009</td>\n",
       "      <td>2023-05-26 23:09:20</td>\n",
       "      <td>[]</td>\n",
       "      <td>HUD_video</td>\n",
       "      <td></td>\n",
       "      <td>&lt;0.13.0</td>\n",
       "      <td>basket-data/HUD_video/58a7843efc1a11ed8cb60242...</td>\n",
       "      <td>S3FileSystem</td>\n",
       "    </tr>\n",
       "    <tr>\n",
       "      <th>1</th>\n",
       "      <td>cb33dc3afbfe11edb4a40242ac120005</td>\n",
       "      <td>2023-05-26 19:52:06</td>\n",
       "      <td>[]</td>\n",
       "      <td>NASA_ARINC429_DTS</td>\n",
       "      <td></td>\n",
       "      <td>&lt;0.13.0</td>\n",
       "      <td>basket-data/NASA_ARINC429_DTS/cb33dc3afbfe11ed...</td>\n",
       "      <td>S3FileSystem</td>\n",
       "    </tr>\n",
       "    <tr>\n",
       "      <th>2</th>\n",
       "      <td>d611a2b8fbfe11edb4a40242ac120005</td>\n",
       "      <td>2023-05-26 19:52:25</td>\n",
       "      <td>[]</td>\n",
       "      <td>NASA_MILSTD1553_DTS</td>\n",
       "      <td></td>\n",
       "      <td>&lt;0.13.0</td>\n",
       "      <td>basket-data/NASA_MILSTD1553_DTS/d611a2b8fbfe11...</td>\n",
       "      <td>S3FileSystem</td>\n",
       "    </tr>\n",
       "    <tr>\n",
       "      <th>3</th>\n",
       "      <td>00762bacfbf311ed9ee60242ac120005</td>\n",
       "      <td>2023-05-26 18:27:42</td>\n",
       "      <td>[]</td>\n",
       "      <td>ch10</td>\n",
       "      <td>652200101201352</td>\n",
       "      <td>&lt;0.13.0</td>\n",
       "      <td>basket-data/ch10/00762bacfbf311ed9ee60242ac120005</td>\n",
       "      <td>S3FileSystem</td>\n",
       "    </tr>\n",
       "    <tr>\n",
       "      <th>4</th>\n",
       "      <td>018e74aefbf311ed9ee60242ac120005</td>\n",
       "      <td>2023-05-26 18:27:45</td>\n",
       "      <td>[]</td>\n",
       "      <td>ch10</td>\n",
       "      <td>652200101201529</td>\n",
       "      <td>&lt;0.13.0</td>\n",
       "      <td>basket-data/ch10/018e74aefbf311ed9ee60242ac120005</td>\n",
       "      <td>S3FileSystem</td>\n",
       "    </tr>\n",
       "  </tbody>\n",
       "</table>\n",
       "</div>"
      ],
      "text/plain": [
       "                               uuid         upload_time parent_uuids  \\\n",
       "0  58a7843efc1a11ed8cb60242ac120009 2023-05-26 23:09:20           []   \n",
       "1  cb33dc3afbfe11edb4a40242ac120005 2023-05-26 19:52:06           []   \n",
       "2  d611a2b8fbfe11edb4a40242ac120005 2023-05-26 19:52:25           []   \n",
       "3  00762bacfbf311ed9ee60242ac120005 2023-05-26 18:27:42           []   \n",
       "4  018e74aefbf311ed9ee60242ac120005 2023-05-26 18:27:45           []   \n",
       "\n",
       "           basket_type            label weave_version  \\\n",
       "0            HUD_video                        <0.13.0   \n",
       "1    NASA_ARINC429_DTS                        <0.13.0   \n",
       "2  NASA_MILSTD1553_DTS                        <0.13.0   \n",
       "3                 ch10  652200101201352       <0.13.0   \n",
       "4                 ch10  652200101201529       <0.13.0   \n",
       "\n",
       "                                             address  storage_type  \n",
       "0  basket-data/HUD_video/58a7843efc1a11ed8cb60242...  S3FileSystem  \n",
       "1  basket-data/NASA_ARINC429_DTS/cb33dc3afbfe11ed...  S3FileSystem  \n",
       "2  basket-data/NASA_MILSTD1553_DTS/d611a2b8fbfe11...  S3FileSystem  \n",
       "3  basket-data/ch10/00762bacfbf311ed9ee60242ac120005  S3FileSystem  \n",
       "4  basket-data/ch10/018e74aefbf311ed9ee60242ac120005  S3FileSystem  "
      ]
     },
     "execution_count": 11,
     "metadata": {},
     "output_type": "execute_result"
    }
   ],
   "source": [
    "# Create a pantry\n",
    "pantry = weave.Pantry(\n",
    "    weave.IndexPandas,\n",
    "    pantry_path=\"basket-data\",\n",
    "    file_system=s3,\n",
    ")\n",
    "\n",
    "# Ensure the index is up to date, then get the pandas df representation.\n",
    "index = pantry.index\n",
    "index.generate_index()\n",
    "index_df = index.to_pandas_df(max_rows=5000)\n",
    "index_df.head()"
   ]
  },
  {
   "cell_type": "code",
   "execution_count": 14,
   "id": "8e9a0867-7abd-4b13-bf1b-e9aa131d24a5",
   "metadata": {
    "tags": []
   },
   "outputs": [
    {
     "name": "stdout",
     "output_type": "stream",
     "text": [
      "Index length: 2803\n"
     ]
    },
    {
     "data": {
      "text/plain": [
       "ch10                          560\n",
       "ch10_parsed                   560\n",
       "ch10_summary                  560\n",
       "ch10_translated_ARINC429      560\n",
       "ch10_translated_MILSTD1553    560\n",
       "HUD_video                       1\n",
       "NASA_ARINC429_DTS               1\n",
       "NASA_MILSTD1553_DTS             1\n",
       "Name: basket_type, dtype: int64"
      ]
     },
     "execution_count": 14,
     "metadata": {},
     "output_type": "execute_result"
    }
   ],
   "source": [
    "print(f\"Index length: {len(index)}\")\n",
    "index_df.basket_type.value_counts()"
   ]
  },
  {
   "cell_type": "markdown",
   "id": "c174fca9-1f74-4ebb-b9b8-219092e33227",
   "metadata": {},
   "source": [
    "# Where did my data come from?\n",
    "\n",
    "### Provenance tracking example using Metaflow and TIP."
   ]
  },
  {
   "cell_type": "code",
   "execution_count": 4,
   "id": "c712f844-5cc7-4e85-8bd4-0fd82b79a4fd",
   "metadata": {
    "tags": []
   },
   "outputs": [
    {
     "data": {
      "text/html": [
       "<div>\n",
       "<style scoped>\n",
       "    .dataframe tbody tr th:only-of-type {\n",
       "        vertical-align: middle;\n",
       "    }\n",
       "\n",
       "    .dataframe tbody tr th {\n",
       "        vertical-align: top;\n",
       "    }\n",
       "\n",
       "    .dataframe thead th {\n",
       "        text-align: right;\n",
       "    }\n",
       "</style>\n",
       "<table border=\"1\" class=\"dataframe\">\n",
       "  <thead>\n",
       "    <tr style=\"text-align: right;\">\n",
       "      <th></th>\n",
       "      <th>uuid</th>\n",
       "      <th>upload_time</th>\n",
       "      <th>parent_uuids</th>\n",
       "      <th>basket_type</th>\n",
       "      <th>label</th>\n",
       "      <th>weave_version</th>\n",
       "      <th>address</th>\n",
       "      <th>storage_type</th>\n",
       "    </tr>\n",
       "  </thead>\n",
       "  <tbody>\n",
       "    <tr>\n",
       "      <th>0</th>\n",
       "      <td>6265de2c5cc211eeaa8d0242ac120005</td>\n",
       "      <td>2023-09-26 23:14:03.974346+00:00</td>\n",
       "      <td>[]</td>\n",
       "      <td>NASA_ARINC429_DTS</td>\n",
       "      <td></td>\n",
       "      <td>0.14.1</td>\n",
       "      <td>provenance-demo/NASA_ARINC429_DTS/6265de2c5cc2...</td>\n",
       "      <td>S3FileSystem</td>\n",
       "    </tr>\n",
       "    <tr>\n",
       "      <th>1</th>\n",
       "      <td>625385605cc211eeaa8d0242ac120005</td>\n",
       "      <td>2023-09-26 23:14:03.902339+00:00</td>\n",
       "      <td>[]</td>\n",
       "      <td>NASA_MILSTD1553_DTS</td>\n",
       "      <td></td>\n",
       "      <td>0.14.1</td>\n",
       "      <td>provenance-demo/NASA_MILSTD1553_DTS/625385605c...</td>\n",
       "      <td>S3FileSystem</td>\n",
       "    </tr>\n",
       "    <tr>\n",
       "      <th>2</th>\n",
       "      <td>6270a53c5cc211eeaa8d0242ac120005</td>\n",
       "      <td>2023-09-26 23:14:04.076037+00:00</td>\n",
       "      <td>[]</td>\n",
       "      <td>ch10</td>\n",
       "      <td></td>\n",
       "      <td>0.14.1</td>\n",
       "      <td>provenance-demo/ch10/6270a53c5cc211eeaa8d0242a...</td>\n",
       "      <td>S3FileSystem</td>\n",
       "    </tr>\n",
       "  </tbody>\n",
       "</table>\n",
       "</div>"
      ],
      "text/plain": [
       "                               uuid                      upload_time  \\\n",
       "0  6265de2c5cc211eeaa8d0242ac120005 2023-09-26 23:14:03.974346+00:00   \n",
       "1  625385605cc211eeaa8d0242ac120005 2023-09-26 23:14:03.902339+00:00   \n",
       "2  6270a53c5cc211eeaa8d0242ac120005 2023-09-26 23:14:04.076037+00:00   \n",
       "\n",
       "  parent_uuids          basket_type label weave_version  \\\n",
       "0           []    NASA_ARINC429_DTS              0.14.1   \n",
       "1           []  NASA_MILSTD1553_DTS              0.14.1   \n",
       "2           []                 ch10              0.14.1   \n",
       "\n",
       "                                             address  storage_type  \n",
       "0  provenance-demo/NASA_ARINC429_DTS/6265de2c5cc2...  S3FileSystem  \n",
       "1  provenance-demo/NASA_MILSTD1553_DTS/625385605c...  S3FileSystem  \n",
       "2  provenance-demo/ch10/6270a53c5cc211eeaa8d0242a...  S3FileSystem  "
      ]
     },
     "execution_count": 4,
     "metadata": {},
     "output_type": "execute_result"
    }
   ],
   "source": [
    "small_index = weave.index.create_index.create_index_from_fs(root_dir='provenance-demo', file_system=s3)\n",
    "small_index"
   ]
  },
  {
   "cell_type": "code",
   "execution_count": 6,
   "id": "1d37926f-66a3-4655-b750-fe9b7b991436",
   "metadata": {
    "tags": []
   },
   "outputs": [
    {
     "name": "stdout",
     "output_type": "stream",
     "text": [
      "\u001b[35m\u001b[1mMetaflow 2.7.23\u001b[0m\u001b[35m\u001b[22m executing \u001b[0m\u001b[31m\u001b[1mNASAch10ParseFlow\u001b[0m\u001b[35m\u001b[22m\u001b[0m\u001b[35m\u001b[22m for \u001b[0m\u001b[31m\u001b[1muser:jovyan\u001b[0m\u001b[35m\u001b[22m\u001b[K\u001b[0m\u001b[35m\u001b[22m\u001b[0m\n",
      "\u001b[35m\u001b[22mValidating your flow...\u001b[K\u001b[0m\u001b[35m\u001b[22m\u001b[0m\n",
      "\u001b[32m\u001b[1m    The graph looks good!\u001b[K\u001b[0m\u001b[32m\u001b[1m\u001b[0m\n",
      "\u001b[35m2023-09-26 23:15:03.648 \u001b[0m\u001b[1mWorkflow starting (run-id 1695770103433570):\u001b[0m\n",
      "\u001b[35m2023-09-26 23:15:03.663 \u001b[0m\u001b[32m[1695770103433570/start/1 (pid 1116)] \u001b[0m\u001b[1mTask is starting.\u001b[0m\n",
      "\u001b[35m2023-09-26 23:15:06.782 \u001b[0m\u001b[32m[1695770103433570/start/1 (pid 1116)] \u001b[0m\u001b[1mTask finished successfully.\u001b[0m\n",
      "\u001b[35m2023-09-26 23:15:06.882 \u001b[0m\u001b[32m[1695770103433570/parse_ch10s/2 (pid 1155)] \u001b[0m\u001b[1mTask is starting.\u001b[0m\n",
      "\u001b[35m2023-09-26 23:15:08.670 \u001b[0m\u001b[32m[1695770103433570/parse_ch10s/2 (pid 1155)] \u001b[0m\u001b[22m1/1: provenance-demo/ch10/6270a53c5cc211eeaa8d0242ac120005\u001b[0m\n",
      "\u001b[35m2023-09-26 23:15:08.686 \u001b[0m\u001b[32m[1695770103433570/parse_ch10s/2 (pid 1155)] \u001b[0m\u001b[22mhere1\u001b[0m\n",
      "\u001b[35m2023-09-26 23:15:08.731 \u001b[0m\u001b[32m[1695770103433570/parse_ch10s/2 (pid 1155)] \u001b[0m\u001b[22mGetTerminalSize(): Call to ioctl failed\u001b[0m\n",
      "\u001b[35m2023-09-26 23:15:09.183 \u001b[0m\u001b[32m[1695770103433570/parse_ch10s/2 (pid 1155)] \u001b[0m\u001b[22mCLIGroup(): Failed to get terminal size\u001b[0m\n",
      "\u001b[35m2023-09-26 23:15:09.184 \u001b[0m\u001b[32m[1695770103433570/parse_ch10s/2 (pid 1155)] \u001b[0m\u001b[22mhere2\u001b[0m\n",
      "\u001b[35m2023-09-26 23:15:09.224 \u001b[0m\u001b[32m[1695770103433570/parse_ch10s/2 (pid 1155)] \u001b[0m\u001b[22m'module' object is not callable\u001b[0m\n",
      "\u001b[35m2023-09-26 23:15:10.486 \u001b[0m\u001b[32m[1695770103433570/parse_ch10s/2 (pid 1155)] \u001b[0m\u001b[22mbasket failed: provenance-demo/ch10/6270a53c5cc211eeaa8d0242ac120005)\u001b[0m\n",
      "\u001b[35m2023-09-26 23:15:10.533 \u001b[0m\u001b[32m[1695770103433570/parse_ch10s/2 (pid 1155)] \u001b[0m\u001b[1mTask finished successfully.\u001b[0m\n",
      "\u001b[35m2023-09-26 23:15:10.606 \u001b[0m\u001b[32m[1695770103433570/end/3 (pid 1193)] \u001b[0m\u001b[1mTask is starting.\u001b[0m\n",
      "\u001b[35m2023-09-26 23:15:11.965 \u001b[0m\u001b[32m[1695770103433570/end/3 (pid 1193)] \u001b[0m\u001b[22mAll Done\u001b[0m\n",
      "\u001b[35m2023-09-26 23:15:14.409 \u001b[0m\u001b[32m[1695770103433570/end/3 (pid 1193)] \u001b[0m\u001b[1mTask finished successfully.\u001b[0m\n",
      "\u001b[35m2023-09-26 23:15:14.438 \u001b[0m\u001b[1mDone!\u001b[0m\n"
     ]
    }
   ],
   "source": [
    "!python /home/jovyan/opal/data-engineering-resources/NASA_ch10_flows/parse_nasa_ch10s_flow.py --no-pylint run --bucket_name provenance-demo --n 1"
   ]
  },
  {
   "cell_type": "code",
   "execution_count": 17,
   "id": "6a785e4d-a54e-43ad-b729-b22fb7419bfa",
   "metadata": {
    "tags": []
   },
   "outputs": [
    {
     "data": {
      "text/html": [
       "<div>\n",
       "<style scoped>\n",
       "    .dataframe tbody tr th:only-of-type {\n",
       "        vertical-align: middle;\n",
       "    }\n",
       "\n",
       "    .dataframe tbody tr th {\n",
       "        vertical-align: top;\n",
       "    }\n",
       "\n",
       "    .dataframe thead th {\n",
       "        text-align: right;\n",
       "    }\n",
       "</style>\n",
       "<table border=\"1\" class=\"dataframe\">\n",
       "  <thead>\n",
       "    <tr style=\"text-align: right;\">\n",
       "      <th></th>\n",
       "      <th>uuid</th>\n",
       "      <th>upload_time</th>\n",
       "      <th>parent_uuids</th>\n",
       "      <th>basket_type</th>\n",
       "      <th>label</th>\n",
       "      <th>weave_version</th>\n",
       "      <th>address</th>\n",
       "      <th>storage_type</th>\n",
       "    </tr>\n",
       "  </thead>\n",
       "  <tbody>\n",
       "    <tr>\n",
       "      <th>0</th>\n",
       "      <td>7de84b145cc011ee87c00242ac120005</td>\n",
       "      <td>2023-09-26 23:00:31.151993+00:00</td>\n",
       "      <td>[]</td>\n",
       "      <td>NASA_ARINC429_DTS</td>\n",
       "      <td></td>\n",
       "      <td>0.14.1</td>\n",
       "      <td>provenance-demo/NASA_ARINC429_DTS/7de84b145cc0...</td>\n",
       "      <td>S3FileSystem</td>\n",
       "    </tr>\n",
       "    <tr>\n",
       "      <th>1</th>\n",
       "      <td>7dd977745cc011ee87c00242ac120005</td>\n",
       "      <td>2023-09-26 23:00:31.054644+00:00</td>\n",
       "      <td>[]</td>\n",
       "      <td>NASA_MILSTD1553_DTS</td>\n",
       "      <td></td>\n",
       "      <td>0.14.1</td>\n",
       "      <td>provenance-demo/NASA_MILSTD1553_DTS/7dd977745c...</td>\n",
       "      <td>S3FileSystem</td>\n",
       "    </tr>\n",
       "    <tr>\n",
       "      <th>2</th>\n",
       "      <td>7df9dd7a5cc011ee87c00242ac120005</td>\n",
       "      <td>2023-09-26 23:00:31.281083+00:00</td>\n",
       "      <td>[]</td>\n",
       "      <td>ch10</td>\n",
       "      <td></td>\n",
       "      <td>0.14.1</td>\n",
       "      <td>provenance-demo/ch10/7df9dd7a5cc011ee87c00242a...</td>\n",
       "      <td>S3FileSystem</td>\n",
       "    </tr>\n",
       "  </tbody>\n",
       "</table>\n",
       "</div>"
      ],
      "text/plain": [
       "                               uuid                      upload_time  \\\n",
       "0  7de84b145cc011ee87c00242ac120005 2023-09-26 23:00:31.151993+00:00   \n",
       "1  7dd977745cc011ee87c00242ac120005 2023-09-26 23:00:31.054644+00:00   \n",
       "2  7df9dd7a5cc011ee87c00242ac120005 2023-09-26 23:00:31.281083+00:00   \n",
       "\n",
       "  parent_uuids          basket_type label weave_version  \\\n",
       "0           []    NASA_ARINC429_DTS              0.14.1   \n",
       "1           []  NASA_MILSTD1553_DTS              0.14.1   \n",
       "2           []                 ch10              0.14.1   \n",
       "\n",
       "                                             address  storage_type  \n",
       "0  provenance-demo/NASA_ARINC429_DTS/7de84b145cc0...  S3FileSystem  \n",
       "1  provenance-demo/NASA_MILSTD1553_DTS/7dd977745c...  S3FileSystem  \n",
       "2  provenance-demo/ch10/7df9dd7a5cc011ee87c00242a...  S3FileSystem  "
      ]
     },
     "execution_count": 17,
     "metadata": {},
     "output_type": "execute_result"
    }
   ],
   "source": [
    "small_index = weave.index.create_index.create_index_from_fs(root_dir='provenance-demo', file_system=s3)\n",
    "small_index"
   ]
  },
  {
   "cell_type": "code",
   "execution_count": 18,
   "id": "d94793c7-ad59-4a9b-8133-8e1b3000c731",
   "metadata": {
    "tags": []
   },
   "outputs": [
    {
     "name": "stdout",
     "output_type": "stream",
     "text": [
      "\u001b[35m\u001b[1mMetaflow 2.7.23\u001b[0m\u001b[35m\u001b[22m executing \u001b[0m\u001b[31m\u001b[1mNASAch10TranslateFlow\u001b[0m\u001b[35m\u001b[22m\u001b[0m\u001b[35m\u001b[22m for \u001b[0m\u001b[31m\u001b[1muser:jovyan\u001b[0m\u001b[35m\u001b[22m\u001b[K\u001b[0m\u001b[35m\u001b[22m\u001b[0m\n",
      "\u001b[35m\u001b[22mValidating your flow...\u001b[K\u001b[0m\u001b[35m\u001b[22m\u001b[0m\n",
      "\u001b[32m\u001b[1m    The graph looks good!\u001b[K\u001b[0m\u001b[32m\u001b[1m\u001b[0m\n",
      "\u001b[35m2023-09-26 23:02:57.272 \u001b[0m\u001b[1mWorkflow starting (run-id 1695769377093582):\u001b[0m\n",
      "\u001b[35m2023-09-26 23:02:57.287 \u001b[0m\u001b[32m[1695769377093582/start/1 (pid 465)] \u001b[0m\u001b[1mTask is starting.\u001b[0m\n",
      "\u001b[35m2023-09-26 23:03:00.385 \u001b[0m\u001b[32m[1695769377093582/start/1 (pid 465)] \u001b[0m\u001b[1mTask finished successfully.\u001b[0m\n",
      "\u001b[35m2023-09-26 23:03:00.433 \u001b[0m\u001b[32m[1695769377093582/get_dts_file/2 (pid 510)] \u001b[0m\u001b[1mTask is starting.\u001b[0m\n",
      "\u001b[35m2023-09-26 23:03:03.648 \u001b[0m\u001b[32m[1695769377093582/get_dts_file/2 (pid 510)] \u001b[0m\u001b[1mTask finished successfully.\u001b[0m\n",
      "\u001b[35m2023-09-26 23:03:03.706 \u001b[0m\u001b[32m[1695769377093582/translate_parsed/3 (pid 555)] \u001b[0m\u001b[1mTask is starting.\u001b[0m\n",
      "\u001b[35m2023-09-26 23:03:05.873 \u001b[0m\u001b[32m[1695769377093582/translate_parsed/3 (pid 555)] \u001b[0m\u001b[1mTask finished successfully.\u001b[0m\n",
      "\u001b[35m2023-09-26 23:03:05.926 \u001b[0m\u001b[32m[1695769377093582/end/4 (pid 587)] \u001b[0m\u001b[1mTask is starting.\u001b[0m\n",
      "\u001b[35m2023-09-26 23:03:07.304 \u001b[0m\u001b[32m[1695769377093582/end/4 (pid 587)] \u001b[0m\u001b[22mAll Done\u001b[0m\n",
      "\u001b[35m2023-09-26 23:03:09.941 \u001b[0m\u001b[32m[1695769377093582/end/4 (pid 587)] \u001b[0m\u001b[1mTask finished successfully.\u001b[0m\n",
      "\u001b[35m2023-09-26 23:03:09.978 \u001b[0m\u001b[1mDone!\u001b[0m\n",
      "\u001b[35m\u001b[1mMetaflow 2.7.23\u001b[0m\u001b[35m\u001b[22m executing \u001b[0m\u001b[31m\u001b[1mNASAch10TranslateFlow\u001b[0m\u001b[35m\u001b[22m\u001b[0m\u001b[35m\u001b[22m for \u001b[0m\u001b[31m\u001b[1muser:jovyan\u001b[0m\u001b[35m\u001b[22m\u001b[K\u001b[0m\u001b[35m\u001b[22m\u001b[0m\n",
      "\u001b[35m\u001b[22mValidating your flow...\u001b[K\u001b[0m\u001b[35m\u001b[22m\u001b[0m\n",
      "\u001b[32m\u001b[1m    The graph looks good!\u001b[K\u001b[0m\u001b[32m\u001b[1m\u001b[0m\n",
      "\u001b[35m2023-09-26 23:03:12.641 \u001b[0m\u001b[1mWorkflow starting (run-id 1695769392487886):\u001b[0m\n",
      "\u001b[35m2023-09-26 23:03:12.663 \u001b[0m\u001b[32m[1695769392487886/start/1 (pid 648)] \u001b[0m\u001b[1mTask is starting.\u001b[0m\n",
      "\u001b[35m2023-09-26 23:03:15.738 \u001b[0m\u001b[32m[1695769392487886/start/1 (pid 648)] \u001b[0m\u001b[1mTask finished successfully.\u001b[0m\n",
      "\u001b[35m2023-09-26 23:03:15.792 \u001b[0m\u001b[32m[1695769392487886/get_dts_file/2 (pid 691)] \u001b[0m\u001b[1mTask is starting.\u001b[0m\n",
      "\u001b[35m2023-09-26 23:03:19.143 \u001b[0m\u001b[32m[1695769392487886/get_dts_file/2 (pid 691)] \u001b[0m\u001b[1mTask finished successfully.\u001b[0m\n",
      "\u001b[35m2023-09-26 23:03:19.188 \u001b[0m\u001b[32m[1695769392487886/translate_parsed/3 (pid 733)] \u001b[0m\u001b[1mTask is starting.\u001b[0m\n",
      "\u001b[35m2023-09-26 23:03:21.184 \u001b[0m\u001b[32m[1695769392487886/translate_parsed/3 (pid 733)] \u001b[0m\u001b[1mTask finished successfully.\u001b[0m\n",
      "\u001b[35m2023-09-26 23:03:21.231 \u001b[0m\u001b[32m[1695769392487886/end/4 (pid 764)] \u001b[0m\u001b[1mTask is starting.\u001b[0m\n",
      "\u001b[35m2023-09-26 23:03:22.517 \u001b[0m\u001b[32m[1695769392487886/end/4 (pid 764)] \u001b[0m\u001b[22mAll Done\u001b[0m\n",
      "\u001b[35m2023-09-26 23:03:25.205 \u001b[0m\u001b[32m[1695769392487886/end/4 (pid 764)] \u001b[0m\u001b[1mTask finished successfully.\u001b[0m\n",
      "\u001b[35m2023-09-26 23:03:25.238 \u001b[0m\u001b[1mDone!\u001b[0m\n"
     ]
    }
   ],
   "source": [
    "!python /home/jovyan/opal/data-engineering-resources/NASA_ch10_flows/translate_nasa_ch10s_flow.py --no-pylint run --bucket_name provenance-demo --n 1\n",
    "!python /home/jovyan/opal/data-engineering-resources/NASA_ch10_flows/translate_nasa_ch10s_flow.py --no-pylint run --bucket_name provenance-demo --data_type ARINC429 --n 1"
   ]
  },
  {
   "cell_type": "code",
   "execution_count": 19,
   "id": "1a8a5acf-dc16-4cce-b976-d71c8b756931",
   "metadata": {
    "tags": []
   },
   "outputs": [
    {
     "data": {
      "text/html": [
       "<div>\n",
       "<style scoped>\n",
       "    .dataframe tbody tr th:only-of-type {\n",
       "        vertical-align: middle;\n",
       "    }\n",
       "\n",
       "    .dataframe tbody tr th {\n",
       "        vertical-align: top;\n",
       "    }\n",
       "\n",
       "    .dataframe thead th {\n",
       "        text-align: right;\n",
       "    }\n",
       "</style>\n",
       "<table border=\"1\" class=\"dataframe\">\n",
       "  <thead>\n",
       "    <tr style=\"text-align: right;\">\n",
       "      <th></th>\n",
       "      <th>uuid</th>\n",
       "      <th>upload_time</th>\n",
       "      <th>parent_uuids</th>\n",
       "      <th>basket_type</th>\n",
       "      <th>label</th>\n",
       "      <th>weave_version</th>\n",
       "      <th>address</th>\n",
       "      <th>storage_type</th>\n",
       "    </tr>\n",
       "  </thead>\n",
       "  <tbody>\n",
       "    <tr>\n",
       "      <th>0</th>\n",
       "      <td>7de84b145cc011ee87c00242ac120005</td>\n",
       "      <td>2023-09-26 23:00:31.151993+00:00</td>\n",
       "      <td>[]</td>\n",
       "      <td>NASA_ARINC429_DTS</td>\n",
       "      <td></td>\n",
       "      <td>0.14.1</td>\n",
       "      <td>provenance-demo/NASA_ARINC429_DTS/7de84b145cc0...</td>\n",
       "      <td>S3FileSystem</td>\n",
       "    </tr>\n",
       "    <tr>\n",
       "      <th>1</th>\n",
       "      <td>7dd977745cc011ee87c00242ac120005</td>\n",
       "      <td>2023-09-26 23:00:31.054644+00:00</td>\n",
       "      <td>[]</td>\n",
       "      <td>NASA_MILSTD1553_DTS</td>\n",
       "      <td></td>\n",
       "      <td>0.14.1</td>\n",
       "      <td>provenance-demo/NASA_MILSTD1553_DTS/7dd977745c...</td>\n",
       "      <td>S3FileSystem</td>\n",
       "    </tr>\n",
       "    <tr>\n",
       "      <th>2</th>\n",
       "      <td>7df9dd7a5cc011ee87c00242ac120005</td>\n",
       "      <td>2023-09-26 23:00:31.281083+00:00</td>\n",
       "      <td>[]</td>\n",
       "      <td>ch10</td>\n",
       "      <td></td>\n",
       "      <td>0.14.1</td>\n",
       "      <td>provenance-demo/ch10/7df9dd7a5cc011ee87c00242a...</td>\n",
       "      <td>S3FileSystem</td>\n",
       "    </tr>\n",
       "  </tbody>\n",
       "</table>\n",
       "</div>"
      ],
      "text/plain": [
       "                               uuid                      upload_time  \\\n",
       "0  7de84b145cc011ee87c00242ac120005 2023-09-26 23:00:31.151993+00:00   \n",
       "1  7dd977745cc011ee87c00242ac120005 2023-09-26 23:00:31.054644+00:00   \n",
       "2  7df9dd7a5cc011ee87c00242ac120005 2023-09-26 23:00:31.281083+00:00   \n",
       "\n",
       "  parent_uuids          basket_type label weave_version  \\\n",
       "0           []    NASA_ARINC429_DTS              0.14.1   \n",
       "1           []  NASA_MILSTD1553_DTS              0.14.1   \n",
       "2           []                 ch10              0.14.1   \n",
       "\n",
       "                                             address  storage_type  \n",
       "0  provenance-demo/NASA_ARINC429_DTS/7de84b145cc0...  S3FileSystem  \n",
       "1  provenance-demo/NASA_MILSTD1553_DTS/7dd977745c...  S3FileSystem  \n",
       "2  provenance-demo/ch10/7df9dd7a5cc011ee87c00242a...  S3FileSystem  "
      ]
     },
     "execution_count": 19,
     "metadata": {},
     "output_type": "execute_result"
    }
   ],
   "source": [
    "small_index = weave.index.create_index.create_index_from_fs(root_dir='provenance-demo', file_system=s3)\n",
    "small_index"
   ]
  },
  {
   "cell_type": "code",
   "execution_count": 22,
   "id": "ba4419ea-9b7b-44ae-ad4b-ed2c5dd10334",
   "metadata": {
    "tags": []
   },
   "outputs": [
    {
     "name": "stdout",
     "output_type": "stream",
     "text": [
      "Empty DataFrame\n",
      "Columns: [uuid, upload_time, parent_uuids, basket_type, label, weave_version, address, storage_type]\n",
      "Index: []\n"
     ]
    },
    {
     "ename": "NameError",
     "evalue": "name 'arinc_path' is not defined",
     "output_type": "error",
     "traceback": [
      "\u001b[0;31m---------------------------------------------------------------------------\u001b[0m",
      "\u001b[0;31mNameError\u001b[0m                                 Traceback (most recent call last)",
      "Cell \u001b[0;32mIn[22], line 6\u001b[0m\n\u001b[1;32m      3\u001b[0m arincx_basket \u001b[38;5;241m=\u001b[39m small_index[small_index[\u001b[38;5;124m\"\u001b[39m\u001b[38;5;124mbasket_type\u001b[39m\u001b[38;5;124m\"\u001b[39m] \u001b[38;5;241m==\u001b[39m \u001b[38;5;124m\"\u001b[39m\u001b[38;5;124mch10_translated_ARINC429\u001b[39m\u001b[38;5;124m\"\u001b[39m]\n\u001b[1;32m      5\u001b[0m \u001b[38;5;28mprint\u001b[39m(arinc_basket)\n\u001b[0;32m----> 6\u001b[0m arinc_metadata_path \u001b[38;5;241m=\u001b[39m os\u001b[38;5;241m.\u001b[39mpath\u001b[38;5;241m.\u001b[39mjoin(\u001b[43marinc_path\u001b[49m, \u001b[38;5;124m'\u001b[39m\u001b[38;5;124mbasket_metadata.json\u001b[39m\u001b[38;5;124m'\u001b[39m)\n\u001b[1;32m      7\u001b[0m \u001b[38;5;28;01mwith\u001b[39;00m s3\u001b[38;5;241m.\u001b[39mopen(arinc_metadata_path, \u001b[38;5;124m'\u001b[39m\u001b[38;5;124mrb\u001b[39m\u001b[38;5;124m'\u001b[39m) \u001b[38;5;28;01mas\u001b[39;00m file:\n\u001b[1;32m      8\u001b[0m     arinc_metadata \u001b[38;5;241m=\u001b[39m json\u001b[38;5;241m.\u001b[39mload(file)\n",
      "\u001b[0;31mNameError\u001b[0m: name 'arinc_path' is not defined"
     ]
    }
   ],
   "source": [
    "# arinc_basket = small_index[small_index.basket_type == 'ch10_translated_ARINC429']\n",
    "# arinc_path = arinc_basket.address.iloc[0]\n",
    "arincx_basket = small_index[small_index[\"basket_type\"] == \"ch10_translated_ARINC429\"]\n",
    "\n",
    "print(arinc_basket)\n",
    "arinc_metadata_path = os.path.join(arinc_path, 'basket_metadata.json')\n",
    "with s3.open(arinc_metadata_path, 'rb') as file:\n",
    "    arinc_metadata = json.load(file)\n",
    "arinc_metadata"
   ]
  },
  {
   "cell_type": "markdown",
   "id": "b1b49c22-9876-4b34-b54a-77722541efcf",
   "metadata": {},
   "source": [
    "### A look back at the complete index."
   ]
  },
  {
   "cell_type": "code",
   "execution_count": 15,
   "id": "429806f2-2204-48d0-baff-0d52479c9609",
   "metadata": {
    "tags": []
   },
   "outputs": [
    {
     "data": {
      "text/html": [
       "<div>\n",
       "<style scoped>\n",
       "    .dataframe tbody tr th:only-of-type {\n",
       "        vertical-align: middle;\n",
       "    }\n",
       "\n",
       "    .dataframe tbody tr th {\n",
       "        vertical-align: top;\n",
       "    }\n",
       "\n",
       "    .dataframe thead th {\n",
       "        text-align: right;\n",
       "    }\n",
       "</style>\n",
       "<table border=\"1\" class=\"dataframe\">\n",
       "  <thead>\n",
       "    <tr style=\"text-align: right;\">\n",
       "      <th></th>\n",
       "      <th>uuid</th>\n",
       "      <th>upload_time</th>\n",
       "      <th>parent_uuids</th>\n",
       "      <th>basket_type</th>\n",
       "      <th>label</th>\n",
       "      <th>weave_version</th>\n",
       "      <th>address</th>\n",
       "      <th>storage_type</th>\n",
       "    </tr>\n",
       "  </thead>\n",
       "  <tbody>\n",
       "    <tr>\n",
       "      <th>0</th>\n",
       "      <td>02f5c1d6093511eebd3c0242c0a82011</td>\n",
       "      <td>2023-06-12 15:22:58</td>\n",
       "      <td>[]</td>\n",
       "      <td>NASA_ARINC429_DTS</td>\n",
       "      <td></td>\n",
       "      <td>&lt;0.13.0</td>\n",
       "      <td>basket-data/NASA_ARINC429_DTS/02f5c1d6093511ee...</td>\n",
       "      <td>S3FileSystem</td>\n",
       "    </tr>\n",
       "    <tr>\n",
       "      <th>1</th>\n",
       "      <td>14a09eec093511eebd3c0242c0a82011</td>\n",
       "      <td>2023-06-12 15:23:27</td>\n",
       "      <td>[]</td>\n",
       "      <td>NASA_MILSTD1553_DTS</td>\n",
       "      <td></td>\n",
       "      <td>&lt;0.13.0</td>\n",
       "      <td>basket-data/NASA_MILSTD1553_DTS/14a09eec093511...</td>\n",
       "      <td>S3FileSystem</td>\n",
       "    </tr>\n",
       "    <tr>\n",
       "      <th>2</th>\n",
       "      <td>38721480093111ee9c260242c0a82011</td>\n",
       "      <td>2023-06-12 14:55:51</td>\n",
       "      <td>[]</td>\n",
       "      <td>ch10</td>\n",
       "      <td>652200101100441</td>\n",
       "      <td>&lt;0.13.0</td>\n",
       "      <td>basket-data/ch10/38721480093111ee9c260242c0a82011</td>\n",
       "      <td>S3FileSystem</td>\n",
       "    </tr>\n",
       "    <tr>\n",
       "      <th>3</th>\n",
       "      <td>39fe2b54093111ee9c260242c0a82011</td>\n",
       "      <td>2023-06-12 14:55:54</td>\n",
       "      <td>[]</td>\n",
       "      <td>ch10</td>\n",
       "      <td>652200101121118</td>\n",
       "      <td>&lt;0.13.0</td>\n",
       "      <td>basket-data/ch10/39fe2b54093111ee9c260242c0a82011</td>\n",
       "      <td>S3FileSystem</td>\n",
       "    </tr>\n",
       "    <tr>\n",
       "      <th>4</th>\n",
       "      <td>3b028fc2093111ee9c260242c0a82011</td>\n",
       "      <td>2023-06-12 14:55:54</td>\n",
       "      <td>[]</td>\n",
       "      <td>ch10</td>\n",
       "      <td>652200101121218</td>\n",
       "      <td>&lt;0.13.0</td>\n",
       "      <td>basket-data/ch10/3b028fc2093111ee9c260242c0a82011</td>\n",
       "      <td>S3FileSystem</td>\n",
       "    </tr>\n",
       "    <tr>\n",
       "      <th>...</th>\n",
       "      <td>...</td>\n",
       "      <td>...</td>\n",
       "      <td>...</td>\n",
       "      <td>...</td>\n",
       "      <td>...</td>\n",
       "      <td>...</td>\n",
       "      <td>...</td>\n",
       "      <td>...</td>\n",
       "    </tr>\n",
       "    <tr>\n",
       "      <th>497</th>\n",
       "      <td>77a2f0da093511eeba3d0242c0a82011</td>\n",
       "      <td>2023-06-12 15:26:14</td>\n",
       "      <td>[f8d0fe8e093211ee8e980242c0a82011, 14a09eec093...</td>\n",
       "      <td>ch10_translated_MILSTD1553</td>\n",
       "      <td>652200101281241</td>\n",
       "      <td>&lt;0.13.0</td>\n",
       "      <td>basket-data/ch10_translated_MILSTD1553/77a2f0d...</td>\n",
       "      <td>S3FileSystem</td>\n",
       "    </tr>\n",
       "    <tr>\n",
       "      <th>498</th>\n",
       "      <td>78c70f5a093511eeba3d0242c0a82011</td>\n",
       "      <td>2023-06-12 15:26:16</td>\n",
       "      <td>[fc7cb67c093211ee8e980242c0a82011, 14a09eec093...</td>\n",
       "      <td>ch10_translated_MILSTD1553</td>\n",
       "      <td>652200101281527</td>\n",
       "      <td>&lt;0.13.0</td>\n",
       "      <td>basket-data/ch10_translated_MILSTD1553/78c70f5...</td>\n",
       "      <td>S3FileSystem</td>\n",
       "    </tr>\n",
       "    <tr>\n",
       "      <th>499</th>\n",
       "      <td>79902b60093511eeba3d0242c0a82011</td>\n",
       "      <td>2023-06-12 15:26:17</td>\n",
       "      <td>[fcbcb980093111ee8e980242c0a82011, 14a09eec093...</td>\n",
       "      <td>ch10_translated_MILSTD1553</td>\n",
       "      <td>652200101100441</td>\n",
       "      <td>&lt;0.13.0</td>\n",
       "      <td>basket-data/ch10_translated_MILSTD1553/79902b6...</td>\n",
       "      <td>S3FileSystem</td>\n",
       "    </tr>\n",
       "    <tr>\n",
       "      <th>500</th>\n",
       "      <td>7a7024a4093511eeba3d0242c0a82011</td>\n",
       "      <td>2023-06-12 15:26:18</td>\n",
       "      <td>[ff648906093111ee8e980242c0a82011, 14a09eec093...</td>\n",
       "      <td>ch10_translated_MILSTD1553</td>\n",
       "      <td>652200101121118</td>\n",
       "      <td>&lt;0.13.0</td>\n",
       "      <td>basket-data/ch10_translated_MILSTD1553/7a7024a...</td>\n",
       "      <td>S3FileSystem</td>\n",
       "    </tr>\n",
       "    <tr>\n",
       "      <th>501</th>\n",
       "      <td>7b71a3f0093511eeba3d0242c0a82011</td>\n",
       "      <td>2023-06-12 15:26:20</td>\n",
       "      <td>[ff9379b8093211ee8e980242c0a82011, 14a09eec093...</td>\n",
       "      <td>ch10_translated_MILSTD1553</td>\n",
       "      <td>652200101281840</td>\n",
       "      <td>&lt;0.13.0</td>\n",
       "      <td>basket-data/ch10_translated_MILSTD1553/7b71a3f...</td>\n",
       "      <td>S3FileSystem</td>\n",
       "    </tr>\n",
       "  </tbody>\n",
       "</table>\n",
       "<p>502 rows × 8 columns</p>\n",
       "</div>"
      ],
      "text/plain": [
       "                                 uuid         upload_time  \\\n",
       "0    02f5c1d6093511eebd3c0242c0a82011 2023-06-12 15:22:58   \n",
       "1    14a09eec093511eebd3c0242c0a82011 2023-06-12 15:23:27   \n",
       "2    38721480093111ee9c260242c0a82011 2023-06-12 14:55:51   \n",
       "3    39fe2b54093111ee9c260242c0a82011 2023-06-12 14:55:54   \n",
       "4    3b028fc2093111ee9c260242c0a82011 2023-06-12 14:55:54   \n",
       "..                                ...                 ...   \n",
       "497  77a2f0da093511eeba3d0242c0a82011 2023-06-12 15:26:14   \n",
       "498  78c70f5a093511eeba3d0242c0a82011 2023-06-12 15:26:16   \n",
       "499  79902b60093511eeba3d0242c0a82011 2023-06-12 15:26:17   \n",
       "500  7a7024a4093511eeba3d0242c0a82011 2023-06-12 15:26:18   \n",
       "501  7b71a3f0093511eeba3d0242c0a82011 2023-06-12 15:26:20   \n",
       "\n",
       "                                          parent_uuids  \\\n",
       "0                                                   []   \n",
       "1                                                   []   \n",
       "2                                                   []   \n",
       "3                                                   []   \n",
       "4                                                   []   \n",
       "..                                                 ...   \n",
       "497  [f8d0fe8e093211ee8e980242c0a82011, 14a09eec093...   \n",
       "498  [fc7cb67c093211ee8e980242c0a82011, 14a09eec093...   \n",
       "499  [fcbcb980093111ee8e980242c0a82011, 14a09eec093...   \n",
       "500  [ff648906093111ee8e980242c0a82011, 14a09eec093...   \n",
       "501  [ff9379b8093211ee8e980242c0a82011, 14a09eec093...   \n",
       "\n",
       "                    basket_type            label weave_version  \\\n",
       "0             NASA_ARINC429_DTS                        <0.13.0   \n",
       "1           NASA_MILSTD1553_DTS                        <0.13.0   \n",
       "2                          ch10  652200101100441       <0.13.0   \n",
       "3                          ch10  652200101121118       <0.13.0   \n",
       "4                          ch10  652200101121218       <0.13.0   \n",
       "..                          ...              ...           ...   \n",
       "497  ch10_translated_MILSTD1553  652200101281241       <0.13.0   \n",
       "498  ch10_translated_MILSTD1553  652200101281527       <0.13.0   \n",
       "499  ch10_translated_MILSTD1553  652200101100441       <0.13.0   \n",
       "500  ch10_translated_MILSTD1553  652200101121118       <0.13.0   \n",
       "501  ch10_translated_MILSTD1553  652200101281840       <0.13.0   \n",
       "\n",
       "                                               address  storage_type  \n",
       "0    basket-data/NASA_ARINC429_DTS/02f5c1d6093511ee...  S3FileSystem  \n",
       "1    basket-data/NASA_MILSTD1553_DTS/14a09eec093511...  S3FileSystem  \n",
       "2    basket-data/ch10/38721480093111ee9c260242c0a82011  S3FileSystem  \n",
       "3    basket-data/ch10/39fe2b54093111ee9c260242c0a82011  S3FileSystem  \n",
       "4    basket-data/ch10/3b028fc2093111ee9c260242c0a82011  S3FileSystem  \n",
       "..                                                 ...           ...  \n",
       "497  basket-data/ch10_translated_MILSTD1553/77a2f0d...  S3FileSystem  \n",
       "498  basket-data/ch10_translated_MILSTD1553/78c70f5...  S3FileSystem  \n",
       "499  basket-data/ch10_translated_MILSTD1553/79902b6...  S3FileSystem  \n",
       "500  basket-data/ch10_translated_MILSTD1553/7a7024a...  S3FileSystem  \n",
       "501  basket-data/ch10_translated_MILSTD1553/7b71a3f...  S3FileSystem  \n",
       "\n",
       "[502 rows x 8 columns]"
      ]
     },
     "execution_count": 15,
     "metadata": {},
     "output_type": "execute_result"
    }
   ],
   "source": [
    "index_df"
   ]
  },
  {
   "cell_type": "markdown",
   "id": "37658177-08fd-4878-a3c3-7fec3bf9a9b2",
   "metadata": {
    "tags": []
   },
   "source": [
    "<img src=\"./resources/ch10_flow.png\"  width = \"600\" height=\"5500\">"
   ]
  },
  {
   "cell_type": "code",
   "execution_count": 16,
   "id": "580acce5-6861-4b89-b909-75fa1e516e7b",
   "metadata": {
    "tags": []
   },
   "outputs": [
    {
     "data": {
      "text/html": [
       "<div>\n",
       "<style scoped>\n",
       "    .dataframe tbody tr th:only-of-type {\n",
       "        vertical-align: middle;\n",
       "    }\n",
       "\n",
       "    .dataframe tbody tr th {\n",
       "        vertical-align: top;\n",
       "    }\n",
       "\n",
       "    .dataframe thead th {\n",
       "        text-align: right;\n",
       "    }\n",
       "</style>\n",
       "<table border=\"1\" class=\"dataframe\">\n",
       "  <thead>\n",
       "    <tr style=\"text-align: right;\">\n",
       "      <th></th>\n",
       "      <th>uuid</th>\n",
       "      <th>upload_time</th>\n",
       "      <th>parent_uuids</th>\n",
       "      <th>basket_type</th>\n",
       "      <th>label</th>\n",
       "      <th>weave_version</th>\n",
       "      <th>address</th>\n",
       "      <th>storage_type</th>\n",
       "    </tr>\n",
       "  </thead>\n",
       "  <tbody>\n",
       "    <tr>\n",
       "      <th>410</th>\n",
       "      <td>2ca4123a093511eeba3d0242c0a82011</td>\n",
       "      <td>2023-06-12 15:24:08</td>\n",
       "      <td>[114faf56093211ee8e980242c0a82011, 14a09eec093...</td>\n",
       "      <td>ch10_translated_MILSTD1553</td>\n",
       "      <td>652200101131142</td>\n",
       "      <td>&lt;0.13.0</td>\n",
       "      <td>basket-data/ch10_translated_MILSTD1553/2ca4123...</td>\n",
       "      <td>S3FileSystem</td>\n",
       "    </tr>\n",
       "  </tbody>\n",
       "</table>\n",
       "</div>"
      ],
      "text/plain": [
       "                                 uuid         upload_time  \\\n",
       "410  2ca4123a093511eeba3d0242c0a82011 2023-06-12 15:24:08   \n",
       "\n",
       "                                          parent_uuids  \\\n",
       "410  [114faf56093211ee8e980242c0a82011, 14a09eec093...   \n",
       "\n",
       "                    basket_type            label weave_version  \\\n",
       "410  ch10_translated_MILSTD1553  652200101131142       <0.13.0   \n",
       "\n",
       "                                               address  storage_type  \n",
       "410  basket-data/ch10_translated_MILSTD1553/2ca4123...  S3FileSystem  "
      ]
     },
     "execution_count": 16,
     "metadata": {},
     "output_type": "execute_result"
    }
   ],
   "source": [
    "my_translated_data = index_df[index_df.basket_type == 'ch10_translated_MILSTD1553'].sample()\n",
    "my_translated_data"
   ]
  },
  {
   "cell_type": "code",
   "execution_count": 17,
   "id": "7b574d4d-c494-41f5-a343-e04d56022e9d",
   "metadata": {
    "tags": []
   },
   "outputs": [
    {
     "data": {
      "text/html": [
       "<div>\n",
       "<style scoped>\n",
       "    .dataframe tbody tr th:only-of-type {\n",
       "        vertical-align: middle;\n",
       "    }\n",
       "\n",
       "    .dataframe tbody tr th {\n",
       "        vertical-align: top;\n",
       "    }\n",
       "\n",
       "    .dataframe thead th {\n",
       "        text-align: right;\n",
       "    }\n",
       "</style>\n",
       "<table border=\"1\" class=\"dataframe\">\n",
       "  <thead>\n",
       "    <tr style=\"text-align: right;\">\n",
       "      <th></th>\n",
       "      <th>uuid</th>\n",
       "      <th>upload_time</th>\n",
       "      <th>parent_uuids</th>\n",
       "      <th>basket_type</th>\n",
       "      <th>label</th>\n",
       "      <th>weave_version</th>\n",
       "      <th>address</th>\n",
       "      <th>storage_type</th>\n",
       "    </tr>\n",
       "  </thead>\n",
       "  <tbody>\n",
       "    <tr>\n",
       "      <th>1</th>\n",
       "      <td>14a09eec093511eebd3c0242c0a82011</td>\n",
       "      <td>2023-06-12 15:23:27</td>\n",
       "      <td>[]</td>\n",
       "      <td>NASA_MILSTD1553_DTS</td>\n",
       "      <td></td>\n",
       "      <td>&lt;0.13.0</td>\n",
       "      <td>basket-data/NASA_MILSTD1553_DTS/14a09eec093511...</td>\n",
       "      <td>S3FileSystem</td>\n",
       "    </tr>\n",
       "    <tr>\n",
       "      <th>110</th>\n",
       "      <td>114faf56093211ee8e980242c0a82011</td>\n",
       "      <td>2023-06-12 15:01:54</td>\n",
       "      <td>[44856e98093111ee9c260242c0a82011]</td>\n",
       "      <td>ch10_parsed</td>\n",
       "      <td>652200101131142</td>\n",
       "      <td>&lt;0.13.0</td>\n",
       "      <td>basket-data/ch10_parsed/114faf56093211ee8e9802...</td>\n",
       "      <td>S3FileSystem</td>\n",
       "    </tr>\n",
       "  </tbody>\n",
       "</table>\n",
       "</div>"
      ],
      "text/plain": [
       "                                 uuid         upload_time  \\\n",
       "1    14a09eec093511eebd3c0242c0a82011 2023-06-12 15:23:27   \n",
       "110  114faf56093211ee8e980242c0a82011 2023-06-12 15:01:54   \n",
       "\n",
       "                           parent_uuids          basket_type            label  \\\n",
       "1                                    []  NASA_MILSTD1553_DTS                    \n",
       "110  [44856e98093111ee9c260242c0a82011]          ch10_parsed  652200101131142   \n",
       "\n",
       "    weave_version                                            address  \\\n",
       "1         <0.13.0  basket-data/NASA_MILSTD1553_DTS/14a09eec093511...   \n",
       "110       <0.13.0  basket-data/ch10_parsed/114faf56093211ee8e9802...   \n",
       "\n",
       "     storage_type  \n",
       "1    S3FileSystem  \n",
       "110  S3FileSystem  "
      ]
     },
     "execution_count": 17,
     "metadata": {},
     "output_type": "execute_result"
    }
   ],
   "source": [
    "my_parents = index_df[index_df.uuid.isin(my_translated_data.parent_uuids.iloc[0])]\n",
    "my_parents"
   ]
  },
  {
   "cell_type": "code",
   "execution_count": 18,
   "id": "2e505dac-bde7-4716-acda-b9a3fd26eaae",
   "metadata": {
    "tags": []
   },
   "outputs": [
    {
     "data": {
      "text/html": [
       "<div>\n",
       "<style scoped>\n",
       "    .dataframe tbody tr th:only-of-type {\n",
       "        vertical-align: middle;\n",
       "    }\n",
       "\n",
       "    .dataframe tbody tr th {\n",
       "        vertical-align: top;\n",
       "    }\n",
       "\n",
       "    .dataframe thead th {\n",
       "        text-align: right;\n",
       "    }\n",
       "</style>\n",
       "<table border=\"1\" class=\"dataframe\">\n",
       "  <thead>\n",
       "    <tr style=\"text-align: right;\">\n",
       "      <th></th>\n",
       "      <th>uuid</th>\n",
       "      <th>upload_time</th>\n",
       "      <th>parent_uuids</th>\n",
       "      <th>basket_type</th>\n",
       "      <th>label</th>\n",
       "      <th>weave_version</th>\n",
       "      <th>address</th>\n",
       "      <th>storage_type</th>\n",
       "    </tr>\n",
       "  </thead>\n",
       "  <tbody>\n",
       "    <tr>\n",
       "      <th>12</th>\n",
       "      <td>44856e98093111ee9c260242c0a82011</td>\n",
       "      <td>2023-06-12 14:56:11</td>\n",
       "      <td>[]</td>\n",
       "      <td>ch10</td>\n",
       "      <td>652200101131142</td>\n",
       "      <td>&lt;0.13.0</td>\n",
       "      <td>basket-data/ch10/44856e98093111ee9c260242c0a82011</td>\n",
       "      <td>S3FileSystem</td>\n",
       "    </tr>\n",
       "  </tbody>\n",
       "</table>\n",
       "</div>"
      ],
      "text/plain": [
       "                                uuid         upload_time parent_uuids  \\\n",
       "12  44856e98093111ee9c260242c0a82011 2023-06-12 14:56:11           []   \n",
       "\n",
       "   basket_type            label weave_version  \\\n",
       "12        ch10  652200101131142       <0.13.0   \n",
       "\n",
       "                                              address  storage_type  \n",
       "12  basket-data/ch10/44856e98093111ee9c260242c0a82011  S3FileSystem  "
      ]
     },
     "execution_count": 18,
     "metadata": {},
     "output_type": "execute_result"
    }
   ],
   "source": [
    "parsed_data = my_parents.iloc[1]\n",
    "original_ch10 = index_df[index_df.uuid.isin(parsed_data.parent_uuids)]\n",
    "original_ch10"
   ]
  },
  {
   "cell_type": "markdown",
   "id": "94a9a286-920b-4676-8ea2-052adb4bd792",
   "metadata": {},
   "source": [
    "# How do I access my data?\n",
    "\n",
    "### View a portion of the data contained in a ch10.\n",
    "\n",
    "<img src=\"resources/weave to pandas.drawio.png\">"
   ]
  },
  {
   "cell_type": "code",
   "execution_count": 19,
   "id": "81fa9280-f53c-4282-9aa3-f9778a744307",
   "metadata": {
    "tags": []
   },
   "outputs": [
    {
     "data": {
      "text/html": [
       "<div>\n",
       "<style scoped>\n",
       "    .dataframe tbody tr th:only-of-type {\n",
       "        vertical-align: middle;\n",
       "    }\n",
       "\n",
       "    .dataframe tbody tr th {\n",
       "        vertical-align: top;\n",
       "    }\n",
       "\n",
       "    .dataframe thead th {\n",
       "        text-align: right;\n",
       "    }\n",
       "</style>\n",
       "<table border=\"1\" class=\"dataframe\">\n",
       "  <thead>\n",
       "    <tr style=\"text-align: right;\">\n",
       "      <th></th>\n",
       "      <th>uuid</th>\n",
       "      <th>upload_time</th>\n",
       "      <th>parent_uuids</th>\n",
       "      <th>basket_type</th>\n",
       "      <th>label</th>\n",
       "      <th>weave_version</th>\n",
       "      <th>address</th>\n",
       "      <th>storage_type</th>\n",
       "    </tr>\n",
       "  </thead>\n",
       "  <tbody>\n",
       "  </tbody>\n",
       "</table>\n",
       "</div>"
      ],
      "text/plain": [
       "Empty DataFrame\n",
       "Columns: [uuid, upload_time, parent_uuids, basket_type, label, weave_version, address, storage_type]\n",
       "Index: []"
      ]
     },
     "execution_count": 19,
     "metadata": {},
     "output_type": "execute_result"
    }
   ],
   "source": [
    "my_data = index_df[index_df.label == '652200104211052']\n",
    "my_data"
   ]
  },
  {
   "cell_type": "code",
   "execution_count": 20,
   "id": "08c429c7-03eb-4c30-93be-d883d007724a",
   "metadata": {
    "tags": []
   },
   "outputs": [
    {
     "ename": "IndexError",
     "evalue": "single positional indexer is out-of-bounds",
     "output_type": "error",
     "traceback": [
      "\u001b[0;31m---------------------------------------------------------------------------\u001b[0m",
      "\u001b[0;31mIndexError\u001b[0m                                Traceback (most recent call last)",
      "Cell \u001b[0;32mIn[20], line 1\u001b[0m\n\u001b[0;32m----> 1\u001b[0m path_1553 \u001b[38;5;241m=\u001b[39m os\u001b[38;5;241m.\u001b[39mpath\u001b[38;5;241m.\u001b[39mjoin(\u001b[43mmy_data\u001b[49m\u001b[43m[\u001b[49m\u001b[43mmy_data\u001b[49m\u001b[38;5;241;43m.\u001b[39;49m\u001b[43mbasket_type\u001b[49m\u001b[43m \u001b[49m\u001b[38;5;241;43m==\u001b[39;49m\u001b[43m \u001b[49m\u001b[38;5;124;43m'\u001b[39;49m\u001b[38;5;124;43mch10_translated_MILSTD1553\u001b[39;49m\u001b[38;5;124;43m'\u001b[39;49m\u001b[43m]\u001b[49m\u001b[38;5;241;43m.\u001b[39;49m\u001b[43maddress\u001b[49m\u001b[38;5;241;43m.\u001b[39;49m\u001b[43miloc\u001b[49m\u001b[43m[\u001b[49m\u001b[38;5;241;43m0\u001b[39;49m\u001b[43m]\u001b[49m, \u001b[38;5;124m'\u001b[39m\u001b[38;5;124mparsed_data_translated\u001b[39m\u001b[38;5;124m'\u001b[39m, \u001b[38;5;124m'\u001b[39m\u001b[38;5;124mNAV.parquet\u001b[39m\u001b[38;5;124m'\u001b[39m, \u001b[38;5;124m'\u001b[39m\u001b[38;5;124m00.parquet\u001b[39m\u001b[38;5;124m'\u001b[39m)\n\u001b[1;32m      2\u001b[0m df_1553 \u001b[38;5;241m=\u001b[39m pd\u001b[38;5;241m.\u001b[39mread_parquet(path_1553, filesystem \u001b[38;5;241m=\u001b[39m s3)\n\u001b[1;32m      3\u001b[0m df_1553\n",
      "File \u001b[0;32m/opt/conda/envs/singleuser/lib/python3.10/site-packages/pandas/core/indexing.py:1073\u001b[0m, in \u001b[0;36m_LocationIndexer.__getitem__\u001b[0;34m(self, key)\u001b[0m\n\u001b[1;32m   1070\u001b[0m axis \u001b[38;5;241m=\u001b[39m \u001b[38;5;28mself\u001b[39m\u001b[38;5;241m.\u001b[39maxis \u001b[38;5;129;01mor\u001b[39;00m \u001b[38;5;241m0\u001b[39m\n\u001b[1;32m   1072\u001b[0m maybe_callable \u001b[38;5;241m=\u001b[39m com\u001b[38;5;241m.\u001b[39mapply_if_callable(key, \u001b[38;5;28mself\u001b[39m\u001b[38;5;241m.\u001b[39mobj)\n\u001b[0;32m-> 1073\u001b[0m \u001b[38;5;28;01mreturn\u001b[39;00m \u001b[38;5;28;43mself\u001b[39;49m\u001b[38;5;241;43m.\u001b[39;49m\u001b[43m_getitem_axis\u001b[49m\u001b[43m(\u001b[49m\u001b[43mmaybe_callable\u001b[49m\u001b[43m,\u001b[49m\u001b[43m \u001b[49m\u001b[43maxis\u001b[49m\u001b[38;5;241;43m=\u001b[39;49m\u001b[43maxis\u001b[49m\u001b[43m)\u001b[49m\n",
      "File \u001b[0;32m/opt/conda/envs/singleuser/lib/python3.10/site-packages/pandas/core/indexing.py:1625\u001b[0m, in \u001b[0;36m_iLocIndexer._getitem_axis\u001b[0;34m(self, key, axis)\u001b[0m\n\u001b[1;32m   1622\u001b[0m     \u001b[38;5;28;01mraise\u001b[39;00m \u001b[38;5;167;01mTypeError\u001b[39;00m(\u001b[38;5;124m\"\u001b[39m\u001b[38;5;124mCannot index by location index with a non-integer key\u001b[39m\u001b[38;5;124m\"\u001b[39m)\n\u001b[1;32m   1624\u001b[0m \u001b[38;5;66;03m# validate the location\u001b[39;00m\n\u001b[0;32m-> 1625\u001b[0m \u001b[38;5;28;43mself\u001b[39;49m\u001b[38;5;241;43m.\u001b[39;49m\u001b[43m_validate_integer\u001b[49m\u001b[43m(\u001b[49m\u001b[43mkey\u001b[49m\u001b[43m,\u001b[49m\u001b[43m \u001b[49m\u001b[43maxis\u001b[49m\u001b[43m)\u001b[49m\n\u001b[1;32m   1627\u001b[0m \u001b[38;5;28;01mreturn\u001b[39;00m \u001b[38;5;28mself\u001b[39m\u001b[38;5;241m.\u001b[39mobj\u001b[38;5;241m.\u001b[39m_ixs(key, axis\u001b[38;5;241m=\u001b[39maxis)\n",
      "File \u001b[0;32m/opt/conda/envs/singleuser/lib/python3.10/site-packages/pandas/core/indexing.py:1557\u001b[0m, in \u001b[0;36m_iLocIndexer._validate_integer\u001b[0;34m(self, key, axis)\u001b[0m\n\u001b[1;32m   1555\u001b[0m len_axis \u001b[38;5;241m=\u001b[39m \u001b[38;5;28mlen\u001b[39m(\u001b[38;5;28mself\u001b[39m\u001b[38;5;241m.\u001b[39mobj\u001b[38;5;241m.\u001b[39m_get_axis(axis))\n\u001b[1;32m   1556\u001b[0m \u001b[38;5;28;01mif\u001b[39;00m key \u001b[38;5;241m>\u001b[39m\u001b[38;5;241m=\u001b[39m len_axis \u001b[38;5;129;01mor\u001b[39;00m key \u001b[38;5;241m<\u001b[39m \u001b[38;5;241m-\u001b[39mlen_axis:\n\u001b[0;32m-> 1557\u001b[0m     \u001b[38;5;28;01mraise\u001b[39;00m \u001b[38;5;167;01mIndexError\u001b[39;00m(\u001b[38;5;124m\"\u001b[39m\u001b[38;5;124msingle positional indexer is out-of-bounds\u001b[39m\u001b[38;5;124m\"\u001b[39m)\n",
      "\u001b[0;31mIndexError\u001b[0m: single positional indexer is out-of-bounds"
     ]
    }
   ],
   "source": [
    "path_1553 = os.path.join(my_data[my_data.basket_type == 'ch10_translated_MILSTD1553'].address.iloc[0], 'parsed_data_translated', 'NAV.parquet', '00.parquet')\n",
    "df_1553 = pd.read_parquet(path_1553, filesystem = s3)\n",
    "df_1553"
   ]
  },
  {
   "cell_type": "code",
   "execution_count": 21,
   "id": "eb9eefe7-0b1e-4030-bb01-f52c844c47ce",
   "metadata": {
    "tags": []
   },
   "outputs": [
    {
     "ename": "NameError",
     "evalue": "name 'df_1553' is not defined",
     "output_type": "error",
     "traceback": [
      "\u001b[0;31m---------------------------------------------------------------------------\u001b[0m",
      "\u001b[0;31mNameError\u001b[0m                                 Traceback (most recent call last)",
      "Cell \u001b[0;32mIn[21], line 2\u001b[0m\n\u001b[1;32m      1\u001b[0m \u001b[38;5;66;03m# Filter out invalid lat/long/altitude measurements\u001b[39;00m\n\u001b[0;32m----> 2\u001b[0m where_valid \u001b[38;5;241m=\u001b[39m \u001b[43mdf_1553\u001b[49m[df_1553[\u001b[38;5;124m\"\u001b[39m\u001b[38;5;124mNAV-0110\u001b[39m\u001b[38;5;124m\"\u001b[39m] \u001b[38;5;241m&\u001b[39m df_1553[\u001b[38;5;124m\"\u001b[39m\u001b[38;5;124mNAV-0111\u001b[39m\u001b[38;5;124m\"\u001b[39m]]\n\u001b[1;32m      3\u001b[0m plt\u001b[38;5;241m.\u001b[39mrcParams\u001b[38;5;241m.\u001b[39mupdate({\u001b[38;5;124m\"\u001b[39m\u001b[38;5;124mfont.size\u001b[39m\u001b[38;5;124m\"\u001b[39m:\u001b[38;5;241m18\u001b[39m})\n\u001b[1;32m      5\u001b[0m \u001b[38;5;66;03m# plot\u001b[39;00m\n",
      "\u001b[0;31mNameError\u001b[0m: name 'df_1553' is not defined"
     ]
    }
   ],
   "source": [
    "# Filter out invalid lat/long/altitude measurements\n",
    "where_valid = df_1553[df_1553[\"NAV-0110\"] & df_1553[\"NAV-0111\"]]\n",
    "plt.rcParams.update({\"font.size\":18})\n",
    "\n",
    "# plot\n",
    "fig, ax = plt.subplots()\n",
    "ax = where_valid.plot(\n",
    "    kind=\"scatter\", title=\"Aircraft Position (1553)\",\n",
    "    x=\"NAV-23\", y=\"NAV-21\", c=\"NAV-25\", s=1,\n",
    "    cmap=\"viridis\", figsize=(15, 10), ax=ax)\n",
    "\n",
    "ax.set_aspect(\"equal\")\n",
    "ax.set_xlabel(\"Longitude [deg]\")\n",
    "ax.set_ylabel(\"Latitude [deg]\")\n",
    "plt.gcf().get_axes()[1].set_ylabel(\"Altitude [ft]\")\n",
    "plt.show()"
   ]
  },
  {
   "cell_type": "markdown",
   "id": "ccdc71d0-ecec-4a25-ad55-10f0e6a2673f",
   "metadata": {},
   "source": [
    "### Clear Bucket"
   ]
  },
  {
   "cell_type": "code",
   "execution_count": 22,
   "id": "a49143de-efa8-4280-9762-c346040a1b18",
   "metadata": {
    "tags": []
   },
   "outputs": [],
   "source": [
    "if s3.exists('provenance-demo'):\n",
    "    s3.rm('s3://provenance-demo', recursive = True)"
   ]
  },
  {
   "cell_type": "code",
   "execution_count": null,
   "id": "8e651895-a3aa-499b-a879-986c3eee692e",
   "metadata": {},
   "outputs": [],
   "source": []
  }
 ],
 "metadata": {
  "kernelspec": {
   "display_name": "Python [conda env:singleuser] *",
   "language": "python",
   "name": "conda-env-singleuser-py"
  },
  "language_info": {
   "codemirror_mode": {
    "name": "ipython",
    "version": 3
   },
   "file_extension": ".py",
   "mimetype": "text/x-python",
   "name": "python",
   "nbconvert_exporter": "python",
   "pygments_lexer": "ipython3",
   "version": "3.10.9"
  },
  "vscode": {
   "interpreter": {
    "hash": "916dbcbb3f70747c44a77c7bcd40155683ae19c65e1c03b4aa3499c5328201f1"
   }
  }
 },
 "nbformat": 4,
 "nbformat_minor": 5
}
