{
 "cells": [
  {
   "cell_type": "code",
   "execution_count": null,
   "id": "c0b9f1b4-2e11-49e9-9118-763ddd6da6c6",
   "metadata": {
    "tags": []
   },
   "outputs": [],
   "source": [
    "import s3fs\n",
    "import os\n",
    "import json\n",
    "from opal.weave.create_index import create_index_from_s3\n",
    "import pandas as pd\n",
    "import matplotlib.pyplot as plt\n",
    "from matplotlib import cm\n",
    "import numpy as np"
   ]
  },
  {
   "cell_type": "code",
   "execution_count": null,
   "id": "ba7ef87a-dfe8-42dd-9c34-f52c745ae072",
   "metadata": {
    "tags": []
   },
   "outputs": [],
   "source": [
    "s3 = s3fs.S3FileSystem(client_kwargs = {'endpoint_url': os.environ['S3_ENDPOINT']})"
   ]
  },
  {
   "cell_type": "markdown",
   "id": "9f540306-a8fe-4794-83cd-5c73c1f8f6ce",
   "metadata": {},
   "source": [
    "# What data do I have?\n",
    "\n",
    "### Create an index of my data store using Weave.\n",
    "\n",
    "<img src=\"weave to minio.drawio.png\"  width = \"600\" height=\"5500\">"
   ]
  },
  {
   "cell_type": "code",
   "execution_count": null,
   "id": "1943fd3d-d704-477a-b456-9344e92d49bd",
   "metadata": {},
   "outputs": [],
   "source": [
    "index = create_index_from_s3('basket-data-with-arinc', 'schema.json')\n",
    "index"
   ]
  },
  {
   "cell_type": "code",
   "execution_count": null,
   "id": "87b0059f-5a9f-414e-a5aa-12a29e85beb0",
   "metadata": {
    "tags": []
   },
   "outputs": [],
   "source": [
    "index.basket_type.value_counts()"
   ]
  },
  {
   "cell_type": "markdown",
   "id": "3d7ddf64-6ded-447c-bd33-cca2d033f25e",
   "metadata": {},
   "source": [
    "# Where did my data come from?\n",
    "\n",
    "### Provenance tracking example using Metaflow and TIP."
   ]
  },
  {
   "cell_type": "code",
   "execution_count": null,
   "id": "862fb93a-a88b-47ee-b7fb-c05936c09620",
   "metadata": {
    "tags": []
   },
   "outputs": [],
   "source": [
    "small_index = create_index_from_s3('provenance-demo', 'schema.json')\n",
    "small_index"
   ]
  },
  {
   "cell_type": "code",
   "execution_count": null,
   "id": "7bfff5e3-4d71-4566-9964-da69adfe33fc",
   "metadata": {
    "tags": []
   },
   "outputs": [],
   "source": [
    "!python /home/jovyan/opal/data-engineering-resources/NASA_ch10_flows/parse_nasa_ch10s_flow.py run --bucket_name provenance-demo --n 1"
   ]
  },
  {
   "cell_type": "code",
   "execution_count": null,
   "id": "d6659499-cd9d-41ee-96a6-38a804aff18f",
   "metadata": {
    "tags": []
   },
   "outputs": [],
   "source": [
    "small_index = create_index_from_s3('provenance-demo', 'schema.json')\n",
    "small_index"
   ]
  },
  {
   "cell_type": "code",
   "execution_count": null,
   "id": "41a7a885-4030-4024-9736-ac1ed3b04eb4",
   "metadata": {
    "tags": []
   },
   "outputs": [],
   "source": [
    "!python /home/jovyan/opal/data-engineering-resources/NASA_ch10_flows/translate_nasa_ch10s_flow.py run --bucket_name provenance-demo --n 1\n",
    "!python /home/jovyan/opal/data-engineering-resources/NASA_ch10_flows/translate_nasa_ch10s_flow.py run --bucket_name provenance-demo --data_type ARINC429 --n 1"
   ]
  },
  {
   "cell_type": "code",
   "execution_count": null,
   "id": "14b04e14-2196-427e-8435-4e337f087ec1",
   "metadata": {
    "tags": []
   },
   "outputs": [],
   "source": [
    "small_index = create_index_from_s3('provenance-demo', 'schema.json')\n",
    "small_index"
   ]
  },
  {
   "cell_type": "code",
   "execution_count": null,
   "id": "6fe3bed9-8d63-4180-9ce4-23da1075db30",
   "metadata": {},
   "outputs": [],
   "source": [
    "arinc_basket = small_index[small_index.basket_type == 'ch10_translated_ARINC429']\n",
    "arinc_path = arinc_basket.address.iloc[0]\n",
    "arinc_metadata_path = os.path.join(arinc_path, 'basket_metadata.json')\n",
    "with s3.open(arinc_metadata_path, 'rb') as file:\n",
    "    arinc_metadata = json.load(file)\n",
    "arinc_metadata"
   ]
  },
  {
   "cell_type": "markdown",
   "id": "2714b5b8-6ea7-4c0a-ab40-91e4e8708008",
   "metadata": {},
   "source": [
    "### A look back at the complete index."
   ]
  },
  {
   "cell_type": "code",
   "execution_count": null,
   "id": "9ecc9eed-13f3-4465-a09a-df4319c74862",
   "metadata": {
    "tags": []
   },
   "outputs": [],
   "source": [
    "index"
   ]
  },
  {
   "cell_type": "markdown",
   "id": "0628f081-3e54-4e74-8941-85a16a428690",
   "metadata": {
    "tags": []
   },
   "source": [
    "<img src=\"ch10_flow.png\"  width = \"600\" height=\"5500\">"
   ]
  },
  {
   "cell_type": "code",
   "execution_count": null,
   "id": "b34e4890-b4bb-4913-892b-6d533be1d33a",
   "metadata": {
    "tags": []
   },
   "outputs": [],
   "source": [
    "my_translated_data = index[index.basket_type == 'ch10_translated_MILSTD1553'].sample()\n",
    "my_translated_data"
   ]
  },
  {
   "cell_type": "code",
   "execution_count": null,
   "id": "4922ec99-23a4-474a-87db-9285703747dd",
   "metadata": {
    "tags": []
   },
   "outputs": [],
   "source": [
    "my_parents = index[index.uuid.isin(my_translated_data.parent_uuids.iloc[0])]\n",
    "my_parents"
   ]
  },
  {
   "cell_type": "code",
   "execution_count": null,
   "id": "4b259f9c-6140-4d02-98fb-a278093045d1",
   "metadata": {
    "tags": []
   },
   "outputs": [],
   "source": [
    "parsed_data = my_parents.iloc[1]\n",
    "original_ch10 = index[index.uuid.isin(parsed_data.parent_uuids)]\n",
    "original_ch10"
   ]
  },
  {
   "cell_type": "markdown",
   "id": "e8f86855-e68f-4a96-ac9f-1ac521945a8c",
   "metadata": {},
   "source": [
    "# How do I access my data?\n",
    "\n",
    "### View a portion of the data contained in a ch10.\n",
    "\n",
    "<img src=\"weave to pandas.drawio.png\"  width = \"600\" height=\"5500\">"
   ]
  },
  {
   "cell_type": "code",
   "execution_count": null,
   "id": "e0fa1458-6651-4a32-86cf-fe4f75618a95",
   "metadata": {
    "tags": []
   },
   "outputs": [],
   "source": [
    "my_data = index[index.label == '652200104211052']\n",
    "my_data"
   ]
  },
  {
   "cell_type": "code",
   "execution_count": null,
   "id": "703b1049-5a4f-4e79-b783-5187c3cd81c7",
   "metadata": {
    "tags": []
   },
   "outputs": [],
   "source": [
    "path_1553 = os.path.join(my_data[my_data.basket_type == 'ch10_translated_MILSTD1553'].address.iloc[0], 'parsed_data_translated', 'NAV.parquet', '00.parquet')\n",
    "df_1553 = pd.read_parquet(path_1553, filesystem = s3)\n",
    "df_1553"
   ]
  },
  {
   "cell_type": "code",
   "execution_count": null,
   "id": "c2093e2d-a845-4803-aa6d-c20119ec5fb4",
   "metadata": {
    "tags": []
   },
   "outputs": [],
   "source": [
    "# Filter out invalid lat/long/altitude measurements\n",
    "where_valid = df_1553[df_1553[\"NAV-0110\"] & df_1553[\"NAV-0111\"]]\n",
    "plt.rcParams.update({\"font.size\":18})\n",
    "\n",
    "# plot\n",
    "fig, ax = plt.subplots()\n",
    "ax = where_valid.plot(\n",
    "    kind=\"scatter\", title=\"Aircraft Position (1553)\",\n",
    "    x=\"NAV-23\", y=\"NAV-21\", c=\"NAV-25\", s=1,\n",
    "    cmap=\"viridis\", figsize=(15, 10), ax=ax)\n",
    "\n",
    "ax.set_aspect(\"equal\")\n",
    "ax.set_xlabel(\"Longitude [deg]\")\n",
    "ax.set_ylabel(\"Latitude [deg]\")\n",
    "plt.gcf().get_axes()[1].set_ylabel(\"Altitude [ft]\")\n",
    "plt.show()"
   ]
  },
  {
   "cell_type": "markdown",
   "id": "7b82972a-9fdb-4640-b2cf-645df383cf1f",
   "metadata": {},
   "source": [
    "### Reset TIP example."
   ]
  },
  {
   "cell_type": "code",
   "execution_count": null,
   "id": "23910435-822f-4d29-9ce0-b5f59631363f",
   "metadata": {
    "tags": []
   },
   "outputs": [],
   "source": [
    "index_1 = small_index[small_index.label == 'tail_35_pilot_slider_1']\n",
    "\n",
    "parsed_path = index_1[index_1.basket_type == 'ch10_parsed'].address.iloc[0]\n",
    "s3.rm(parsed_path,recursive = True)\n",
    "arinc_path = index_1[index_1.basket_type == 'ch10_translated_ARINC429'].address.iloc[0]\n",
    "s3.rm(arinc_path,recursive = True)\n",
    "milstd1553_path = index_1[index_1.basket_type == 'ch10_translated_MILSTD1553'].address.iloc[0]\n",
    "s3.rm(milstd1553_path,recursive = True)"
   ]
  },
  {
   "cell_type": "code",
   "execution_count": null,
   "id": "d1aca44e-01c6-45ef-9903-ba6901aa41a1",
   "metadata": {
    "tags": []
   },
   "outputs": [],
   "source": [
    "small_index = create_index_from_s3('provenance-demo', 'schema.json')\n",
    "small_index"
   ]
  },
  {
   "cell_type": "code",
   "execution_count": null,
   "id": "8e1702ff-999c-4284-9f35-7d392844e927",
   "metadata": {},
   "outputs": [],
   "source": []
  }
 ],
 "metadata": {
  "kernelspec": {
   "display_name": "Python 3 (ipykernel)",
   "language": "python",
   "name": "python3"
  },
  "language_info": {
   "codemirror_mode": {
    "name": "ipython",
    "version": 3
   },
   "file_extension": ".py",
   "mimetype": "text/x-python",
   "name": "python",
   "nbconvert_exporter": "python",
   "pygments_lexer": "ipython3",
   "version": "3.10.9"
  }
 },
 "nbformat": 4,
 "nbformat_minor": 5
}
