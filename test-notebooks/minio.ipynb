{
 "cells": [
  {
   "cell_type": "markdown",
   "id": "d5be68fd-25f3-44f3-a180-65e41547a4c4",
   "metadata": {},
   "source": [
    "Test creating a bucket"
   ]
  },
  {
   "cell_type": "code",
   "execution_count": null,
   "id": "cb06011b-97ca-4298-b968-1ac699a3293d",
   "metadata": {},
   "outputs": [],
   "source": [
    "import s3fs\n",
    "import os\n",
    "\n",
    "s3 = s3fs.S3FileSystem(client_kwargs={\"endpoint_url\":os.environ[\"S3_ENDPOINT\"]})\n",
    "s3.mkdirs(\"/another-bucket\", exist_ok=True)"
   ]
  },
  {
   "cell_type": "markdown",
   "id": "8e94aa07-dcb0-481a-aa72-b3738cdc6acf",
   "metadata": {},
   "source": [
    "Test that this bucket exists"
   ]
  },
  {
   "cell_type": "code",
   "execution_count": null,
   "id": "3847b6b2-2610-4c5f-8647-52b8b7700749",
   "metadata": {},
   "outputs": [],
   "source": [
    "assert \"another-bucket\" in s3.ls(\"/\")"
   ]
  },
  {
   "cell_type": "markdown",
   "id": "0b1b6510-a49a-4519-a7b2-65137e1f0856",
   "metadata": {},
   "source": [
    "Upload something"
   ]
  },
  {
   "cell_type": "code",
   "execution_count": null,
   "id": "b541af4c-85d6-4320-bfd5-51b710854584",
   "metadata": {},
   "outputs": [],
   "source": [
    "s3.put(\"minio.ipynb\", \"/another-bucket/minio.ipynb\")"
   ]
  },
  {
   "cell_type": "markdown",
   "id": "4e72e053-9acb-4546-aa90-7e717307d56e",
   "metadata": {},
   "source": [
    "Make sure it's there"
   ]
  },
  {
   "cell_type": "code",
   "execution_count": null,
   "id": "7dc01b9e-1586-4c2d-807d-308c36cfae81",
   "metadata": {},
   "outputs": [],
   "source": []
  }
 ],
 "metadata": {
  "kernelspec": {
   "display_name": "Python [conda env:singleuser] *",
   "language": "python",
   "name": "conda-env-singleuser-py"
  },
  "language_info": {
   "codemirror_mode": {
    "name": "ipython",
    "version": 3
   },
   "file_extension": ".py",
   "mimetype": "text/x-python",
   "name": "python",
   "nbconvert_exporter": "python",
   "pygments_lexer": "ipython3",
   "version": "3.9.7"
  }
 },
 "nbformat": 4,
 "nbformat_minor": 5
}
