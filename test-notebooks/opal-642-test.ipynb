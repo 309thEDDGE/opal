{
 "cells": [
  {
   "cell_type": "code",
   "execution_count": null,
   "id": "9c4c1723-f0d1-40e5-8c10-a13ce2066002",
   "metadata": {},
   "outputs": [],
   "source": [
    "pip list | grep metaflow"
   ]
  },
  {
   "cell_type": "code",
   "execution_count": null,
   "id": "5765202a-dd60-441f-b4f9-c61e2ef83086",
   "metadata": {},
   "outputs": [],
   "source": [
    "import metaflow"
   ]
  }
 ],
 "metadata": {
  "kernelspec": {
   "display_name": "Python [conda env:singleuser] *",
   "language": "python",
   "name": "conda-env-singleuser-py"
  },
  "language_info": {
   "codemirror_mode": {
    "name": "ipython",
    "version": 3
   },
   "file_extension": ".py",
   "mimetype": "text/x-python",
   "name": "python",
   "nbconvert_exporter": "python",
   "pygments_lexer": "ipython3",
   "version": "3.9.7"
  }
 },
 "nbformat": 4,
 "nbformat_minor": 5
}
