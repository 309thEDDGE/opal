{
 "cells": [
  {
   "cell_type": "markdown",
   "id": "6f016785-cc52-493f-a6d6-1e1ccee0d780",
   "metadata": {},
   "source": [
    "# This notebook\n",
    "tests Panel and ipywidgets, and their abilities to load actual widgets into an OPAL Jupyter Notebook. These tests require visual confirmation that they are working.",
    "#### Please note that this notebook should be tested visually with both kernels (singleuser as well as torch)."
   ]
  },
  {
   "cell_type": "code",
   "execution_count": null,
   "id": "00ff097f-13e9-46c1-988a-83eba7592802",
   "metadata": {},
   "outputs": [],
   "source": [
    "import panel as pn\n",
    "\n",
    "# It is necessary to run the following line to make panel widgets are usable.\n",
    "pn.extension()\n",
    "\n",
    "print(\"A panel widget should be displayed below.\" +\n",
    "      \"\\nFeel free to interact with it by typing.\" +\n",
    "      \"\\nIf no widget shows, panel is broken.\")\n",
    "test_pn = pn.widgets.TextInput(\n",
    "    name=\"This is a widget\",\n",
    "    placeholder='Type something',\n",
    "    value=\"\"\n",
    ")\n",
    "test_pn"
   ]
  },
  {
   "cell_type": "code",
   "execution_count": null,
   "id": "141d6bf6-f15d-48b4-a9a3-a5f24bd11771",
   "metadata": {},
   "outputs": [],
   "source": [
    "import ipywidgets as widgets\n",
    "\n",
    "print(\"An ipywidgets widget should be displayed below\" +\n",
    "      \"\\nFeel free to interact with it by typing.\" +\n",
    "      \"\\nIf no widget shows, ipywidgets is broken.\")\n",
    "widgets.Text(\n",
    "    value='',\n",
    "    placeholder='Type something',\n",
    "    description='This is a widget',\n",
    "    style= {'description_width': 'initial'}\n",
    ")"
   ]
  }
 ],
 "metadata": {
  "kernelspec": {
   "display_name": "Python [conda env:singleuser] *",
   "language": "python",
   "name": "conda-env-singleuser-py"
  },
  "language_info": {
   "codemirror_mode": {
    "name": "ipython",
    "version": 3
   },
   "file_extension": ".py",
   "mimetype": "text/x-python",
   "name": "python",
   "nbconvert_exporter": "python",
   "pygments_lexer": "ipython3",
   "version": "3.9.7"
  }
 },
 "nbformat": 4,
 "nbformat_minor": 5
}
