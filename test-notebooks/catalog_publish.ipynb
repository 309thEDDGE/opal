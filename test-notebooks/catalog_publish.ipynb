{
 "cells": [
  {
   "cell_type": "markdown",
   "id": "73d93c37-c0ad-4784-a290-af59657798b6",
   "metadata": {},
   "source": [
    "# Catalog Publish Test"
   ]
  },
  {
   "cell_type": "markdown",
   "id": "04050c19-cd49-41de-a4c6-5401c0b73259",
   "metadata": {},
   "source": [
    " - Import publish"
   ]
  },
  {
   "cell_type": "code",
   "execution_count": null,
   "id": "7ddc954f-35b6-4bba-b18a-770b40edc416",
   "metadata": {},
   "outputs": [],
   "source": [
    "from opal.publish import publish\n",
    "import os"
   ]
  },
  {
   "cell_type": "markdown",
   "id": "90022684-8277-405f-83e6-c671cfdd54db",
   "metadata": {},
   "source": [
    " - Generate 3 test sequences to generate instances from. _(Will be relevant in search testing)_"
   ]
  },
  {
   "cell_type": "code",
   "execution_count": null,
   "id": "83b84425-2ff3-4f3b-8317-d87bd14a5132",
   "metadata": {},
   "outputs": [],
   "source": [
    "ts1 = list(range(1, 11))\n",
    "ts2 = [ i * 2 for i in ts1 ]\n",
    "ts3 = [ i * 3 for i in ts1 ]"
   ]
  },
  {
   "cell_type": "markdown",
   "id": "a2d09202-73a6-4a47-89be-2471f799ee60",
   "metadata": {},
   "source": [
    " - Publish instances with attributes including test sequences"
   ]
  },
  {
   "cell_type": "code",
   "execution_count": null,
   "id": "b10341cd-cf5d-4a45-8344-0dda83fc0a18",
   "metadata": {},
   "outputs": [],
   "source": [
    "result_list = []\n",
    "\n",
    "for i in range(10):\n",
    "    success, status = publish(\n",
    "        kind_id=f\"test_{i}\",\n",
    "        kind_type=f\"type_{ts2[i]}\",\n",
    "        kind_metadata=dict(attr=f\"attr_{ts3[i]}\"),\n",
    "        # api_url=os.environ.get(\"BE_URL\") or \"http://localhost:9001/services/opal-catalog\"\n",
    "        # api_url=\"http://opalcatalog-be:9001/services/opal-catalog\"\n",
    "    )\n",
    "    \n",
    "    result_list.append(success)\n",
    "    \n",
    "assert all(result_list)\n",
    "\n",
    "if all(result_list):\n",
    "    print(\"10 Sample instances published 💯 \")"
   ]
  },
  {
   "cell_type": "code",
   "execution_count": null,
   "id": "e1f19c3b-2434-489e-8d49-b0bc3ad893f7",
   "metadata": {},
   "outputs": [],
   "source": []
  }
 ],
 "metadata": {
  "kernelspec": {
   "display_name": "Python 3.10.4 64-bit",
   "language": "python",
   "name": "python3"
  },
  "language_info": {
   "codemirror_mode": {
    "name": "ipython",
    "version": 3
   },
   "file_extension": ".py",
   "mimetype": "text/x-python",
   "name": "python",
   "nbconvert_exporter": "python",
   "pygments_lexer": "ipython3",
   "version": "3.10.4"
  },
  "vscode": {
   "interpreter": {
    "hash": "916dbcbb3f70747c44a77c7bcd40155683ae19c65e1c03b4aa3499c5328201f1"
   }
  }
 },
 "nbformat": 4,
 "nbformat_minor": 5
}
