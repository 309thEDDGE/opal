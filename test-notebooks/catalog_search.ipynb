{
 "cells": [
  {
   "cell_type": "markdown",
   "id": "f9bd0097-4ad8-4712-adcf-091f960224e6",
   "metadata": {},
   "source": [
    "## Searching the Catalog\n",
    "<hr>"
   ]
  },
  {
   "cell_type": "markdown",
   "id": "7f2302c7-4fc9-45a3-9bb3-c2397fc2016e",
   "metadata": {},
   "source": [
    "#### Import the `Instance` class."
   ]
  },
  {
   "cell_type": "code",
   "execution_count": null,
   "id": "bd250fe3-af78-4314-a5a5-df3f1c3d2b5b",
   "metadata": {},
   "outputs": [],
   "source": [
    "from opal.query import Instance\n",
    "import os"
   ]
  },
  {
   "cell_type": "markdown",
   "id": "83e12ff9-a84c-469a-89bf-0ec0a4e3655e",
   "metadata": {},
   "source": [
    " - `Instance` takes two arguments: `api_url` and `token`\n",
    "  - `api_url` is populated by the `BE_URL` environment varaible if left blank.\n",
    "  - `token` is populated by the `JUPYTERHUB_API_URL` environment variable if left blank."
   ]
  },
  {
   "cell_type": "code",
   "execution_count": null,
   "id": "35859474-7c7d-41d9-8ec7-490c1a6c1978",
   "metadata": {},
   "outputs": [],
   "source": [
    "# be_url = \"http://opalcatalog-be:9001/services/opal-catalog\"\n",
    "instance = Instance()"
   ]
  },
  {
   "cell_type": "markdown",
   "id": "0c0bc84c-b6b9-4727-b7fe-e60f7d07eb01",
   "metadata": {
    "tags": []
   },
   "source": [
    "<br>  \n",
    "  \n",
    "### Search types:\n",
    "<hr>"
   ]
  },
  {
   "cell_type": "markdown",
   "id": "010feaf9-fcc0-4ae3-9eee-f1d8538958c2",
   "metadata": {},
   "source": [
    "<strong>Full search with no filters:</strong>"
   ]
  },
  {
   "cell_type": "code",
   "execution_count": null,
   "id": "e2c5261e-6159-4775-9741-799501409ea9",
   "metadata": {},
   "outputs": [],
   "source": [
    "result = instance.search()\n",
    "\n",
    "assert len(result.all()) > 0\n",
    "len(result.all())"
   ]
  },
  {
   "cell_type": "markdown",
   "id": "ff3ec38f-9b69-4708-aabd-01cad12e9ab0",
   "metadata": {},
   "source": [
    "#### Search filtering"
   ]
  },
  {
   "cell_type": "markdown",
   "id": "9d09bf24-f2e8-4732-a622-70487f1359a6",
   "metadata": {},
   "source": [
    " - Fuzzy match using `._with()`"
   ]
  },
  {
   "cell_type": "code",
   "execution_count": null,
   "id": "d48ae9f9-c779-4ef1-8ea3-cacc9891630e",
   "metadata": {},
   "outputs": [],
   "source": [
    "result = instance._with(\"attr\", \"attr_3\").search()\n",
    "\n",
    "attr_only = result.reduce(lambda x: x['kind_metadata']['attr'])\n",
    "assert all([ x in attr_only for x in [\"attr_3\", \"attr_30\"]])\n",
    "attr_only"
   ]
  },
  {
   "cell_type": "markdown",
   "id": "07301277-1353-455c-ac08-836cf07686f1",
   "metadata": {},
   "source": [
    " - Now apply `._or()` to fuzzy match on \"attr_6\" additionally"
   ]
  },
  {
   "cell_type": "code",
   "execution_count": null,
   "id": "fdb79346-668e-42b0-8a78-04d51b740f61",
   "metadata": {},
   "outputs": [],
   "source": [
    "result = instance._with(\"attr\", \"attr_3\")._or(\"attr\", \"attr_6\").search()\n",
    "\n",
    "attr_only = result.reduce(lambda x: x['kind_metadata']['attr'])\n",
    "assert all([ x in attr_only for x in [\"attr_3\", \"attr_30\", \"attr_6\"]])\n",
    "attr_only"
   ]
  },
  {
   "cell_type": "markdown",
   "id": "85767d38-510a-47ef-9b13-55c5a8e61bed",
   "metadata": {},
   "source": [
    " - Then apply `._not()` to exclude \"attr_30\" from the search"
   ]
  },
  {
   "cell_type": "code",
   "execution_count": null,
   "id": "96aebddf-5677-4702-b604-21d83f8b0e2a",
   "metadata": {},
   "outputs": [],
   "source": [
    "result = instance._with(\"attr\", \"attr_3\")._or(\"attr\", \"attr_6\")._not(\"attr\", \"attr_30\").search()\n",
    "\n",
    "attr_only = result.reduce(lambda x: x['kind_metadata']['attr'])\n",
    "assert all([ x in attr_only for x in [\"attr_3\", \"attr_6\"]])\n",
    "attr_only"
   ]
  },
  {
   "cell_type": "markdown",
   "id": "0eedd4f2-69e3-4cc9-8dbb-f7269c984fe0",
   "metadata": {
    "tags": []
   },
   "source": [
    "### Chaining filters: `._and(key, val)._or(key, val)._not(key, val)`\n",
    "<hr>  \n",
    "\n",
    "The order of the chain matters:\n",
    " - `a._and(b)._or(c)` would evaluate to `(a && b) || c`\n",
    " - `a._or(c)._and(b)` would evaluate to `(a || c) && b`"
   ]
  },
  {
   "cell_type": "markdown",
   "id": "09c79a9c-618c-42b9-9339-da9cd1175532",
   "metadata": {
    "tags": []
   },
   "source": [
    "### Searching by kind_type\n",
    "<hr>"
   ]
  },
  {
   "cell_type": "markdown",
   "id": "71041ef0-8e79-48cb-a666-e86a098dd71b",
   "metadata": {},
   "source": [
    "<strong>Apply the type filter: `instance._type(kind_type)`</strong>\n",
    "\n",
    "You can include this filter at any point in the chain."
   ]
  },
  {
   "cell_type": "markdown",
   "id": "e8d004f3-5d42-41bd-8d42-dbdbf0d31308",
   "metadata": {},
   "source": [
    " - _Before type filter_"
   ]
  },
  {
   "cell_type": "code",
   "execution_count": null,
   "id": "98cfdd7a-837c-4162-910e-fe6549af722a",
   "metadata": {},
   "outputs": [],
   "source": [
    "result = instance\\\n",
    "    ._with(\"attr\", \"attr_3\")\\\n",
    "    ._or(\"attr\", \"attr_6\")\\\n",
    "    ._not(\"attr\", \"attr_30\")\\\n",
    "    .search()\n",
    "type_only = result.reduce(lambda x: x.get(\"kind_type\"))\n",
    "assert all( x in type_only for x in [\"type_2\", \"type_4\"])\n",
    "type_only"
   ]
  },
  {
   "cell_type": "markdown",
   "id": "16e00272-5958-468a-b86c-98314a174de7",
   "metadata": {},
   "source": [
    " - _After applying type filter_"
   ]
  },
  {
   "cell_type": "code",
   "execution_count": null,
   "id": "87d220e4-4e08-469f-b61d-5bd8636fd102",
   "metadata": {},
   "outputs": [],
   "source": [
    "result = instance\\\n",
    "    ._with(\"attr\", \"attr_3\")\\\n",
    "    ._or(\"attr\", \"attr_6\")\\\n",
    "    ._not(\"attr\", \"attr_30\")\\\n",
    "    ._type(\"type_2\")\\\n",
    "    .search()\n",
    "type_only = result.reduce(lambda x: x.get(\"kind_type\"))\n",
    "assert len(result.all()) == 1\n",
    "assert all( x in type_only for x in [\"type_2\"])\n",
    "type_only"
   ]
  },
  {
   "cell_type": "markdown",
   "id": "079952e1-eac6-4d55-aa13-3d1a23269b82",
   "metadata": {},
   "source": [
    "<strong>Use `instance.one(id)` to get a singular instance by kind_id:</strong>"
   ]
  },
  {
   "cell_type": "code",
   "execution_count": null,
   "id": "d2688aff-ae0e-4416-be72-fc9658c0274e",
   "metadata": {},
   "outputs": [],
   "source": [
    "result = instance.one(\"test_1\")\n",
    "assert len(result.all()) == 1\n",
    "result.all()"
   ]
  },
  {
   "cell_type": "markdown",
   "id": "d03296b9-e972-4494-9f7b-262101ecd2ef",
   "metadata": {},
   "source": [
    "### The `Result` class:\n",
    "\n",
    "Whenever `instance.search()` is called, all records are returned as a `<Result>` object. This class is just a wrapper around the returned JSON data with some extra methods.\n",
    "<hr>"
   ]
  },
  {
   "cell_type": "markdown",
   "id": "cac7693f-e2ae-4e43-a629-ec27659f12c8",
   "metadata": {},
   "source": [
    "<strong>Get all the records in List[dict] format:</strong>"
   ]
  },
  {
   "cell_type": "code",
   "execution_count": null,
   "id": "bdb23456-1e56-4b28-b211-ab6c4c3e582e",
   "metadata": {},
   "outputs": [],
   "source": [
    "result = instance._with(\"attr\", \"attr\").search()\n",
    "result.all()"
   ]
  },
  {
   "cell_type": "markdown",
   "id": "4b089ac6-17f4-4ac2-a603-cb9a7747245f",
   "metadata": {},
   "source": [
    "<strong>Quickly get all ids from a result set with `Result.ids()`</strong>"
   ]
  },
  {
   "cell_type": "code",
   "execution_count": null,
   "id": "28ef16df-346f-4e80-b13e-75ded1e6bab2",
   "metadata": {},
   "outputs": [],
   "source": [
    "ids_only = result.ids()\n",
    "assert all([ \"test\" in x for x in ids_only ])\n",
    "ids_only"
   ]
  },
  {
   "cell_type": "markdown",
   "id": "df0b8248-c8b4-440d-b8b0-6d29fc78c217",
   "metadata": {},
   "source": [
    "<strong>Reduce a value from a result set with `Result.reduce(lambda x)`:</strong>"
   ]
  },
  {
   "cell_type": "code",
   "execution_count": null,
   "id": "a2dbb981-150c-4ce9-b9d2-73aa892cf8a7",
   "metadata": {},
   "outputs": [],
   "source": [
    "attr_only = result.reduce(lambda x: x['kind_metadata']['attr'])\n",
    "assert all([ \"attr\" in x for x in attr_only ])\n",
    "attr_only"
   ]
  },
  {
   "cell_type": "markdown",
   "id": "c2413d3b-ad14-4d2c-b028-6b53739870ee",
   "metadata": {},
   "source": [
    "<strong>Further filter a result list with `Result.filter(lambda x)`:</strong>"
   ]
  },
  {
   "cell_type": "code",
   "execution_count": null,
   "id": "6b2cc6cd-30ae-4b3c-b777-92fc5601bd5e",
   "metadata": {},
   "outputs": [],
   "source": [
    "r_all = result.all()\n",
    "r_filtered = result.filter(lambda x: x['kind_type'] == \"type_2\")\n",
    "\n",
    "print(\"Before: \", len(r_all))\n",
    "print(\"After: \", len(r_filtered))\n",
    "\n",
    "assert len(r_filtered) == 1\n",
    "assert isinstance(r_filtered[0], dict)\n",
    "assert r_filtered[0]['kind_type'] == \"type_2\"\n",
    "\n",
    "r_filtered[0]"
   ]
  },
  {
   "cell_type": "code",
   "execution_count": null,
   "id": "e50148f4-f6e0-4f98-b5f8-f37ce26b4ab1",
   "metadata": {},
   "outputs": [],
   "source": [
    "import opal.publish\n",
    "\n",
    "res = instance._with(\"attr\", \"attr_\").search()\n",
    "for r in res.all():\n",
    "    opal.publish.delete(r[\"kind_id\"])"
   ]
  }
 ],
 "metadata": {
  "kernelspec": {
   "display_name": "Python 3.10.4 64-bit",
   "language": "python",
   "name": "python3"
  },
  "language_info": {
   "codemirror_mode": {
    "name": "ipython",
    "version": 3
   },
   "file_extension": ".py",
   "mimetype": "text/x-python",
   "name": "python",
   "nbconvert_exporter": "python",
   "pygments_lexer": "ipython3",
   "version": "3.10.4"
  },
  "vscode": {
   "interpreter": {
    "hash": "916dbcbb3f70747c44a77c7bcd40155683ae19c65e1c03b4aa3499c5328201f1"
   }
  }
 },
 "nbformat": 4,
 "nbformat_minor": 5
}
