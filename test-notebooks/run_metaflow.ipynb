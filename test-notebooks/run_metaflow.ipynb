{
 "cells": [
  {
   "cell_type": "code",
   "execution_count": 1,
   "id": "117ca656-8fb0-4bdb-ba7e-f9f23227f6c3",
   "metadata": {
    "tags": []
   },
   "outputs": [
    {
     "name": "stdout",
     "output_type": "stream",
     "text": [
      "\u001b[35m\u001b[1mMetaflow 2.7.23\u001b[0m\u001b[35m\u001b[22m executing \u001b[0m\u001b[31m\u001b[1mExampleFlow\u001b[0m\u001b[35m\u001b[22m\u001b[0m\u001b[35m\u001b[22m for \u001b[0m\u001b[31m\u001b[1muser:jovyan\u001b[0m\u001b[35m\u001b[22m\u001b[K\u001b[0m\u001b[35m\u001b[22m\u001b[0m\n",
      "\u001b[35m\u001b[22mValidating your flow...\u001b[K\u001b[0m\u001b[35m\u001b[22m\u001b[0m\n",
      "\u001b[32m\u001b[1m    The graph looks good!\u001b[K\u001b[0m\u001b[32m\u001b[1m\u001b[0m\n",
      "\u001b[35m\u001b[22mRunning pylint...\u001b[K\u001b[0m\u001b[35m\u001b[22m\u001b[0m\n",
      "\u001b[32m\u001b[1m    Pylint is happy!\u001b[K\u001b[0m\u001b[32m\u001b[1m\u001b[0m\n",
      "\u001b[35m2023-07-17 22:41:17.498 \u001b[0m\u001b[1mWorkflow starting (run-id 1689633677373213):\u001b[0m\n",
      "\u001b[35m2023-07-17 22:41:17.510 \u001b[0m\u001b[32m[1689633677373213/start/1 (pid 2252)] \u001b[0m\u001b[1mTask is starting.\u001b[0m\n",
      "\u001b[35m2023-07-17 22:41:19.508 \u001b[0m\u001b[32m[1689633677373213/start/1 (pid 2252)] \u001b[0m\u001b[1mTask finished successfully.\u001b[0m\n",
      "\u001b[35m2023-07-17 22:41:19.557 \u001b[0m\u001b[32m[1689633677373213/save_table/2 (pid 2282)] \u001b[0m\u001b[1mTask is starting.\u001b[0m\n",
      "\u001b[35m2023-07-17 22:41:23.775 \u001b[0m\u001b[32m[1689633677373213/save_table/2 (pid 2282)] \u001b[0m\u001b[1mTask finished successfully.\u001b[0m\n",
      "\u001b[35m2023-07-17 22:41:23.821 \u001b[0m\u001b[32m[1689633677373213/end/3 (pid 2329)] \u001b[0m\u001b[1mTask is starting.\u001b[0m\n",
      "\u001b[35m2023-07-17 22:41:25.126 \u001b[0m\u001b[32m[1689633677373213/end/3 (pid 2329)] \u001b[0m\u001b[22mAll done!\u001b[0m\n",
      "\u001b[35m2023-07-17 22:41:27.167 \u001b[0m\u001b[32m[1689633677373213/end/3 (pid 2329)] \u001b[0m\u001b[1mTask finished successfully.\u001b[0m\n",
      "\u001b[35m2023-07-17 22:41:27.192 \u001b[0m\u001b[1mDone!\u001b[0m\n",
      "\u001b[35m\u001b[1mMetaflow 2.7.23\u001b[0m\u001b[35m\u001b[22m executing \u001b[0m\u001b[31m\u001b[1mUploadFlow\u001b[0m\u001b[35m\u001b[22m\u001b[0m\u001b[35m\u001b[22m for \u001b[0m\u001b[31m\u001b[1muser:jovyan\u001b[0m\u001b[35m\u001b[22m\u001b[K\u001b[0m\u001b[35m\u001b[22m\u001b[0m\n",
      "\u001b[35m\u001b[22mValidating your flow...\u001b[K\u001b[0m\u001b[35m\u001b[22m\u001b[0m\n",
      "\u001b[32m\u001b[1m    The graph looks good!\u001b[K\u001b[0m\u001b[32m\u001b[1m\u001b[0m\n",
      "\u001b[35m\u001b[22mRunning pylint...\u001b[K\u001b[0m\u001b[35m\u001b[22m\u001b[0m\n",
      "\u001b[32m\u001b[1m    Pylint is happy!\u001b[K\u001b[0m\u001b[32m\u001b[1m\u001b[0m\n",
      "\u001b[35m2023-07-17 22:41:33.569 \u001b[0m\u001b[1mWorkflow starting (run-id 1689633693443041):\u001b[0m\n",
      "\u001b[35m2023-07-17 22:41:33.582 \u001b[0m\u001b[32m[1689633693443041/start/1 (pid 2391)] \u001b[0m\u001b[1mTask is starting.\u001b[0m\n",
      "\u001b[35m2023-07-17 22:41:37.220 \u001b[0m\u001b[32m[1689633693443041/start/1 (pid 2391)] \u001b[0m\u001b[1mTask finished successfully.\u001b[0m\n",
      "\u001b[35m2023-07-17 22:41:37.253 \u001b[0m\u001b[32m[1689633693443041/end/2 (pid 2460)] \u001b[0m\u001b[1mTask is starting.\u001b[0m\n",
      "\u001b[35m2023-07-17 22:41:38.503 \u001b[0m\u001b[32m[1689633693443041/end/2 (pid 2460)] \u001b[0m\u001b[22me\u001b[0m\n",
      "\u001b[35m2023-07-17 22:41:38.865 \u001b[0m\u001b[32m[1689633693443041/end/2 (pid 2460)] \u001b[0m\u001b[1mTask finished successfully.\u001b[0m\n",
      "\u001b[35m2023-07-17 22:41:38.895 \u001b[0m\u001b[1mDone!\u001b[0m\n"
     ]
    }
   ],
   "source": [
    "!python example_flow.py run --n 9\n",
    "!python upload_folder_flow.py run --dir ."
   ]
  },
  {
   "cell_type": "code",
   "execution_count": 2,
   "id": "1114a262-66e1-4a75-9013-669ee20356e2",
   "metadata": {
    "tags": []
   },
   "outputs": [
    {
     "data": {
      "text/html": [
       "<div>\n",
       "<style scoped>\n",
       "    .dataframe tbody tr th:only-of-type {\n",
       "        vertical-align: middle;\n",
       "    }\n",
       "\n",
       "    .dataframe tbody tr th {\n",
       "        vertical-align: top;\n",
       "    }\n",
       "\n",
       "    .dataframe thead th {\n",
       "        text-align: right;\n",
       "    }\n",
       "</style>\n",
       "<table border=\"1\" class=\"dataframe\">\n",
       "  <thead>\n",
       "    <tr style=\"text-align: right;\">\n",
       "      <th></th>\n",
       "      <th></th>\n",
       "      <th>prod</th>\n",
       "    </tr>\n",
       "    <tr>\n",
       "      <th>0_x</th>\n",
       "      <th>0_y</th>\n",
       "      <th></th>\n",
       "    </tr>\n",
       "  </thead>\n",
       "  <tbody>\n",
       "    <tr>\n",
       "      <th rowspan=\"5\" valign=\"top\">1</th>\n",
       "      <th>1</th>\n",
       "      <td>1</td>\n",
       "    </tr>\n",
       "    <tr>\n",
       "      <th>2</th>\n",
       "      <td>2</td>\n",
       "    </tr>\n",
       "    <tr>\n",
       "      <th>3</th>\n",
       "      <td>3</td>\n",
       "    </tr>\n",
       "    <tr>\n",
       "      <th>4</th>\n",
       "      <td>4</td>\n",
       "    </tr>\n",
       "    <tr>\n",
       "      <th>5</th>\n",
       "      <td>5</td>\n",
       "    </tr>\n",
       "    <tr>\n",
       "      <th>...</th>\n",
       "      <th>...</th>\n",
       "      <td>...</td>\n",
       "    </tr>\n",
       "    <tr>\n",
       "      <th rowspan=\"5\" valign=\"top\">8</th>\n",
       "      <th>4</th>\n",
       "      <td>32</td>\n",
       "    </tr>\n",
       "    <tr>\n",
       "      <th>5</th>\n",
       "      <td>40</td>\n",
       "    </tr>\n",
       "    <tr>\n",
       "      <th>6</th>\n",
       "      <td>48</td>\n",
       "    </tr>\n",
       "    <tr>\n",
       "      <th>7</th>\n",
       "      <td>56</td>\n",
       "    </tr>\n",
       "    <tr>\n",
       "      <th>8</th>\n",
       "      <td>64</td>\n",
       "    </tr>\n",
       "  </tbody>\n",
       "</table>\n",
       "<p>64 rows × 1 columns</p>\n",
       "</div>"
      ],
      "text/plain": [
       "         prod\n",
       "0_x 0_y      \n",
       "1   1       1\n",
       "    2       2\n",
       "    3       3\n",
       "    4       4\n",
       "    5       5\n",
       "...       ...\n",
       "8   4      32\n",
       "    5      40\n",
       "    6      48\n",
       "    7      56\n",
       "    8      64\n",
       "\n",
       "[64 rows x 1 columns]"
      ]
     },
     "execution_count": 2,
     "metadata": {},
     "output_type": "execute_result"
    }
   ],
   "source": [
    "import metaflow\n",
    "import pandas as pd\n",
    "import opal.flow\n",
    "    \n",
    "s3 = opal.flow.minio_s3fs()\n",
    "\n",
    "ex_flow = metaflow.Flow(\"ExampleFlow\")\n",
    "up_flow = metaflow.Flow(\"UploadFlow\")\n",
    "ex_run = ex_flow.latest_successful_run\n",
    "up_run = up_flow.latest_successful_run\n",
    "    \n",
    "pd.read_parquet(ex_run.data.data_files['parquet_table'], filesystem=s3)"
   ]
  },
  {
   "cell_type": "code",
   "execution_count": 4,
   "id": "981d89ae-7279-4c98-8798-fc58b692755b",
   "metadata": {},
   "outputs": [
    {
     "data": {
      "text/plain": [
       "frozenset({'metaflow_version:2.7.23',\n",
       "           'python_version:3.10.9',\n",
       "           'runtime:dev',\n",
       "           'user:jovyan'})"
      ]
     },
     "execution_count": 4,
     "metadata": {},
     "output_type": "execute_result"
    }
   ],
   "source": [
    "up_run.tags"
   ]
  }
 ],
 "metadata": {
  "kernelspec": {
   "display_name": "Python 3 (ipykernel)",
   "language": "python",
   "name": "python3"
  },
  "language_info": {
   "codemirror_mode": {
    "name": "ipython",
    "version": 3
   },
   "file_extension": ".py",
   "mimetype": "text/x-python",
   "name": "python",
   "nbconvert_exporter": "python",
   "pygments_lexer": "ipython3",
   "version": "3.10.9"
  },
  "vscode": {
   "interpreter": {
    "hash": "916dbcbb3f70747c44a77c7bcd40155683ae19c65e1c03b4aa3499c5328201f1"
   }
  }
 },
 "nbformat": 4,
 "nbformat_minor": 5
}
