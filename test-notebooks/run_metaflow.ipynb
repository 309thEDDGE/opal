{
 "cells": [
  {
   "cell_type": "code",
   "execution_count": null,
   "id": "117ca656-8fb0-4bdb-ba7e-f9f23227f6c3",
   "metadata": {
    "tags": []
   },
   "outputs": [],
   "source": [
    "!python example_flow.py run --n 9\n",
    "!python upload_folder_flow.py run --dir ."
   ]
  },
  {
   "cell_type": "code",
   "execution_count": null,
   "id": "1114a262-66e1-4a75-9013-669ee20356e2",
   "metadata": {
    "tags": []
   },
   "outputs": [],
   "source": [
    "import metaflow\n",
    "import pandas as pd\n",
    "import opal.flow\n",
    "\n",
    "s3 = opal.flow.minio_s3fs()\n",
    "\n",
    "# test that local shared metadata is configured correctly\n",
    "assert metaflow.get_metadata() == \"local@/opt/opal/metaflow-metadata\"\n",
    "\n",
    "ex_flow = metaflow.Flow(\"ExampleFlow\")\n",
    "up_flow = metaflow.Flow(\"UploadFlow\")\n",
    "ex_run = ex_flow.latest_successful_run\n",
    "up_run = up_flow.latest_successful_run\n",
    "\n",
    "# test that files in data_files actually exist\n",
    "assert s3.ls(up_run.data.data_files['file'])\n",
    "assert s3.exists(ex_run.data.data_files['parquet_table'])\n",
    "\n",
    "pd.read_parquet(ex_run.data.data_files['parquet_table'], filesystem=s3)\n"
   ]
  },
  {
   "cell_type": "code",
   "execution_count": null,
   "id": "7596e52f",
   "metadata": {
    "tags": []
   },
   "outputs": [],
   "source": [
    "from opal.query import Instance\n",
    "import opal.publish\n",
    "\n",
    "instance = Instance()\n",
    "result = instance._type('ExampleFlow').search()\n",
    "\n",
    "# clean up old catalog data for the following tests\n",
    "for r in result.all():\n",
    "    opal.publish.delete(r['kind_id'])\n",
    "\n",
    "opal.flow.publish_run(ex_run)\n",
    "opal.flow.publish_run(up_run)\n",
    "result = instance._type('ExampleFlow').search()\n",
    "\n",
    "display(result.all()[0])\n",
    "\n",
    "# test that flows were published to the catalog\n",
    "assert len(result.all()) > 0\n",
    "assert all([ ex_flow[r[\"kind_id\"]] for r in result.all() ])\n"
   ]
  },
  {
   "cell_type": "code",
   "execution_count": null,
   "id": "981d89ae-7279-4c98-8798-fc58b692755b",
   "metadata": {},
   "outputs": [],
   "source": [
    "opal.flow.flow_script_utils.delete_run_data(up_run)\n",
    "\n",
    "# test the following:\n",
    "# tagged as 'no_data'\n",
    "assert 'no_data' in up_run.tags\n",
    "# data files deleted\n",
    "assert not s3.ls(up_run.data.data_files['file'])\n",
    "# removed from catalog\n",
    "assert not instance.one(up_run.id).all()\n",
    "\n",
    "up_run.tags"
   ]
  },
  {
   "cell_type": "code",
   "execution_count": null,
   "id": "f2e2a5c3-4aac-42f5-81fd-5f1146ef0f56",
   "metadata": {},
   "outputs": [],
   "source": []
  },
  {
   "cell_type": "code",
   "execution_count": null,
   "id": "5a188670-6e10-4b4e-a969-c6ec345f8d31",
   "metadata": {},
   "outputs": [],
   "source": []
  }
 ],
 "metadata": {
  "kernelspec": {
   "display_name": "Python 3 (ipykernel)",
   "language": "python",
   "name": "python3"
  },
  "language_info": {
   "codemirror_mode": {
    "name": "ipython",
    "version": 3
   },
   "file_extension": ".py",
   "mimetype": "text/x-python",
   "name": "python",
   "nbconvert_exporter": "python",
   "pygments_lexer": "ipython3",
   "version": "3.10.4"
  },
  "vscode": {
   "interpreter": {
    "hash": "916dbcbb3f70747c44a77c7bcd40155683ae19c65e1c03b4aa3499c5328201f1"
   }
  }
 },
 "nbformat": 4,
 "nbformat_minor": 5
}
