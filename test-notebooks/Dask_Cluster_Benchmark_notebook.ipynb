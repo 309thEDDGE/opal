{
 "cells": [
  {
   "cell_type": "markdown",
   "id": "935e9a49-882e-4d9f-bc8f-a02aa2373171",
   "metadata": {},
   "source": [
    "<h1>Distributed vs Non-Distributed Benchmark</h1>\n",
    "\n",
    "This test will be used to benchmark a direct comparison of processing time for a task between a singleuser instance using numpy and/or pytorch and a dask-work cluster."
   ]
  },
  {
   "cell_type": "markdown",
   "id": "56477b25-751f-4eab-8514-52d604f336cf",
   "metadata": {},
   "source": [
    "<h2>Dask Gateway</h2>\n",
    "Dask Gateway provides a secure, multi-tenant server for managing Dask clusters. It allows users to launch and use Dask clusters in a shared, centrally managed cluster environment, without requiring users to have direct access to the underlying cluster backend (e.g. Kubernetes, Hadoop/YARN, HPC Job queues, etc…).\n",
    "\n",
    "Dask Gateway is one of many options for deploying Dask clusters, see Deploying Dask in the Dask documentation for an overview of additional options.\n",
    "\n",
    "<h3>Highlights</h3>\n",
    "\n",
    "* Centrally Managed: Administrators do the heavy lifting of configuring the Gateway, users simply connect to the Gateway to get a new cluster. Eases deployment, and allows enforcing consistent configuration across all users.\n",
    "\n",
    "* Secure by Default: Cluster communication is automatically encrypted with TLS. All operations are authenticated with a configurable protocol, allowing you to use what makes sense for your organization.\n",
    "\n",
    "* Flexible: The gateway is designed to support multiple backends, and runs equally well in the cloud as on-premise. Natively supports Kubernetes, Hadoop/YARN, and HPC Job Queueing systems.\n",
    "\n",
    "* Robust to Failure: The gateway can be restarted or experience failover without losing existing clusters. Allows for seamless upgrades and restarts without disrupting users."
   ]
  },
  {
   "attachments": {},
   "cell_type": "markdown",
   "id": "13f24e39-bc62-4539-a15b-81c1639209e0",
   "metadata": {},
   "source": [
    "<h3>Architecture Overview</h3>\n",
    "Dask Gateway is divided into three separate components:\n",
    "\n",
    "Multiple active Dask Clusters (potentially more than one per user)\n",
    "\n",
    "A Proxy for proxying both the connection between the user’s client and their respective scheduler, and the Dask Web UI for each cluster\n",
    "\n",
    "A central Gateway that manages authentication and cluster startup/shutdown\n",
    "\n"
   ]
  },
  {
   "cell_type": "markdown",
   "id": "6bcf6355-ad20-4b8e-a013-127b511446ef",
   "metadata": {},
   "source": [
    "<h2>Numpy</h2>\n",
    "NumPy is the fundamental package for scientific computing in Python. It is a Python library that provides a multidimensional array object, various derived objects (such as masked arrays and matrices), and an assortment of routines for fast operations on arrays, including mathematical, logical, shape manipulation, sorting, selecting, I/O, discrete Fourier transforms, basic linear algebra, basic statistical operations, random simulation and much more.\n",
    "\n",
    "Documentation for numby : https://numpy.org/doc/stable/"
   ]
  },
  {
   "cell_type": "markdown",
   "id": "1e28dcee-f6d2-482d-9839-2aa25b827aa8",
   "metadata": {},
   "source": [
    "<h2>Pytorch</h2>\n",
    "PyTorch is an optimized tensor library for deep learning using GPUs and CPUs. In this instance we will only be using the CPU with pytorch.\n",
    "Documentation for pytorch: https://pytorch.org/docs/stable/index.html"
   ]
  },
  {
   "cell_type": "markdown",
   "id": "f2723fec-8f05-4bd3-85a8-474f418c7dbb",
   "metadata": {},
   "source": [
    "<h2>Testing</h2>"
   ]
  },
  {
   "cell_type": "code",
   "execution_count": 1,
   "id": "430bc176-6595-4942-b78b-37922920abb9",
   "metadata": {},
   "outputs": [],
   "source": [
    "# import dask, time, and create the gateway to dask\n",
    "from dask_gateway import Gateway\n",
    "import time\n",
    "import torch\n",
    "gateway = Gateway( \"http://<ip-address-for-dask-gateway-loadBalancer\", auth=\"jupyterhub\", )\n",
    "options = gateway.cluster_options()"
   ]
  },
  {
   "cell_type": "markdown",
   "id": "a67e77e7",
   "metadata": {},
   "source": []
  },
  {
   "cell_type": "code",
   "execution_count": 2,
   "id": "c93e7c89-26f5-4b78-8eb2-96bc483b4c8c",
   "metadata": {},
   "outputs": [],
   "source": [
    "# create new cluster in dask\n",
    "cluster = gateway.new_cluster(options)"
   ]
  },
  {
   "cell_type": "code",
   "execution_count": 3,
   "id": "98e43efd-c049-43f2-ab04-cc1048ff1b9c",
   "metadata": {},
   "outputs": [
    {
     "data": {
      "text/html": [
       "<div style='background-color: #f2f2f2; display: inline-block; padding: 10px; border: 1px solid #999999;'>\n",
       "  <h3>GatewayCluster</h3>\n",
       "  <ul>\n",
       "    <li><b>Name: </b>opal.96ae9e7b29ea475ab566118fba522856\n",
       "    <li><b>Dashboard: </b><a href='http://10.106.233.41/clusters/opal.96ae9e7b29ea475ab566118fba522856/status' target='_blank'>http://10.106.233.41/clusters/opal.96ae9e7b29ea475ab566118fba522856/status</a>\n",
       "  </ul>\n",
       "</div>\n"
      ],
      "text/plain": [
       "GatewayCluster<opal.96ae9e7b29ea475ab566118fba522856, status=running>"
      ]
     },
     "metadata": {},
     "output_type": "display_data"
    }
   ],
   "source": [
    "# make the cluster scalable\n",
    "cluster.adapt(minimum=2, maximum=10)\n",
    "# showcase the gateway cluster information, you can open this GUI link to get more information about your cluster.\n",
    "cluster"
   ]
  },
  {
   "cell_type": "markdown",
   "id": "ae1a0eef-53fb-434f-909a-5d17bb3d212d",
   "metadata": {},
   "source": [
    "<h4>Client for the cluster.  This dashboard will show you the working tasks in real time.</h4>"
   ]
  },
  {
   "cell_type": "code",
   "execution_count": 4,
   "id": "064e94a8-73ed-45ec-804d-8cf3a7268085",
   "metadata": {
    "scrolled": true
   },
   "outputs": [
    {
     "name": "stderr",
     "output_type": "stream",
     "text": [
      "/opt/conda/lib/python3.11/site-packages/distributed/client.py:1393: VersionMismatchWarning: Mismatched versions found\n",
      "\n",
      "+-------------+----------------+----------------+----------------+\n",
      "| Package     | Client         | Scheduler      | Workers        |\n",
      "+-------------+----------------+----------------+----------------+\n",
      "| dask        | 2024.4.1       | 2024.1.0       | 2024.1.0       |\n",
      "| distributed | 2024.4.1       | 2024.1.0       | 2024.1.0       |\n",
      "| lz4         | 4.3.3          | None           | None           |\n",
      "| numpy       | 1.26.4         | 1.26.3         | 1.26.3         |\n",
      "| pandas      | 2.2.2          | 2.1.4          | 2.1.4          |\n",
      "| python      | 3.11.8.final.0 | 3.11.7.final.0 | 3.11.7.final.0 |\n",
      "| toolz       | 0.12.1         | 0.12.0         | 0.12.0         |\n",
      "+-------------+----------------+----------------+----------------+\n",
      "  warnings.warn(version_module.VersionMismatchWarning(msg[0][\"warning\"]))\n"
     ]
    },
    {
     "data": {
      "text/html": [
       "<div>\n",
       "    <div style=\"width: 24px; height: 24px; background-color: #e1e1e1; border: 3px solid #9D9D9D; border-radius: 5px; position: absolute;\"> </div>\n",
       "    <div style=\"margin-left: 48px;\">\n",
       "        <h3 style=\"margin-bottom: 0px;\">Client</h3>\n",
       "        <p style=\"color: #9D9D9D; margin-bottom: 0px;\">Client-bc4ff2eb-f842-11ee-9458-feae9fe1e165</p>\n",
       "        <table style=\"width: 100%; text-align: left;\">\n",
       "\n",
       "        <tr>\n",
       "        \n",
       "            <td style=\"text-align: left;\"><strong>Connection method:</strong> Cluster object</td>\n",
       "            <td style=\"text-align: left;\"><strong>Cluster type:</strong> dask_gateway.GatewayCluster</td>\n",
       "        \n",
       "        </tr>\n",
       "\n",
       "        \n",
       "            <tr>\n",
       "                <td style=\"text-align: left;\">\n",
       "                    <strong>Dashboard: </strong> <a href=\"http://10.106.233.41/clusters/opal.96ae9e7b29ea475ab566118fba522856/status\" target=\"_blank\">http://10.106.233.41/clusters/opal.96ae9e7b29ea475ab566118fba522856/status</a>\n",
       "                </td>\n",
       "                <td style=\"text-align: left;\"></td>\n",
       "            </tr>\n",
       "        \n",
       "\n",
       "        </table>\n",
       "\n",
       "        \n",
       "\n",
       "        \n",
       "            <details>\n",
       "            <summary style=\"margin-bottom: 20px;\"><h3 style=\"display: inline;\">Cluster Info</h3></summary>\n",
       "            <div style='background-color: #f2f2f2; display: inline-block; padding: 10px; border: 1px solid #999999;'>\n",
       "  <h3>GatewayCluster</h3>\n",
       "  <ul>\n",
       "    <li><b>Name: </b>opal.96ae9e7b29ea475ab566118fba522856\n",
       "    <li><b>Dashboard: </b><a href='http://10.106.233.41/clusters/opal.96ae9e7b29ea475ab566118fba522856/status' target='_blank'>http://10.106.233.41/clusters/opal.96ae9e7b29ea475ab566118fba522856/status</a>\n",
       "  </ul>\n",
       "</div>\n",
       "\n",
       "            </details>\n",
       "        \n",
       "\n",
       "    </div>\n",
       "</div>"
      ],
      "text/plain": [
       "<Client: 'tls://10.244.1.74:8786' processes=2 threads=2, memory=4.00 GiB>"
      ]
     },
     "execution_count": 4,
     "metadata": {},
     "output_type": "execute_result"
    },
    {
     "name": "stderr",
     "output_type": "stream",
     "text": [
      "2024-04-11 20:43:17,492 - distributed.client - ERROR - Failed to reconnect to scheduler after 30.00 seconds, closing client\n"
     ]
    }
   ],
   "source": [
    "from dask.distributed import Client\n",
    "client = Client(cluster)\n",
    "client "
   ]
  },
  {
   "cell_type": "markdown",
   "id": "9c941dbe-67b1-4a59-9cbe-253f53e27e1d",
   "metadata": {},
   "source": [
    "<h3>Here is a test that will create a random number array in dask, numby, and pytorch and graphically compare the runtime of each result</h3>\n",
    "\n",
    "<h4>Dask cluster random array mean and sum</h4>"
   ]
  },
  {
   "cell_type": "code",
   "execution_count": null,
   "id": "aec9e43c-313c-4e99-81fe-ef02518e33d8",
   "metadata": {},
   "outputs": [],
   "source": [
    "%%time\n",
    "import dask.distributed\n",
    "import dask.array as da\n",
    "\n",
    "# Create a Dask array\n",
    "x = da.random.random(15000, 15000)\n",
    "\n",
    "# Perform an operation on the Dask array\n",
    "#y = x + x\n",
    "\n",
    "# Compute the results of the operation\n",
    "s = client.submit(x.sum)\n",
    "m = client.submit(x.mean)\n",
    "p = client.gather(s)\n",
    "me = client.gather(m)\n",
    "print(float(p))\n",
    "print(float(me))"
   ]
  },
  {
   "cell_type": "markdown",
   "id": "0d031e02-0ab6-48f1-a62e-b778e4b3f7e3",
   "metadata": {},
   "source": [
    "<h4>Pytorch random array mean and sum</h4>"
   ]
  },
  {
   "cell_type": "code",
   "execution_count": null,
   "id": "a6c8d24d-3979-4f7c-a500-438056d2cd79",
   "metadata": {},
   "outputs": [],
   "source": [
    "%%time\n",
    "# CPU array\n",
    "cpu_a = torch.rand(15000,15000)\n",
    "result1 = torch.sum(cpu_a)\n",
    "mean1 = torch.mean(cpu_a)\n",
    "print(result1)\n",
    "print(mean1)"
   ]
  },
  {
   "cell_type": "markdown",
   "id": "df1cbbe2-ae7e-492d-a312-e377f93658c4",
   "metadata": {},
   "source": [
    "<h4>Numpy random array mean and sum</h4>"
   ]
  },
  {
   "cell_type": "code",
   "execution_count": null,
   "id": "5d124d84-adb5-49df-9005-348d52c49342",
   "metadata": {},
   "outputs": [],
   "source": [
    "%%time\n",
    "import numpy as np\n",
    "\n",
    "# Create a 2D array\n",
    "arr = np.random.rand(15000, 15000)\n",
    "\n",
    "# Calculate the sum of each row\n",
    "result = np.sum(arr)\n",
    "mean = np.mean(arr)\n",
    "\n",
    "# Print the result\n",
    "print(result)\n",
    "print(mean)"
   ]
  },
  {
   "cell_type": "markdown",
   "id": "8cd64f77-6cad-485b-b9fe-dd6fa93d52d9",
   "metadata": {},
   "source": [
    "<h3>Always close down your cluster</h3>"
   ]
  },
  {
   "cell_type": "code",
   "execution_count": 10,
   "id": "b74a4f69-3fc7-4a3a-8e90-d482834285df",
   "metadata": {},
   "outputs": [
    {
     "name": "stdout",
     "output_type": "stream",
     "text": [
      "Cluster is shutdown\n"
     ]
    }
   ],
   "source": [
    "# make sure to shut down the cluster\n",
    "cluster.shutdown()\n",
    "print('Cluster is shutdown')"
   ]
  }
 ],
 "metadata": {
  "kernelspec": {
   "display_name": "Python 3 (ipykernel)",
   "language": "python",
   "name": "python3"
  },
  "language_info": {
   "codemirror_mode": {
    "name": "ipython",
    "version": 3
   },
   "file_extension": ".py",
   "mimetype": "text/x-python",
   "name": "python",
   "nbconvert_exporter": "python",
   "pygments_lexer": "ipython3",
   "version": "3.11.8"
  }
 },
 "nbformat": 4,
 "nbformat_minor": 5
}
