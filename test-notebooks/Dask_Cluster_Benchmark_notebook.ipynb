{
 "cells": [
  {
   "cell_type": "markdown",
   "id": "935e9a49-882e-4d9f-bc8f-a02aa2373171",
   "metadata": {},
   "source": [
    "<h1>Distributed vs Non-Distributed Benchmark</h1>\n",
    "\n",
    "This test will be used to benchmark a direct comparison of processing time for a task between a singleuser instance and a dask-work cluster."
   ]
  },
  {
   "cell_type": "markdown",
   "id": "56477b25-751f-4eab-8514-52d604f336cf",
   "metadata": {},
   "source": [
    "<h2>Dask Gateway</h2>\n",
    "Dask Gateway provides a secure, multi-tenant server for managing Dask clusters. It allows users to launch and use Dask clusters in a shared, centrally managed cluster environment, without requiring users to have direct access to the underlying cluster backend (e.g. Kubernetes, Hadoop/YARN, HPC Job queues, etc…).\n",
    "\n",
    "Dask Gateway is one of many options for deploying Dask clusters, see Deploying Dask in the Dask documentation for an overview of additional options.\n",
    "\n",
    "<h3>Highlights</h3>\n",
    "\n",
    "* Centrally Managed: Administrators do the heavy lifting of configuring the Gateway, users simply connect to the Gateway to get a new cluster. Eases deployment, and allows enforcing consistent configuration across all users.\n",
    "\n",
    "* Secure by Default: Cluster communication is automatically encrypted with TLS. All operations are authenticated with a configurable protocol, allowing you to use what makes sense for your organization.\n",
    "\n",
    "* Flexible: The gateway is designed to support multiple backends, and runs equally well in the cloud as on-premise. Natively supports Kubernetes, Hadoop/YARN, and HPC Job Queueing systems.\n",
    "\n",
    "* Robust to Failure: The gateway can be restarted or experience failover without losing existing clusters. Allows for seamless upgrades and restarts without disrupting users."
   ]
  },
  {
   "attachments": {},
   "cell_type": "markdown",
   "id": "13f24e39-bc62-4539-a15b-81c1639209e0",
   "metadata": {},
   "source": [
    "<h3>Architecture Overview</h3>\n",
    "Dask Gateway is divided into three separate components:\n",
    "\n",
    "Multiple active Dask Clusters (potentially more than one per user)\n",
    "\n",
    "A Proxy for proxying both the connection between the user’s client and their respective scheduler, and the Dask Web UI for each cluster\n",
    "\n",
    "A central Gateway that manages authentication and cluster startup/shutdown\n",
    "\n"
   ]
  },
  {
   "cell_type": "code",
   "execution_count": null,
   "id": "430bc176-6595-4942-b78b-37922920abb9",
   "metadata": {},
   "outputs": [],
   "source": [
    "# import dask, time, torch\n",
    "from dask_gateway import Gateway\n",
    "import time\n",
    "import torch\n",
    "gateway = Gateway( \"http://10.107.108.18\", auth=\"jupyterhub\", )\n",
    "options = gateway.cluster_options()"
   ]
  },
  {
   "cell_type": "code",
   "execution_count": null,
   "id": "c93e7c89-26f5-4b78-8eb2-96bc483b4c8c",
   "metadata": {},
   "outputs": [],
   "source": [
    "# create new cluster\n",
    "cluster = gateway.new_cluster(options)"
   ]
  },
  {
   "cell_type": "code",
   "execution_count": null,
   "id": "98e43efd-c049-43f2-ab04-cc1048ff1b9c",
   "metadata": {},
   "outputs": [],
   "source": [
    "# make the cluster scalable\n",
    "cluster.adapt(minimum=2, maximum=10)\n",
    "# showcase the gateway cluster information\n",
    "cluster"
   ]
  },
  {
   "cell_type": "code",
   "execution_count": null,
   "id": "b8a2aeaa-0623-4d51-9849-31ddb52e6eed",
   "metadata": {},
   "outputs": [],
   "source": [
    "import dask.array as da"
   ]
  },
  {
   "cell_type": "code",
   "execution_count": null,
   "id": "619cf899-f116-4878-974c-6b9fe4222987",
   "metadata": {},
   "outputs": [],
   "source": [
    "start_time = time.time()"
   ]
  },
  {
   "cell_type": "code",
   "execution_count": null,
   "id": "27bcabe2-08a6-405e-8780-96bf7422c96c",
   "metadata": {},
   "outputs": [],
   "source": [
    "# cluster array \n",
    "arr = da.random.random((1000, 1000), chunks=(1000,1000))\n",
    "for _ in range(10000):\n",
    "    arr += arr\n",
    "elapsed_time = time.time() - start_time\n",
    "print('Cluster time in seconds = ',elapsed_time)\n",
    "\n",
    "# CPU array\n",
    "cpu_a = torch.ones(1000,1000)\n",
    "for _ in range(10000):\n",
    "    cpu_a += cpu_a\n",
    "elapsed_time = time.time() - start_time\n",
    "print('CPU time in seconds = ',elapsed_time)"
   ]
  },
  {
   "cell_type": "code",
   "execution_count": null,
   "id": "f2c40ddf-bae3-4a0f-82dc-6c0d667bdd98",
   "metadata": {},
   "outputs": [],
   "source": [
    "# make sure to shut down the cluster\n",
    "cluster.shutdown()\n",
    "print('Cluster is shutdown')"
   ]
  }
 ],
 "metadata": {
  "kernelspec": {
   "display_name": "Python 3 (ipykernel)",
   "language": "python",
   "name": "python3"
  },
  "language_info": {
   "codemirror_mode": {
    "name": "ipython",
    "version": 3
   },
   "file_extension": ".py",
   "mimetype": "text/x-python",
   "name": "python",
   "nbconvert_exporter": "python",
   "pygments_lexer": "ipython3",
   "version": "3.11.8"
  }
 },
 "nbformat": 4,
 "nbformat_minor": 5
}
