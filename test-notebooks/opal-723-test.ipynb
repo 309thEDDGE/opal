{
 "cells": [
  {
   "cell_type": "code",
   "execution_count": null,
   "id": "3ef1dc07-2bf4-4f4d-8e21-77b3f6bf225a",
   "metadata": {},
   "outputs": [],
   "source": [
    "pip list | grep panel"
   ]
  },
  {
   "cell_type": "code",
   "execution_count": null,
   "id": "e5ca9352-875e-4af5-be26-cd8538beb251",
   "metadata": {},
   "outputs": [],
   "source": [
    "pip list | grep holoviews"
   ]
  },
  {
   "cell_type": "code",
   "execution_count": null,
   "id": "a01cfd46-99f3-4163-8a72-e4528db675d3",
   "metadata": {},
   "outputs": [],
   "source": [
    "pip list | grep param"
   ]
  },
  {
   "cell_type": "code",
   "execution_count": null,
   "id": "bcba4f67-74ea-4526-b2c7-a31013cacd98",
   "metadata": {},
   "outputs": [],
   "source": [
    "pip list | grep plotly"
   ]
  },
  {
   "cell_type": "code",
   "execution_count": null,
   "id": "1533cecd-c1c1-49d0-8550-2ff566b8bb17",
   "metadata": {},
   "outputs": [],
   "source": [
    "import panel"
   ]
  },
  {
   "cell_type": "code",
   "execution_count": null,
   "id": "7d73ec32-cffc-4160-8793-2ccaa7760252",
   "metadata": {},
   "outputs": [],
   "source": [
    "import holoviews"
   ]
  },
  {
   "cell_type": "code",
   "execution_count": null,
   "id": "cfb703b4-0ede-4fe0-b69a-1d446f43d087",
   "metadata": {},
   "outputs": [],
   "source": [
    "import param"
   ]
  },
  {
   "cell_type": "code",
   "execution_count": null,
   "id": "b72e476f-bf01-43ce-b2ee-459fe93a466a",
   "metadata": {},
   "outputs": [],
   "source": [
    "import plotly"
   ]
  },
  {
   "cell_type": "code",
   "execution_count": null,
   "id": "7de6135f-d7ce-413d-b502-ce627b8146f6",
   "metadata": {},
   "outputs": [],
   "source": []
  }
 ],
 "metadata": {
  "kernelspec": {
   "display_name": "Python [conda env:singleuser] *",
   "language": "python",
   "name": "conda-env-singleuser-py"
  },
  "language_info": {
   "codemirror_mode": {
    "name": "ipython",
    "version": 3
   },
   "file_extension": ".py",
   "mimetype": "text/x-python",
   "name": "python",
   "nbconvert_exporter": "python",
   "pygments_lexer": "ipython3",
   "version": "3.10.9"
  }
 },
 "nbformat": 4,
 "nbformat_minor": 5
}
