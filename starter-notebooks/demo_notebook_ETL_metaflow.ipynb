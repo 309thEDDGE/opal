{
 "cells": [
  {
   "cell_type": "markdown",
   "id": "d733d1a6-fc96-41f5-89f2-dcc596206226",
   "metadata": {},
   "source": [
    "## Import Python Module to Create/Upload New Data Instances\n",
    "### (Persona: Data Engineer)\n",
    "\n",
    "Use metaflow-based data model"
   ]
  },
  {
   "cell_type": "code",
   "execution_count": null,
   "id": "ddb0d0d4-675e-482a-8290-9c680da91e8f",
   "metadata": {},
   "outputs": [],
   "source": [
    "import pandas as pd\n",
    "import opal.flow\n",
    "import metaflow\n",
    "\n",
    "ch10_name = \"652200101100441\"   "
   ]
  },
  {
   "cell_type": "markdown",
   "id": "d5c98c8c-e06a-45f7-9ade-5789e8e6961f",
   "metadata": {},
   "source": [
    "## Parse and Translate NASA Chapter 10 MilStd1553 and ARINC429 Data\n",
    "### (Persona: Data Engineer)"
   ]
  },
  {
   "cell_type": "code",
   "execution_count": null,
   "id": "7f4a40d4-4b94-44e4-ad84-555ff29cab34",
   "metadata": {},
   "outputs": [],
   "source": [
    "!python tip_parse_flow.py run --c10 /opt/data/telemetry-demo-data/{ch10_name}.ch10\n",
    "\n",
    "parse_flow = metaflow.Flow(\"TipParseFlow\")\n",
    "parse_id = parse_flow.latest_successful_run.id\n",
    "\n",
    "!python tip_translate_flow.py run --parsed {parse_id} --type MILSTD1553 --dts DTS1553_Synth_Nasa.yaml\n",
    "!python tip_translate_flow.py run --parsed {parse_id} --type ARINC429 --dts DTS429_Synth_NASA.yaml"
   ]
  },
  {
   "cell_type": "markdown",
   "id": "8dd581dc-92c4-4287-81f9-073a930da679",
   "metadata": {},
   "source": [
    "## Segue To OPAL Catalog\n",
    "\n",
    "1. (Upper left) Select \"File\" --> \"Hub Control Panel\"\n",
    "2. (Hub Control Panel Tab) Select \"Services\" --> \"opal-catalog\"\n",
    "3. (OPAL Catalog Tab) Select \"Login with Keycloak\"\n",
    "4. Click \"Edit Columns\" button and add \"CH10 NAME\" and \"VALIDATED DATETIME\"\n",
    "5. Place cursor in \"Search Catalog\" field\n",
    "6. Type \"ch10\", arrow down to select suggestion \"kind_metadata.ch10_name\", then press Enter\n",
    "7. Search Catalog for ch10 name \"652200101100441\" -- No entry! Data have not been published.\n",
    "8. Clear search bar and Enter to reset search\n",
    "9. Return to notebook tab, see \"Publish Datasets To Searchable Catalog\""
   ]
  },
  {
   "cell_type": "markdown",
   "id": "281d7900-b1af-4c08-b6ba-881ec25536e2",
   "metadata": {},
   "source": [
    "## Publish Datasets to Searchable Catalog\n",
    "### (Persona: Data Engineer)"
   ]
  },
  {
   "cell_type": "code",
   "execution_count": null,
   "id": "4c51ae5d-879d-441a-8775-b7058c5f726d",
   "metadata": {},
   "outputs": [],
   "source": [
    "print(f\"Publishing parsed run {parse_flow.latest_successful_run.id}\")\n",
    "print(opal.flow.publish_run(parse_flow.latest_successful_run))\n",
    "\n",
    "translate_flow = metaflow.Flow(\"TipTranslateFlow\")\n",
    "for run in translate_flow:\n",
    "    if run.successful and run.data.parse_run.id == parse_id:\n",
    "        print(f\"Publishing translated run {run.id}\")\n",
    "        print(opal.flow.publish_run(run))"
   ]
  },
  {
   "cell_type": "markdown",
   "id": "696c52a2-0422-4f34-97b1-b41f0b3b301b",
   "metadata": {},
   "source": [
    "## View Published Data in Catalog\n",
    "\n",
    "1. Return to OPAL Catalog tab\n",
    "2. Place cursor in \"Search Catalog\" field\n",
    "3. Type \"ch10\", arrow down to select suggestion \"kind_metadata.ch10_name\", then press Enter\n",
    "4. Cursor is placed in quotes, type \"441\" to search the relevant portion of \"652200101100441\", press Enter\n",
    "5. Notice the relevant ch10 by the \"VALIDATED DATETIME\" column\n",
    "6. Clear the search text and Enter\n",
    "7. Type \"type\" then down arrow to select \"kind_type\" parameter, followed by Enter\n",
    "8. Search for \"tip_translated\"\n",
    "9. Narrow search: \n",
    "    - place cursor after \"tip_translate\"\n",
    "    - hit space bar then select \"AND\"\n",
    "    - type \"validated\" and select \"validated_datetime\"\n",
    "    - type today's date \"2022-05-17\" and Enter\n",
    "10. Click on links in \"Kind ID\" column to view metadata"
   ]
  },
  {
   "cell_type": "markdown",
   "id": "4829ef88-5da6-46fb-bd26-65934e6ad893",
   "metadata": {},
   "source": [
    "## Read Datasets from Catalog\n",
    "### (Persona: Analyst)\n",
    "#### Latitude/Longitude/Altitude (1553)\n",
    "\n",
    "Run metadata automatically included in the catalog can be searched"
   ]
  },
  {
   "cell_type": "code",
   "execution_count": null,
   "id": "c5d7f007-0363-4082-91a0-ed1980ef91d6",
   "metadata": {},
   "outputs": [],
   "source": [
    "import opal.query\n",
    "inst = opal.query.search.Instance()\n",
    "\n",
    "arinc429_result = inst._with(\"parse_pointer\", parse_id)._and(\"translate_type\", \"ARINC429\").search().all()[0]\n",
    "arinc429_id = arinc429_result[\"kind_id\"]\n",
    "mil1553_id = inst._with(\"parse_pointer\", parse_id)._and(\"translate_type\", \"MILSTD1553\").search().all()[0][\"kind_id\"]\n",
    "\n",
    "display(arinc429_result)"
   ]
  },
  {
   "cell_type": "markdown",
   "id": "12e9efac-a19a-4c62-bd84-501e0507e4b0",
   "metadata": {},
   "source": [
    "# Analyze Data in New Dataset\n",
    "Latitude/Longitude/Altitude (1553)"
   ]
  },
  {
   "cell_type": "code",
   "execution_count": null,
   "id": "d37c46b0-b38c-4cc6-9390-6ca20631e58c",
   "metadata": {},
   "outputs": [],
   "source": [
    "import matplotlib.pyplot as plt\n",
    "import os\n",
    "\n",
    "# Construct the path to the parquet file in S3\n",
    "s3 = opal.flow.minio_s3fs()\n",
    "parquet_path = translate_flow[mil1553_id].data.data_files['translated_data']\n",
    "parquet_path = os.path.join(parquet_path, \"parse_data_translated\", \"NAV.parquet\")\n",
    "\n",
    "# Read it with Pandas\n",
    "df_1553 = pd.read_parquet(parquet_path, filesystem=s3)\n",
    "\n",
    "# Filter out invalid lat/long/altitude measurements\n",
    "where_valid = df_1553[df_1553[\"NAV-0110\"] & df_1553[\"NAV-0111\"]]\n",
    "plt.rcParams.update({\"font.size\":18})\n",
    "\n",
    "# plot\n",
    "fig, ax = plt.subplots()\n",
    "ax = where_valid.plot(\n",
    "    kind=\"scatter\", title=\"Aircraft Position (1553)\",\n",
    "    x=\"NAV-23\", y=\"NAV-21\", c=\"NAV-25\", s=1,\n",
    "    cmap=\"viridis\", figsize=(15, 10), ax=ax)\n",
    "\n",
    "ax.set_aspect(\"equal\")\n",
    "ax.set_xlabel(\"Longitude [deg]\")\n",
    "ax.set_ylabel(\"Latitude [deg]\")\n",
    "plt.gcf().get_axes()[1].set_ylabel(\"Altitude [ft]\")\n",
    "None"
   ]
  },
  {
   "cell_type": "markdown",
   "id": "4d322b9d-47cb-4321-951d-f600b55e62ef",
   "metadata": {},
   "source": [
    "#### Engine Status (ARINC429) with Altitude (1553)"
   ]
  },
  {
   "cell_type": "code",
   "execution_count": null,
   "id": "3e5d44e1-e29e-4b3d-b1ed-e6e77419fa71",
   "metadata": {},
   "outputs": [],
   "source": [
    "arinc429_path = translate_flow[arinc429_id].data.data_files['translated_data']\n",
    "arinc429_path = os.path.join(arinc429_path, \"parse_data_translated\")\n",
    "\n",
    "turbine_speed_path = os.path.join(arinc429_path, \"Engine_Turbine_RPM_40.parquet\")\n",
    "exhaust_temp_path = os.path.join(arinc429_path, \"Exhaust_Gas_Temperature_40.parquet\")\n",
    "\n",
    "df_turbine_speed = pd.read_parquet(turbine_speed_path, filesystem=s3)\n",
    "df_exhaust_temp = pd.read_parquet(exhaust_temp_path, filesystem=s3)\n",
    "\n",
    "ax = df_turbine_speed.plot(kind=\"scatter\", x=\"time\", y=\"N2_RPM\", figsize=(13, 10), c='k', label=\"Turbine Speed [RPM, percent max.]\")\n",
    "ax.set_ylabel(r'Turbine Speed AND Exhaust Temp', c='k')\n",
    "ax.tick_params(axis='y', colors='k')\n",
    "df_exhaust_temp.plot(kind=\"line\", x=\"time\", y=\"Exhaust_Gas_Temperature\", ax=ax, c='k', label=\"Exhaust Temp [deg C]\")\n",
    "ax2 = where_valid.plot(kind=\"line\", x=\"time\", y=\"NAV-25\", secondary_y=True, c='b', ax=ax)\n",
    "ax2.set_ylabel(\"Altitude [ft]\", c='b')\n",
    "ax2.yaxis.label.set_color('blue')\n",
    "ax2.tick_params(axis='y', colors='blue')\n",
    "ax.set_xlabel(\"Time [Epoch, ns]\")\n",
    "ax.legend()\n",
    "title = ax.set_title(\"Engine Data (ARINC429) as Function of Altitude (1553)\")\n",
    "None"
   ]
  },
  {
   "cell_type": "markdown",
   "id": "2c67a92f-937b-49e2-a796-7c6ff5055642",
   "metadata": {},
   "source": [
    "# Delete data for next run"
   ]
  },
  {
   "cell_type": "code",
   "execution_count": null,
   "id": "2174210b-eadd-4d75-bf34-b1860599f1fd",
   "metadata": {},
   "outputs": [],
   "source": [
    "opal.flow.delete_run_data(parse_flow[parse_id])\n",
    "opal.flow.delete_run_data(translate_flow[arinc429_id])\n",
    "opal.flow.delete_run_data(translate_flow[mil1553_id])"
   ]
  },
  {
   "cell_type": "code",
   "execution_count": null,
   "id": "813b0b35-ee65-495e-8520-379bbc1401b7",
   "metadata": {},
   "outputs": [],
   "source": []
  }
 ],
 "metadata": {
  "kernelspec": {
   "display_name": "Python 3.10.4 64-bit",
   "language": "python",
   "name": "python3"
  },
  "language_info": {
   "codemirror_mode": {
    "name": "ipython",
    "version": 3
   },
   "file_extension": ".py",
   "mimetype": "text/x-python",
   "name": "python",
   "nbconvert_exporter": "python",
   "pygments_lexer": "ipython3",
   "version": "3.10.4"
  },
  "vscode": {
   "interpreter": {
    "hash": "916dbcbb3f70747c44a77c7bcd40155683ae19c65e1c03b4aa3499c5328201f1"
   }
  }
 },
 "nbformat": 4,
 "nbformat_minor": 5
}
