{
 "cells": [
  {
   "cell_type": "code",
   "execution_count": null,
   "id": "f22c5927-e580-458c-a1a4-753dce34b253",
   "metadata": {},
   "outputs": [],
   "source": [
    "!opalconfig new minio"
   ]
  },
  {
   "cell_type": "markdown",
   "id": "371ee4db-a487-4cd7-9934-2f683aa12adf",
   "metadata": {},
   "source": [
    "## Import Python Module to Create/Upload New Data Instances\n",
    "### (Persona: Data Engineer)\n",
    "\n",
    "Use OPAL \"kind\" arbitrary data model"
   ]
  },
  {
   "cell_type": "code",
   "execution_count": null,
   "id": "37dd4e59-6789-419c-b8ad-6430fefea55d",
   "metadata": {},
   "outputs": [],
   "source": [
    "import pandas as pd\n",
    "from opal import kinds\n",
    "kinds = kinds.load()\n",
    "\n",
    "parsed_kind = kinds.lookup(\"tip_parsed\")\n",
    "translated_kind = kinds.lookup(\"tip_translated\")"
   ]
  },
  {
   "cell_type": "code",
   "execution_count": null,
   "id": "c838f3fa-9e80-44b2-bbb7-b0f5d1372214",
   "metadata": {},
   "outputs": [],
   "source": [
    "from upload_many import publish_instance, delete_by_kind_id\n",
    "\n",
    "def _delete_old():\n",
    "    found = parsed_kind.metadata_search(\"ch10_name\", \"652200101100441\")\n",
    "    if found:\n",
    "        parsed_id = found[0][1]\n",
    "        parsed_kind.delete_instance(parsed_id)\n",
    "        delete_by_kind_id(parsed_id, error_ok=True)\n",
    "        t_found = translated_kind.metadata_search(\"derived_from\", parsed_id)\n",
    "        for t_f in t_found:\n",
    "            translated_kind.delete_instance(t_f[1])\n",
    "            delete_by_kind_id(t_f[1], error_ok=True)"
   ]
  },
  {
   "cell_type": "markdown",
   "id": "204845fe-aab4-4da6-aea3-698da1b6d159",
   "metadata": {},
   "source": [
    "## Parse and Translate NASA Chapter 10 MilStd1553 and ARINC429 Data\n",
    "### (Persona: Data Engineer)"
   ]
  },
  {
   "cell_type": "code",
   "execution_count": null,
   "id": "ac2d0e17-086d-4179-81b1-b8b8c495081e",
   "metadata": {
    "tags": []
   },
   "outputs": [],
   "source": [
    "!mkdir -p ~/parsed_data ~/translated_data\n",
    "!rm -rf ~/parsed_data/* ~/translated_data/*\n",
    "!tip_parse /opt/data/telemetry-demo-data/652200101100441.ch10 -o ~/parsed_data -L warn\n",
    "!tip_translate_1553 ~//parsed_data/652200101100441_MILSTD1553_F1.parquet DTS1553_Synth_Nasa.yaml -o ~/translated_data -L info\n",
    "!tip_translate_arinc429 ~/parsed_data/652200101100441_ARINC429_F0.parquet DTS429_Synth_NASA.yaml -o ~/translated_data -L warn"
   ]
  },
  {
   "cell_type": "markdown",
   "id": "7d62f6c5-d157-4c49-a15e-74975c00188f",
   "metadata": {},
   "source": [
    "## Upload Parsed and Translated Datasets to Network Data Store\n",
    "### (Persona: Data Engineer)"
   ]
  },
  {
   "cell_type": "code",
   "execution_count": null,
   "id": "b44554a9-6284-4184-a088-dc5d6478f533",
   "metadata": {},
   "outputs": [],
   "source": [
    "import os\n",
    "def upload_new_data():\n",
    "    parsed_path = os.path.expanduser(\"~/parsed_data\")\n",
    "    parsed_meta = parsed_kind.upload(\"parsed_data\", {})\n",
    "    parsed_id = parsed_meta[\"instance_id\"]\n",
    "    parsed_kind.strong_validate_instance(parsed_id)\n",
    "    display(parsed_meta)\n",
    "\n",
    "    t1553_path = os.path.expanduser(\"~/translated_data/652200101100441_MILSTD1553_F1_translated\")\n",
    "    t1553_meta = translated_kind.upload(\n",
    "        t1553_path, \n",
    "        {}, \n",
    "        parent_instance=parsed_id\n",
    "    )\n",
    "    t1553_id = t1553_meta[\"instance_id\"]\n",
    "    translated_kind.strong_validate_instance(t1553_id)\n",
    "    display(t1553_meta)\n",
    "\n",
    "    t429_path = os.path.expanduser(\"~/translated_data/652200101100441_ARINC429_F0_translated\")\n",
    "    t429_meta = translated_kind.upload(\n",
    "        t429_path, \n",
    "        {},\n",
    "        parent_instance=parsed_id\n",
    "    )\n",
    "    t429_id = t429_meta[\"instance_id\"]\n",
    "    translated_kind.strong_validate_instance(t429_id)\n",
    "    display(t429_meta)\n",
    "    return parsed_id, t1553_id, t429_id\n",
    "    \n",
    "try:\n",
    "    parsed_id, t1553_id, t429_id = upload_new_data()\n",
    "except:\n",
    "    print(\"This data already existed\")\n",
    "    print(\"Deleting old data...\")\n",
    "    _delete_old()\n",
    "    print(\"Uploading new data...\")\n",
    "    parsed_id, t1553_id, t429_id = upload_new_data()"
   ]
  },
  {
   "cell_type": "markdown",
   "id": "1beeb50c-7c4c-4bd0-b6d6-58a56af6da4c",
   "metadata": {},
   "source": [
    "## Segue To OPAL Catalog\n",
    "\n",
    "1. (Upper left) Select \"File\" --> \"Hub Control Panel\"\n",
    "2. (Hub Control Panel Tab) Select \"Services\" --> \"opal-catalog\"\n",
    "3. (OPAL Catalog Tab) Select \"Login with Keycloak\"\n",
    "4. Click \"Edit Columns\" button and add \"CH10 NAME\" and \"VALIDATED DATETIME\"\n",
    "5. Place cursor in \"Search Catalog\" field\n",
    "6. Type \"ch10\", arrow down to select suggestion \"kind_metadata.ch10_name\", then press Enter\n",
    "7. Search Catalog for ch10 name \"652200101100441\" -- No entry! Data have not been published.\n",
    "8. Clear search bar and Enter to reset search\n",
    "9. Return to notebook tab, see \"Publish Datasets To Searchable Catalog\""
   ]
  },
  {
   "cell_type": "markdown",
   "id": "dc97c67d-bb2c-4638-84d5-925a829a9225",
   "metadata": {},
   "source": [
    "## Publish Datasets to Searchable Catalog\n",
    "### (Persona: Data Engineer)"
   ]
  },
  {
   "cell_type": "code",
   "execution_count": null,
   "id": "dbafb31c-ac0f-4b00-8d6f-656503c83840",
   "metadata": {},
   "outputs": [],
   "source": [
    "from upload_many import publish_instance, delete_by_kind_id\n",
    "\n",
    "publish_instance(parsed_id, \"tip_parsed\")\n",
    "publish_instance(t1553_id, \"tip_translated\")\n",
    "publish_instance(t429_id, \"tip_translated\")"
   ]
  },
  {
   "cell_type": "markdown",
   "id": "f3206086-9781-42fb-9463-78206bb925e4",
   "metadata": {},
   "source": [
    "## View Published Data in Catalog\n",
    "\n",
    "1. Return to OPAL Catalog tab\n",
    "2. Place cursor in \"Search Catalog\" field\n",
    "3. Type \"ch10\", arrow down to select suggestion \"kind_metadata.ch10_name\", then press Enter\n",
    "4. Cursor is placed in quotes, type \"441\" to search the relevant portion of \"652200101100441\", press Enter\n",
    "5. Notice the relevant ch10 by the \"VALIDATED DATETIME\" column\n",
    "6. Clear the search text and Enter\n",
    "7. Type \"type\" then down arrow to select \"kind_type\" parameter, followed by Enter\n",
    "8. Search for \"tip_translated\"\n",
    "9. Narrow search: \n",
    "    - place cursor after \"tip_translate\"\n",
    "    - hit space bar then select \"AND\"\n",
    "    - type \"validated\" and select \"validated_datetime\"\n",
    "    - type today's date \"2022-05-17\" and Enter\n",
    "10. Click on links in \"Kind ID\" column to view metadata"
   ]
  },
  {
   "cell_type": "markdown",
   "id": "5536313c-a903-4c01-9251-954dcb044b2b",
   "metadata": {},
   "source": [
    "## Read Datasets from Catalog\n",
    "### (Persona: Analyst)\n",
    "#### Latitude/Longitude/Altitude (1553)"
   ]
  },
  {
   "cell_type": "code",
   "execution_count": null,
   "id": "4ccbbd8e-ecf4-4072-b261-7af775163d12",
   "metadata": {},
   "outputs": [],
   "source": [
    "import matplotlib.pyplot as plt\n",
    "plt.rcParams.update({\"font.size\":18})\n",
    "\n",
    "df_1553 = translated_kind.read(t1553_id, \"NAV\")\n",
    "where_valid = df_1553[df_1553[\"NAV-0110\"] & df_1553[\"NAV-0111\"]]\n",
    "\n",
    "fig, ax = plt.subplots()\n",
    "ax = where_valid.plot(\n",
    "    kind=\"scatter\", title=\"Aircraft Position (1553)\",\n",
    "    x=\"NAV-23\", y=\"NAV-21\", c=\"NAV-25\", s=1,\n",
    "    cmap=\"viridis\", figsize=(15, 10), ax=ax)\n",
    "\n",
    "ax.set_aspect(\"equal\")\n",
    "ax.set_xlabel(\"Longitude [deg]\")\n",
    "ax.set_ylabel(\"Latitude [deg]\")\n",
    "plt.gcf().get_axes()[1].set_ylabel(\"Altitude [ft]\")\n",
    "None"
   ]
  },
  {
   "cell_type": "markdown",
   "id": "42267dea-0291-487f-8024-ff5ba70d46ed",
   "metadata": {},
   "source": [
    "#### Engine Status (ARINC429) with Altitude (1553)"
   ]
  },
  {
   "cell_type": "code",
   "execution_count": null,
   "id": "7162c4d8-ee4b-47b7-9d38-fb83b6e4ef4c",
   "metadata": {},
   "outputs": [],
   "source": [
    "df_turbine_speed = translated_kind.read(t429_id, \"Engine_Turbine_RPM_40\")\n",
    "df_exhaust_temp = translated_kind.read(t429_id, \"Exhaust_Gas_Temperature_40\")\n",
    "ax = df_turbine_speed.plot(kind=\"scatter\", x=\"time\", y=\"N2_RPM\", figsize=(13, 10), c='k', label=\"Turbine Speed [RPM, percent max.]\")\n",
    "ax.set_ylabel(r'Turbine Speed AND Exhaust Temp', c='k')\n",
    "ax.tick_params(axis='y', colors='k')\n",
    "df_exhaust_temp.plot(kind=\"line\", x=\"time\", y=\"Exhaust_Gas_Temperature\", ax=ax, c='k', label=\"Exhaust Temp [deg C]\")\n",
    "ax2 = where_valid.plot(kind=\"line\", x=\"time\", y=\"NAV-25\", secondary_y=True, c='b', ax=ax)\n",
    "ax2.set_ylabel(\"Altitude [ft]\", c='b')\n",
    "ax2.yaxis.label.set_color('blue')\n",
    "ax2.tick_params(axis='y', colors='blue')\n",
    "ax.set_xlabel(\"Time [Epoch, ns]\")\n",
    "ax.legend()\n",
    "title = ax.set_title(\"Engine Data (ARINC429) as Function of Altitude (1553)\")"
   ]
  },
  {
   "cell_type": "markdown",
   "id": "411b186b-9df0-424a-a2d5-49bbe73d8ebf",
   "metadata": {},
   "source": [
    "## Delete Data for Next Run"
   ]
  },
  {
   "cell_type": "code",
   "execution_count": null,
   "id": "7895f88b-b7de-4e94-a963-ed29a20d48df",
   "metadata": {},
   "outputs": [],
   "source": [
    "_delete_old()"
   ]
  },
  {
   "cell_type": "markdown",
   "id": "63049deb-6b8a-4be5-99ca-8b847b96467c",
   "metadata": {},
   "source": [
    "### Delete by Catalog Search (Error Case)"
   ]
  },
  {
   "cell_type": "code",
   "execution_count": null,
   "id": "f5628960-6277-4257-b903-6961a090c657",
   "metadata": {},
   "outputs": [],
   "source": [
    "# parsed_id = 'f7966622-1702-477a-afdd-278919a02643'\n",
    "# parsed_kind.delete_instance(parsed_id)\n",
    "# delete_by_kind_id(parsed_id)\n",
    "# t1553_id = '983bb5a7-3da2-4a15-8683-7a7c23cfc3ac'\n",
    "# translated_kind.delete_instance(t1553_id)\n",
    "# delete_by_kind_id(t1553_id)\n",
    "# t429_id = 'fde31f9a-f736-4942-ac4d-24ec5fa05ba7'\n",
    "# translated_kind.delete_instance(t429_id)\n",
    "# delete_by_kind_id(t429_id)"
   ]
  },
  {
   "cell_type": "code",
   "execution_count": null,
   "id": "6b56b0c6-dfe2-4cce-a78a-d93fc1ef6edd",
   "metadata": {},
   "outputs": [],
   "source": []
  }
 ],
 "metadata": {
  "kernelspec": {
   "display_name": "Python [conda env:singleuser] *",
   "language": "python",
   "name": "conda-env-singleuser-py"
  },
  "language_info": {
   "codemirror_mode": {
    "name": "ipython",
    "version": 3
   },
   "file_extension": ".py",
   "mimetype": "text/x-python",
   "name": "python",
   "nbconvert_exporter": "python",
   "pygments_lexer": "ipython3",
   "version": "3.9.7"
  }
 },
 "nbformat": 4,
 "nbformat_minor": 5
}
