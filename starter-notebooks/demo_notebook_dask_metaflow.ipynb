{
 "cells": [
  {
   "cell_type": "markdown",
   "id": "1c7003c5-018c-4be6-831a-e62808fc5fd5",
   "metadata": {},
   "source": [
    "# Design analysis and combine data from many flights\n",
    "\n",
    "## Import modules to retrieve data instances and custom organizational structure\n",
    "\n",
    "### Persona: Analyst"
   ]
  },
  {
   "cell_type": "code",
   "execution_count": null,
   "id": "7948bed2-2471-4685-b9bc-914bf4be7838",
   "metadata": {},
   "outputs": [],
   "source": [
    "import metaflow\n",
    "import opal.flow\n",
    "\n",
    "s3 = opal.flow.minio_s3fs()\n",
    "translate_flow = metaflow.Flow(\"TipTranslateFlow\")\n",
    "tip_catalog_df = metaflow.Flow(\"TipMidnightCatalog\").latest_successful_run.data.catalog_df\n",
    "tip_catalog_df"
   ]
  },
  {
   "cell_type": "markdown",
   "id": "9064beba-8dc9-4605-9c74-de5c9252fd68",
   "metadata": {},
   "source": [
    "### Define analytics and plotting functions\n",
    "\n",
    "Analytics:\n",
    "\n",
    "- Join engine turbine speed ARINC429 word table with navigation data from 1553 message table\n",
    "- Define cruise altitude as the value during periods in which there is little change in the mean\n",
    "- Return a new table with turbine speed and cruise altitude\n",
    "\n",
    "Plot:\n",
    "\n",
    "- Sanity check\n",
    "- Cruise Altitude as a function of general Altitude "
   ]
  },
  {
   "cell_type": "code",
   "execution_count": null,
   "id": "d88e7c16-65ca-4e35-bd7e-3cfb769501d4",
   "metadata": {},
   "outputs": [],
   "source": [
    "import numpy as np\n",
    "import pandas as pd\n",
    "import matplotlib.pyplot as plt\n",
    "plt.rcParams.update({\"font.size\":18})\n",
    "\n",
    "altitude = \"NAV-25\"\n",
    "altitude_valid = \"NAV-0111\"\n",
    "rpm = \"N1_RPM_ACTUAL\"\n",
    "rpm_dataset = \"Engine_Fan_RPM_N1_ACTUAL_40\"\n",
    "\n",
    "def get_rpm_at_cruise_altitude(t_1553, t_429):\n",
    "    # get the 1553 and ARINC429 data\n",
    "    df_1553 = pd.read_parquet(t_1553, filesystem=s3)\n",
    "    df_429 = pd.read_parquet(t_429, filesystem=s3)\n",
    "    \n",
    "    # filter 1553 by the 'altitude valid' bit\n",
    "    df_1553 = df_1553[df_1553[altitude_valid]]\n",
    "    \n",
    "    # join 1553 and ARINC429 data by time\n",
    "    joined = pd.concat([ df_1553[[\"time\", altitude]], df_429[[\"time\", rpm]] ]).sort_values(\"time\")\n",
    "    joined[rpm] = joined[rpm].fillna(method=\"ffill\")\n",
    "    joined = joined.dropna().copy()\n",
    "    \n",
    "    # calculate change in altitude over time (time is in nanoseconds)\n",
    "    joined.loc[:,\"diff_altitude\"] = joined[altitude].diff() / (joined[\"time\"].diff() / 10**9)\n",
    "    # smooth out the altitude derivative\n",
    "    joined.loc[:,\"diff_altitude\"] = joined[\"diff_altitude\"].rolling(int(1 / 0.04)).mean()\n",
    "    \n",
    "    # select only where difference in altitude is small enough\n",
    "    # and the aircraft is sufficiently above what we think is ground level\n",
    "    joined = joined[abs(joined[\"diff_altitude\"]) < 0.25]\n",
    "    start_altitude = joined[altitude].iloc[:10].mean()\n",
    "    end_altitude = joined[altitude].iloc[-10:].mean()\n",
    "    min_altitude = max(start_altitude, end_altitude)\n",
    "    joined = joined[joined[altitude] > min_altitude * 2]\n",
    "    joined = joined.dropna()\n",
    "    \n",
    "    # group periods of time when it was cruising, take the average\n",
    "    joined['group'] = (joined['time'].diff() > 60 * 10**9).cumsum()\n",
    "    grouped = joined.groupby('group').mean()\n",
    "    return grouped[[altitude, rpm]]\n",
    "\n",
    "def plot_cruise_altitude(t_1553, t_429):\n",
    "    # get the 1553 and ARINC429 data\n",
    "    df_1553 = pd.read_parquet(t_1553, filesystem=s3)\n",
    "    df_429 = pd.read_parquet(t_429, filesystem=s3)\n",
    "    \n",
    "    # filter 1553 by the 'altitude valid' big\n",
    "    df_1553 = df_1553[df_1553[altitude_valid]]\n",
    "    \n",
    "    # join 1553 and ARINC429 data by time\n",
    "    joined = pd.concat([ df_1553[[\"time\", altitude]], df_429[[\"time\", rpm]] ]).sort_values(\"time\")\n",
    "    joined[rpm] = joined[rpm].fillna(method=\"ffill\")\n",
    "    joined = joined.dropna().copy()\n",
    "    \n",
    "    # calculate change in altitude over time (time is in nanoseconds)\n",
    "    joined.loc[:,\"diff_altitude\"] = joined[altitude].diff() / (joined[\"time\"].diff() / 10**9)\n",
    "    # smooth out the altitude derivative\n",
    "    joined.loc[:,\"diff_altitude\"] = joined[\"diff_altitude\"].rolling(int(1 / 0.04)).mean()\n",
    "    \n",
    "    # select only where difference in altitude is small enough\n",
    "    # and the aircraft is sufficiently above what we think is ground level\n",
    "    joined = joined[abs(joined[\"diff_altitude\"]) < 0.25]\n",
    "    start_altitude = joined[altitude].iloc[:10].mean()\n",
    "    end_altitude = joined[altitude].iloc[-10:].mean()\n",
    "    min_altitude = max(start_altitude, end_altitude)\n",
    "    joined = joined[joined[altitude] > min_altitude * 2]\n",
    "    joined = joined.dropna()\n",
    "    \n",
    "    ax = joined.plot(kind=\"scatter\", x=\"time\", y=altitude, c=\"tab:orange\", label=\"Cruise Altitude [ft]\", figsize=(13,10))\n",
    "    df_1553.plot(x=\"time\", y=altitude, ax=ax, label=\"General Altitude [ft]\")\n",
    "    ax.set_ylabel(\"Altitude [ft]\")\n",
    "    ax.set_xlabel(\"Time [Epoch, ns]\")\n",
    "\n",
    "first_row = tip_catalog_df.iloc[0]\n",
    "print(f\"Using chapter 10 {first_row.name}\")\n",
    "plot_cruise_altitude(first_row[\"NAV\"], first_row[rpm_dataset])"
   ]
  },
  {
   "cell_type": "markdown",
   "id": "5f96df15-8ba8-4dde-8ebd-ffa323512618",
   "metadata": {},
   "source": [
    "### Calculate dataframes of RPM and cruise altitude for _all_ translated data sets, plot"
   ]
  },
  {
   "cell_type": "code",
   "execution_count": null,
   "id": "4b2d60f4-3e4a-45f6-85b0-10100e017a88",
   "metadata": {},
   "outputs": [],
   "source": [
    "%%time\n",
    "\n",
    "from dask.distributed import Client, progress\n",
    "import dask.bag\n",
    "import dask.dataframe\n",
    "import os\n",
    "\n",
    "with Client(n_workers=16, processes=True) as client:\n",
    "    dashboard_port = client.cluster.dashboard_link.split(':')[-1].split('/')[0]\n",
    "    dashboard_link = f\"https://opal.metrostar.cloud{os.environ['JUPYTERHUB_SERVICE_PREFIX']}proxy/{dashboard_port}/status\"\n",
    "    print(dashboard_link)\n",
    "    \n",
    "    ds_bag = dask.bag.from_sequence(tip_catalog_df.iloc)\n",
    "    ds_bag = ds_bag.filter(lambda row: row[\"NAV\"] is not None and row[rpm_dataset] is not None)\n",
    "    ds_bag = ds_bag.map(lambda row: get_rpm_at_cruise_altitude(row[\"NAV\"], row[rpm_dataset]))\n",
    "    future = client.compute(ds_bag)\n",
    "    progress(future, notebook=False)\n",
    "    df = pd.concat(future.result())\n",
    "   \n",
    "    df.plot(\n",
    "        kind=\"scatter\", x=altitude, y=rpm, \n",
    "        xlabel=\"Cruise Altitude [ft]\", ylabel=\"Engine Turbine Speed [RPM, percent max.]\",\n",
    "        title=\"Turbine Speed at Cruise Altitude (all flights)\",\n",
    "        figsize=(15, 10)\n",
    "    )"
   ]
  },
  {
   "cell_type": "markdown",
   "id": "f4cf5770-f572-40a8-a2bd-4383ff8a9229",
   "metadata": {},
   "source": [
    "### Calculate a local weighted mean at every point of the complete dataframe"
   ]
  },
  {
   "cell_type": "code",
   "execution_count": null,
   "id": "fe8b85cf-b425-4dd8-ba76-19a329bf66f7",
   "metadata": {},
   "outputs": [],
   "source": [
    "scale = 1/1500\n",
    "statistics = np.zeros((len(df), 4))\n",
    "for i, row in enumerate(df.iloc):\n",
    "    alt, rpm_ = row\n",
    "    alt_min = alt - (1 / scale)\n",
    "    alt_max = alt + (1 / scale)\n",
    "    \n",
    "    mean_with = df[(df[altitude] > alt_min) & (df[altitude] < alt_max)].copy()\n",
    "    mean_with['diff'] = abs(mean_with[altitude] - alt)\n",
    "    mean_with['scale'] = 1 - mean_with['diff'] * scale\n",
    "    \n",
    "    mean = sum(mean_with[rpm] * mean_with['scale']) / sum(mean_with['scale'])\n",
    "    low = mean_with[rpm].quantile(0.25)\n",
    "    high = mean_with[rpm].quantile(0.75)\n",
    "    statistics[i,:] = [alt, mean, low, high]\n",
    "    \n",
    "stats_df = pd.DataFrame(statistics, columns=[altitude, \"mean\", \"low\", \"high\"])\n",
    "\n",
    "ax = df.plot(\n",
    "    kind=\"scatter\", x=altitude, y=rpm, \n",
    "    xlabel=\"Cruise Altitude [ft]\", ylabel=\"Engine Turbine Speed [RPM, percent max.]\",\n",
    "    title=\"Turbine Speed at Cruise Altitude (all flights) With Moving Average\",\n",
    "    figsize=(15, 10), legend=True\n",
    ")\n",
    "stats_df.plot(\n",
    "    kind=\"scatter\", x=altitude , y=\"mean\",\n",
    "    ax=ax, c=\"black\", legend=True\n",
    ")"
   ]
  },
  {
   "cell_type": "code",
   "execution_count": null,
   "id": "b4b82425-6339-4b30-84a1-d37f29d89d14",
   "metadata": {},
   "outputs": [],
   "source": []
  }
 ],
 "metadata": {
  "kernelspec": {
   "display_name": "Python 3.10.4 64-bit",
   "language": "python",
   "name": "python3"
  },
  "language_info": {
   "codemirror_mode": {
    "name": "ipython",
    "version": 3
   },
   "file_extension": ".py",
   "mimetype": "text/x-python",
   "name": "python",
   "nbconvert_exporter": "python",
   "pygments_lexer": "ipython3",
   "version": "3.10.4"
  },
  "vscode": {
   "interpreter": {
    "hash": "916dbcbb3f70747c44a77c7bcd40155683ae19c65e1c03b4aa3499c5328201f1"
   }
  }
 },
 "nbformat": 4,
 "nbformat_minor": 5
}
