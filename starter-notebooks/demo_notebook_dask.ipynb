{
 "cells": [
  {
   "cell_type": "markdown",
   "id": "4e150568-3813-41c4-b0ca-db1d902d1356",
   "metadata": {},
   "source": [
    "## Design analysis and combine data from many flights\n",
    "### Persona: Analyst\n",
    "\n",
    "\n",
    "### Import module to retrieve data instances"
   ]
  },
  {
   "cell_type": "code",
   "execution_count": null,
   "id": "281aca55-0e9f-4968-9b7d-c639f8867b13",
   "metadata": {},
   "outputs": [],
   "source": [
    "import pandas as pd\n",
    "from opal import kinds\n",
    "kinds = kinds.load()\n",
    "\n",
    "translated_kind = kinds.lookup(\"tip_translated\")"
   ]
  },
  {
   "cell_type": "markdown",
   "id": "9f017f4f-ec61-4fca-bc8f-e4ed2977521d",
   "metadata": {},
   "source": [
    "### Iterate over all translated data and append instance IDs to list"
   ]
  },
  {
   "cell_type": "code",
   "execution_count": null,
   "id": "f7975630-e747-437e-acd3-3e25c98879f4",
   "metadata": {
    "tags": []
   },
   "outputs": [],
   "source": [
    "%%time\n",
    "datasets = {}\n",
    "for t_id in translated_kind.list_instances():\n",
    "    t_meta = translated_kind.read_instance_metadata(t_id)\n",
    "    parsed_id = t_meta[\"derived_from\"]\n",
    "    if not parsed_id in datasets:\n",
    "        datasets[parsed_id] = {}\n",
    "    datasets[parsed_id][t_meta[\"translated_type\"]] = t_id\n",
    "    \n",
    "print(f\"Dataset count: {len(datasets)}\")"
   ]
  },
  {
   "cell_type": "markdown",
   "id": "9b1b8c60-5683-4f3a-9005-386ca9d97f10",
   "metadata": {},
   "source": [
    "### Define analytics and plotting functions\n",
    "\n",
    "Analytics:\n",
    "\n",
    "- Join engine turbine speed ARINC429 word table with navigation data from 1553 message table\n",
    "- Define cruise altitude as the value during periods in which there is little change in the mean\n",
    "- Return a new table with turbine speed and cruise altitude\n",
    "\n",
    "Plot:\n",
    "\n",
    "- Sanity check\n",
    "- Cruise Altitude as a function of general Altitude "
   ]
  },
  {
   "cell_type": "code",
   "execution_count": null,
   "id": "9956772c-bba7-4617-8ae0-91b5c9c419a7",
   "metadata": {},
   "outputs": [],
   "source": [
    "import numpy as np\n",
    "import pandas as pd\n",
    "import matplotlib.pyplot as plt\n",
    "plt.rcParams.update({\"font.size\":18})\n",
    "\n",
    "altitude = \"NAV-25\"\n",
    "altitude_valid = \"NAV-0111\"\n",
    "rpm = \"N1_RPM_ACTUAL\"\n",
    "def get_rpm_at_cruise_altitude(t_1553, t_429):\n",
    "    # get the 1553 and ARINC429 data\n",
    "    df_1553 = translated_kind.read(t_1553, \"NAV\")\n",
    "    df_429 = translated_kind.read(t_429, \"Engine_Fan_RPM_N1_ACTUAL_40\")\n",
    "    \n",
    "    # filter 1553 by the 'altitude valid' bit\n",
    "    df_1553 = df_1553[df_1553[altitude_valid]]\n",
    "    \n",
    "    # join 1553 and ARINC429 data by time\n",
    "    joined = pd.concat([ df_1553[[\"time\", altitude]], df_429[[\"time\", rpm]] ]).sort_values(\"time\")\n",
    "    joined[rpm] = joined[rpm].fillna(method=\"ffill\")\n",
    "    joined = joined.dropna().copy()\n",
    "    \n",
    "    # calculate change in altitude over time (time is in nanoseconds)\n",
    "    joined.loc[:,\"diff_altitude\"] = joined[altitude].diff() / (joined[\"time\"].diff() / 10**9)\n",
    "    # smooth out the altitude derivative\n",
    "    joined.loc[:,\"diff_altitude\"] = joined[\"diff_altitude\"].rolling(int(1 / 0.04)).mean()\n",
    "    \n",
    "    # select only where difference in altitude is small enough\n",
    "    # and the aircraft is sufficiently above what we think is ground level\n",
    "    joined = joined[abs(joined[\"diff_altitude\"]) < 0.25]\n",
    "    start_altitude = joined[altitude].iloc[:10].mean()\n",
    "    end_altitude = joined[altitude].iloc[-10:].mean()\n",
    "    min_altitude = max(start_altitude, end_altitude)\n",
    "    joined = joined[joined[altitude] > min_altitude * 2]\n",
    "    joined = joined.dropna()\n",
    "    \n",
    "    # group periods of time when it was cruising, take the average\n",
    "    joined['group'] = (joined['time'].diff() > 10 * 10**9).cumsum()\n",
    "    grouped = joined.groupby('group').mean()\n",
    "    return grouped[[altitude, rpm]]\n",
    "\n",
    "def plot_cruise_altitude(t_1553, t_429):\n",
    "    # get the 1553 and ARINC429 data\n",
    "    df_1553 = translated_kind.read(t_1553, \"NAV\")\n",
    "    df_429 = translated_kind.read(t_429, \"Engine_Fan_RPM_N1_ACTUAL_40\")\n",
    "    \n",
    "    # filter 1553 by the 'altitude valid' big\n",
    "    df_1553 = df_1553[df_1553[altitude_valid]]\n",
    "    \n",
    "    # join 1553 and ARINC429 data by time\n",
    "    joined = pd.concat([ df_1553[[\"time\", altitude]], df_429[[\"time\", rpm]] ]).sort_values(\"time\")\n",
    "    joined[rpm] = joined[rpm].fillna(method=\"ffill\")\n",
    "    joined = joined.dropna().copy()\n",
    "    \n",
    "    # calculate change in altitude over time (time is in nanoseconds)\n",
    "    joined.loc[:,\"diff_altitude\"] = joined[altitude].diff() / (joined[\"time\"].diff() / 10**9)\n",
    "    # smooth out the altitude derivative\n",
    "    joined.loc[:,\"diff_altitude\"] = joined[\"diff_altitude\"].rolling(int(1 / 0.04)).mean()\n",
    "    \n",
    "    # select only where difference in altitude is small enough\n",
    "    # and the aircraft is sufficiently above what we think is ground level\n",
    "    joined = joined[abs(joined[\"diff_altitude\"]) < 0.25]\n",
    "    start_altitude = joined[altitude].iloc[:10].mean()\n",
    "    end_altitude = joined[altitude].iloc[-10:].mean()\n",
    "    min_altitude = max(start_altitude, end_altitude)\n",
    "    joined = joined[joined[altitude] > min_altitude * 2]\n",
    "    joined = joined.dropna()\n",
    "    \n",
    "    ax = joined.plot(kind=\"scatter\", x=\"time\", y=altitude, c=\"tab:orange\", label=\"Cruise Altitude [ft]\", figsize=(13,10))\n",
    "    df_1553.plot(x=\"time\", y=altitude, ax=ax, label=\"General Altitude [ft]\")\n",
    "    ax.set_ylabel(\"Altitude [ft]\")\n",
    "    ax.set_xlabel(\"Time [Epoch, ns]\")\n",
    "\n",
    "    \n",
    "ch10_name = list(datasets.keys())[0]\n",
    "plot_cruise_altitude(datasets[ch10_name][\"1553\"], datasets[ch10_name][\"arinc429\"])"
   ]
  },
  {
   "cell_type": "markdown",
   "id": "001cf479-2851-4a52-887c-1c72e9c18717",
   "metadata": {},
   "source": [
    "### Calculate dataframes of RPM and cruise altitude for _all_ translated data sets, plot"
   ]
  },
  {
   "cell_type": "code",
   "execution_count": null,
   "id": "c92e78b9-819c-44b3-a2c9-46022738062f",
   "metadata": {},
   "outputs": [],
   "source": [
    "%%time\n",
    "\n",
    "from dask.distributed import Client, progress\n",
    "import dask.bag\n",
    "import dask.dataframe\n",
    "import os\n",
    "\n",
    "with Client(n_workers=16, processes=True) as client:\n",
    "    dashboard_port = client.cluster.dashboard_link.split(':')[-1].split('/')[0]\n",
    "    dashboard_link = f\"https://opal.metrostar.cloud{os.environ['JUPYTERHUB_SERVICE_PREFIX']}proxy/{dashboard_port}/status\"\n",
    "    print(dashboard_link)\n",
    "    ds_bag = dask.bag.from_sequence(datasets.values())\n",
    "    ds_bag = ds_bag.filter(lambda ds: '1553' in ds and 'arinc429' in ds)\n",
    "    ds_bag = ds_bag.map(lambda ds: get_rpm_at_cruise_altitude(ds[\"1553\"], ds[\"arinc429\"]))\n",
    "    future = client.compute(ds_bag)\n",
    "    progress(future, notebook=False)\n",
    "    df = pd.concat(future.result())\n",
    "   \n",
    "    df.plot(\n",
    "        kind=\"scatter\", x=altitude, y=rpm, \n",
    "        xlabel=\"Cruise Altitude [ft]\", ylabel=\"Engine Turbine Speed [RPM, percent max.]\",\n",
    "        title=\"Turbine Speed at Cruise Altitude (all flights)\",\n",
    "        figsize=(15, 10)\n",
    "    )"
   ]
  },
  {
   "cell_type": "code",
   "execution_count": null,
   "id": "b341e7c3-fbe2-42a4-bc37-a47cb276d604",
   "metadata": {},
   "outputs": [],
   "source": []
  }
 ],
 "metadata": {
  "kernelspec": {
   "display_name": "Python [conda env:singleuser] *",
   "language": "python",
   "name": "conda-env-singleuser-py"
  },
  "language_info": {
   "codemirror_mode": {
    "name": "ipython",
    "version": 3
   },
   "file_extension": ".py",
   "mimetype": "text/x-python",
   "name": "python",
   "nbconvert_exporter": "python",
   "pygments_lexer": "ipython3",
   "version": "3.9.7"
  }
 },
 "nbformat": 4,
 "nbformat_minor": 5
}
