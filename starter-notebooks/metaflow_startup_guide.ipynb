{
 "cells": [
  {
   "cell_type": "markdown",
   "id": "fa8ced2f-7c0c-415c-8b9d-06d1e810733d",
   "metadata": {},
   "source": [
    "# Metaflow Overview\n",
    "Metaflow is used to organize data products uploaded\n",
    "to the MinIO data store. Metaflow `Flows` consist of\n",
    "a series of steps defined by the data engineer to\n",
    "process data, tag the data with relavant metadata, \n",
    "and upload data products to MinIO. "
   ]
  },
  {
   "cell_type": "markdown",
   "id": "05df358d-8ddf-455e-96ec-2abafeafa7c9",
   "metadata": {},
   "source": [
    "# Metaflow Documentation\n",
    "https://docs.metaflow.org/metaflow/basics"
   ]
  },
  {
   "cell_type": "markdown",
   "id": "ffa09bf6-a726-4282-8b40-c1843465cb25",
   "metadata": {},
   "source": [
    "# Imports/Setup"
   ]
  },
  {
   "cell_type": "code",
   "execution_count": null,
   "id": "4729013d-8cb1-4ea8-bcf3-154391f0ac23",
   "metadata": {
    "tags": []
   },
   "outputs": [],
   "source": [
    "import opal.flow\n",
    "import metaflow\n",
    "import pandas as pd\n",
    "from metaflow.cards import get_cards\n",
    "\n",
    "# Get the MinIO FileSystem Object for Later Use\n",
    "fs = opal.flow.minio_s3fs()"
   ]
  },
  {
   "cell_type": "markdown",
   "id": "023cfb8f-8602-4702-aa54-99be60416484",
   "metadata": {},
   "source": [
    "# Create a Flow"
   ]
  },
  {
   "cell_type": "markdown",
   "id": "bd24fe03-71aa-42d6-b3c7-d9c6b528643b",
   "metadata": {},
   "source": [
    "- See https://docs.metaflow.org/metaflow/basics for a detailed walk through for creating a flow using `metaflow.FlowSpec`\n",
    "- `OPALFlowSpec` is used for OPAL and is a wrapper class that inherits from `metaflow.FlowSpec`\n",
    "- `OPALFlowSpec` has all the functionality of `metaflow.FlowSpec` plus additional convience functions "
   ]
  },
  {
   "cell_type": "markdown",
   "id": "dd047648-2480-4f5f-8476-d0f856d21f86",
   "metadata": {},
   "source": [
    "## Example Flow"
   ]
  },
  {
   "cell_type": "markdown",
   "id": "6a519b28-91e5-4c3d-93d9-cac32d416991",
   "metadata": {},
   "source": [
    "- Save the contents below as a separate file named `create_tables_flow.py`\n",
    "- Note the comments for further clarity"
   ]
  },
  {
   "cell_type": "markdown",
   "id": "b99c23f1-3d6e-48f3-87ff-9eba1ad9e893",
   "metadata": {},
   "source": [
    "```python\n",
    "import metaflow\n",
    "from metaflow import step, card\n",
    "import pandas as pd\n",
    "import tempfile\n",
    "import os\n",
    "from opal.flow import OpalFlowSpec\n",
    "\n",
    "# This flow generates two tables and saves them to the MinIO datastore\n",
    "class CreateTablesFlow(OpalFlowSpec):\n",
    "    # table_length is an input parameter passed when running this flow\n",
    "    table_length_1 = metaflow.Parameter(\n",
    "        \"table_length_1\",\n",
    "        help=\"Length Of Table 1 to Create\",\n",
    "        required=True\n",
    "    )\n",
    "    \n",
    "    table_length_2 = metaflow.Parameter(\n",
    "        \"table_length_2\",\n",
    "        help=\"Length Of Table 2 to Create\",\n",
    "        required=True\n",
    "    )\n",
    "    \n",
    "    @step # the '@step' decorator is required\n",
    "    def start(self): # 'start' and 'end' steps are required\n",
    "        # Comments like the one below are attached to their function\n",
    "        # and are visible from cards, cli tools, etc\n",
    "        \"\"\"\n",
    "        Get the table_length parameters and convert them to integers\n",
    "        \"\"\"\n",
    "        self.n_int_1 = int(self.table_length_1)\n",
    "        self.n_int_2 = int(self.table_length_2)\n",
    "        \n",
    "        # self.next points to the next step\n",
    "        self.next(self.create_tables) \n",
    "        \n",
    "    @step \n",
    "    def create_tables(self):\n",
    "        \"\"\"\n",
    "        Make tables\n",
    "        \"\"\"\n",
    "        df1 = pd.DataFrame({'data': list(range(self.n_int_1))})\n",
    "        df2 = pd.DataFrame({'data': list(range(self.n_int_2))})\n",
    "        temp_file_1 = tempfile.gettempdir()\n",
    "        temp_file_2 = tempfile.gettempdir()\n",
    "        self.path1 = os.path.join(temp_file_1, f\"table_1.parquet\")\n",
    "        self.path2 = os.path.join(temp_file_2, f\"table_2.parquet\")\n",
    "        df1.to_parquet(self.path1)\n",
    "        df2.to_parquet(self.path2)\n",
    "        \n",
    "        self.next(self.upload_tables)\n",
    "        \n",
    "    @step\n",
    "    def upload_tables(self):\n",
    "        \"\"\"\n",
    "        Upload the tables to MinIO\n",
    "        \"\"\"\n",
    "        # self.upload(path, reference)\n",
    "        #    path: The local path to the file being uploaded\n",
    "        #    reference: A tag that will be used to reference the Data\n",
    "        self.upload(self.path1, \"table1\")\n",
    "        self.upload(self.path2, \"table2\") \n",
    "        self.next(self.save_metadata)\n",
    "        \n",
    "    @step\n",
    "    def save_metadata(self):\n",
    "        \"\"\"\n",
    "        Save Metadata\n",
    "        \"\"\"\n",
    "        # All items saved to self will \n",
    "        # be saved with the Flow Run\n",
    "        self.metadata_1 = 1\n",
    "        self.metadata_dictionary = {'key': 1}\n",
    "        self.next(self.end)\n",
    "        \n",
    "    @card # The card decorator saves data to generate a nice HTML file\n",
    "    @step\n",
    "    def end(self):\n",
    "        \"\"\"\n",
    "        Print All Done\n",
    "        \"\"\"\n",
    "        print(\"All done!\")\n",
    "\n",
    "if __name__ == \"__main__\":\n",
    "    CreateTablesFlow()\n",
    "```"
   ]
  },
  {
   "cell_type": "markdown",
   "id": "5e8d7c37-8372-45d5-898a-1d2017b4a87a",
   "metadata": {
    "tags": []
   },
   "source": [
    "## Access all options that can be run on the flow\n",
    "- This can be run only after the above code is saved as `create_tables_flow.py` in the current working directory"
   ]
  },
  {
   "cell_type": "code",
   "execution_count": null,
   "id": "069fa058-9093-493f-99d9-fad25874e3fb",
   "metadata": {},
   "outputs": [],
   "source": [
    "!python create_tables_flow.py --help"
   ]
  },
  {
   "cell_type": "markdown",
   "id": "67d7a3ed-8832-4785-a0c8-d7ea7a9dcb55",
   "metadata": {},
   "source": [
    "## Show Steps of the Flow"
   ]
  },
  {
   "cell_type": "code",
   "execution_count": null,
   "id": "117ca656-8fb0-4bdb-ba7e-f9f23227f6c3",
   "metadata": {
    "tags": []
   },
   "outputs": [],
   "source": [
    "!python create_tables_flow.py show"
   ]
  },
  {
   "cell_type": "markdown",
   "id": "1269a419-39c5-4bc8-8c10-a48c02dfa356",
   "metadata": {},
   "source": [
    "## Run Flow\n",
    "- Note that the pylint step can be skipped by adding the '--no-pylint' parameter"
   ]
  },
  {
   "cell_type": "code",
   "execution_count": null,
   "id": "13244f0e-8cd8-4afc-94c0-8ec9a51b756a",
   "metadata": {},
   "outputs": [],
   "source": [
    "# Pass the desired length for the first and second\n",
    "# tables to be created\n",
    "!python create_tables_flow.py run --table_length_1=4 --table_length_2=10"
   ]
  },
  {
   "cell_type": "markdown",
   "id": "f64e1550-a49b-4cac-90d2-cbf4d91fdab5",
   "metadata": {},
   "source": [
    "# Access the Run"
   ]
  },
  {
   "cell_type": "markdown",
   "id": "5b8a3a7f-e710-448e-9cbb-8f5e3a5bf22d",
   "metadata": {},
   "source": [
    "## Get all Runs from the create_tables Flow"
   ]
  },
  {
   "cell_type": "code",
   "execution_count": null,
   "id": "58b2f035-2b7d-4d1b-8f92-c31899ea6eee",
   "metadata": {},
   "outputs": [],
   "source": [
    "create_tables_runs = metaflow.Flow(\"CreateTablesFlow\")\n",
    "# Note that there is an ID associated with every run instance of the CreateTables Flow\n",
    "print(list(create_tables_runs))"
   ]
  },
  {
   "cell_type": "markdown",
   "id": "7c549293-6e28-4f83-950b-b68a8ce89b6c",
   "metadata": {},
   "source": [
    "## Get the latest create_tables Run"
   ]
  },
  {
   "cell_type": "code",
   "execution_count": null,
   "id": "0aecd5eb-add7-40a1-a379-8a9696fffc02",
   "metadata": {
    "tags": []
   },
   "outputs": [],
   "source": [
    "latest_create_tables_run = create_tables_runs.latest_successful_run\n",
    "\n",
    "# Look through the uploaded data files associated with the run\n",
    "print(latest_create_tables_run.data.data_files)  "
   ]
  },
  {
   "cell_type": "markdown",
   "id": "0010333e-aafa-4f3f-b3e1-b276d6dfbe04",
   "metadata": {},
   "source": [
    "## Read back the uploaded files"
   ]
  },
  {
   "cell_type": "code",
   "execution_count": null,
   "id": "1b76a847-0db5-4534-8d17-e30e3aaa7f3c",
   "metadata": {},
   "outputs": [],
   "source": [
    "df1 = pd.read_parquet(latest_create_tables_run.data.data_files['table1'], filesystem=fs)\n",
    "df2 = pd.read_parquet(latest_create_tables_run.data.data_files['table2'], filesystem=fs)\n",
    "print(f'df1: {df1}')\n",
    "print(f'df2: {df2}')"
   ]
  },
  {
   "cell_type": "markdown",
   "id": "849c4176-faca-4588-905b-086d439b0cc4",
   "metadata": {},
   "source": [
    "## Access Metadata from the Run"
   ]
  },
  {
   "cell_type": "code",
   "execution_count": null,
   "id": "0aa41994-4bf4-4a02-9020-a6ac3a633329",
   "metadata": {},
   "outputs": [],
   "source": [
    "print('Saved metadata options:')\n",
    "print(latest_create_tables_run.data)\n",
    "print('Metadata dictionary:')\n",
    "print(latest_create_tables_run.data.metadata_dictionary)"
   ]
  },
  {
   "cell_type": "markdown",
   "id": "3c5b33b3-3899-4851-8f15-c560a8bdd1c4",
   "metadata": {},
   "source": [
    "## Access any Create Tables Run by Index"
   ]
  },
  {
   "cell_type": "code",
   "execution_count": null,
   "id": "f9998bd1-1287-4ea4-a43e-c99f9eeaaac5",
   "metadata": {},
   "outputs": [],
   "source": [
    "index = 1\n",
    "print(list(create_tables_runs))\n",
    "list(create_tables_runs)[index]"
   ]
  },
  {
   "cell_type": "markdown",
   "id": "f00415d2-3b94-48cd-b663-132c268de972",
   "metadata": {},
   "source": [
    "# Publish the run to the Catalog"
   ]
  },
  {
   "cell_type": "code",
   "execution_count": null,
   "id": "d31d92a1-d469-4f85-b4bc-c5a5e5860762",
   "metadata": {},
   "outputs": [],
   "source": [
    "opal.flow.publish_run(latest_create_tables_run)"
   ]
  },
  {
   "attachments": {
    "1f46e675-e930-4897-99e0-ca801c4a9541.PNG": {
     "image/png": "[encoded data removed]"
    }
   },
   "cell_type": "markdown",
   "id": "ad4a5c4e-fb78-4bbf-ae39-b0b4a7046ddb",
   "metadata": {},
   "source": [
    "![Catalog_snip.PNG](attachment:1f46e675-e930-4897-99e0-ca801c4a9541.PNG)\n",
    "Note: The Catalog can be accessed through File -> Hub Control Panel -> Services -> Opal-Catalog"
   ]
  },
  {
   "cell_type": "markdown",
   "id": "775b8939-5303-42d2-8b31-23a75a2b2527",
   "metadata": {},
   "source": [
    "## Remove the Run from the Catalog"
   ]
  },
  {
   "cell_type": "code",
   "execution_count": null,
   "id": "d489031c-ca79-4929-ab18-ba0d919bb5e8",
   "metadata": {},
   "outputs": [],
   "source": [
    "opal.publish.delete(latest_create_tables_run.id)\n",
    "# Note that the data are still stored in MinIO \n",
    "# even after deleting the run from the catalog."
   ]
  },
  {
   "cell_type": "markdown",
   "id": "f15afac2-d8c7-47e6-8e0d-a46a2cd2a7e7",
   "metadata": {},
   "source": [
    "Note: The Catalog is generally maintained through a different process, see `~/opal/data-engineering-resources/readme.md`"
   ]
  },
  {
   "cell_type": "markdown",
   "id": "24e20ddc-a101-4d86-a049-a713acc546e3",
   "metadata": {},
   "source": [
    "# Delete Run Data From MinIO"
   ]
  },
  {
   "cell_type": "code",
   "execution_count": null,
   "id": "3aa9cdf4-855d-4066-a5e1-f0036313e72f",
   "metadata": {},
   "outputs": [],
   "source": [
    "# Note the state of the Run before deleting the Data\n",
    "print('--tags')\n",
    "print(latest_create_tables_run.tags)\n",
    "print('--datafiles')\n",
    "print(latest_create_tables_run.data.data_files)\n",
    "print('--metadata')\n",
    "print(latest_create_tables_run.data)\n",
    "print(latest_create_tables_run.data.metadata_dictionary)"
   ]
  },
  {
   "cell_type": "code",
   "execution_count": null,
   "id": "8ad261b7-b914-483b-b356-c0726a975eea",
   "metadata": {},
   "outputs": [],
   "source": [
    "opal.flow.flow_script_utils.delete_run_data(latest_create_tables_run)"
   ]
  },
  {
   "cell_type": "code",
   "execution_count": null,
   "id": "6b9bc8ab-82aa-4b65-a80a-6b11f547c4f0",
   "metadata": {},
   "outputs": [],
   "source": [
    "create_tables_runs = metaflow.Flow(\"CreateTablesFlow\")\n",
    "latest_create_tables_run = create_tables_runs.latest_successful_run\n",
    "\n",
    "# Note the state of the Run after deleting the Data\n",
    "# There is an additional tag 'no_data' but the original metadata from the run \n",
    "# was saved\n",
    "print('--tags')\n",
    "print(latest_create_tables_run.tags)\n",
    "print('--datafiles')\n",
    "print(latest_create_tables_run.data.data_files)\n",
    "print('--metadata')\n",
    "print(latest_create_tables_run.data)\n",
    "print(latest_create_tables_run.data.metadata_dictionary)"
   ]
  },
  {
   "cell_type": "markdown",
   "id": "f5fd06ac-a939-4998-b92c-d348038d1edd",
   "metadata": {},
   "source": [
    "# View the Card from the Run"
   ]
  },
  {
   "cell_type": "code",
   "execution_count": null,
   "id": "09b6c2ab-f3c0-46d8-b52e-ba6874fb5f33",
   "metadata": {
    "tags": []
   },
   "outputs": [],
   "source": [
    "get_cards(latest_create_tables_run['end'].task)"
   ]
  }
 ],
 "metadata": {
  "kernelspec": {
   "display_name": "Python 3 (ipykernel)",
   "language": "python",
   "name": "python3"
  },
  "language_info": {
   "codemirror_mode": {
    "name": "ipython",
    "version": 3
   },
   "file_extension": ".py",
   "mimetype": "text/x-python",
   "name": "python",
   "nbconvert_exporter": "python",
   "pygments_lexer": "ipython3",
   "version": "3.9.7"
  },
  "vscode": {
   "interpreter": {
    "hash": "916dbcbb3f70747c44a77c7bcd40155683ae19c65e1c03b4aa3499c5328201f1"
   }
  }
 },
 "nbformat": 4,
 "nbformat_minor": 5
}
