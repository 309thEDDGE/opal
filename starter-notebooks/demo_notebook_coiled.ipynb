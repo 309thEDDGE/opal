{
 "cells": [
  {
   "cell_type": "code",
   "execution_count": null,
   "id": "2bf497fb-9a9d-4485-88c5-15fc9ba816d4",
   "metadata": {},
   "outputs": [],
   "source": [
    "import s3fs\n",
    "import os\n",
    "import pandas as pd\n",
    "import numpy as np\n",
    "import dask.dataframe as dd\n",
    "\n",
    "\n",
    "\n",
    "fs = s3fs.S3FileSystem(\n",
    "    key=os.environ[\"S3_KEY\"],\n",
    "    secret=os.environ[\"S3_SECRET\"],\n",
    "    token=os.environ[\"S3_SESSION\"],\n",
    "    client_kwargs={\n",
    "        \"endpoint_url\": os.environ['S3_ENDPOINT']\n",
    "    }\n",
    ")\n",
    "\n",
    "options = {\n",
    "    \"key\":os.environ[\"S3_KEY\"],\n",
    "    \"secret\":os.environ[\"S3_SECRET\"],\n",
    "    \"token\":os.environ[\"S3_SESSION\"],\n",
    "    \"client_kwargs\":{\n",
    "        \"endpoint_url\": os.environ['S3_ENDPOINT']\n",
    "    }\n",
    "}"
   ]
  },
  {
   "cell_type": "markdown",
   "id": "3db92c1c-abed-44d3-a629-f283522b8f0c",
   "metadata": {},
   "source": [
    "## Accessing the catalog to get the dataset metadata"
   ]
  },
  {
   "cell_type": "code",
   "execution_count": null,
   "id": "a3422810-9736-4faa-916e-aae177122513",
   "metadata": {},
   "outputs": [],
   "source": [
    "%%time\n",
    "\n",
    "from opal import kinds\n",
    "kinds = kinds.load()\n",
    "\n",
    "translated_kind = kinds.lookup(\"tip_translated\")\n",
    "\n",
    "datasets = {}\n",
    "for t_id in translated_kind.list_instances():\n",
    "    t_meta = translated_kind.read_instance_metadata(t_id)\n",
    "    parsed_id = t_meta[\"derived_from\"]\n",
    "    if not parsed_id in datasets:\n",
    "        datasets[parsed_id] = {}\n",
    "    datasets[parsed_id][t_meta[\"translated_type\"]] = t_id"
   ]
  },
  {
   "cell_type": "markdown",
   "id": "e93bd7b3-8898-4f49-bc83-4b7eb58862ee",
   "metadata": {},
   "source": [
    "## Creating list of S3 paths to pass to the distributed cluster"
   ]
  },
  {
   "cell_type": "code",
   "execution_count": null,
   "id": "bbad0c63-3a74-4dc8-afdc-22f298094969",
   "metadata": {},
   "outputs": [],
   "source": [
    "def path_to(translated_kind, instance_id, dataset):\n",
    "    meta = translated_kind.read_instance_metadata(instance_id)\n",
    "    return f\"s3://data/{translated_kind.get_instance_path(instance_id)}/{meta['folder_name']}/{dataset}\"\n",
    "\n",
    "path_tuples = []\n",
    "for ds in datasets.values():\n",
    "    ds = ds\n",
    "    s3_1553 = path_to(translated_kind, ds['1553'], 'NAV.parquet')\n",
    "    s3_arinc429 = path_to(translated_kind, ds['arinc429'] , 'Engine_Fan_RPM_N1_ACTUAL_40.parquet')\n",
    "    path_tuples.append((s3_1553, s3_arinc429))"
   ]
  },
  {
   "cell_type": "markdown",
   "id": "4b93c67a-a9ab-4afc-9d7f-d217bc5119c1",
   "metadata": {},
   "source": [
    "## Defining the function the distributed cluster will run"
   ]
  },
  {
   "cell_type": "code",
   "execution_count": null,
   "id": "47100e83-99cc-48a6-ac77-fd3a287618b1",
   "metadata": {},
   "outputs": [],
   "source": [
    "\n",
    "\n",
    "altitude = \"NAV-25\"\n",
    "altitude_valid = \"NAV-0111\"\n",
    "rpm = \"N1_RPM_ACTUAL\"\n",
    "def get_rpm_at_cruise_altitude(t_1553, t_429, options):\n",
    "    # get the 1553 and ARINC429 data\n",
    "    df_1553 = dd.read_parquet(t_1553, storage_options=options).compute()\n",
    "    df_429 = dd.read_parquet(t_429, storage_options=options).compute()\n",
    "    \n",
    "    # filter 1553 by the 'altitude valid' big\n",
    "    df_1553 = df_1553[df_1553[altitude_valid]]\n",
    "    \n",
    "    # join 1553 and ARINC429 data by time\n",
    "    joined = pd.concat([ df_1553[[\"time\", altitude]], df_429[[\"time\", rpm]] ]).sort_values(\"time\")\n",
    "    joined[rpm] = joined[rpm].fillna(method=\"ffill\")\n",
    "    joined = joined.dropna().copy()\n",
    "    \n",
    "    # calculate change in altitude over time (time is in nanoseconds)\n",
    "    joined.loc[:,\"diff_altitude\"] = joined[altitude].diff() / (joined[\"time\"].diff() / 10**9)\n",
    "    # smooth out the altitude derivative\n",
    "    joined.loc[:,\"diff_altitude\"] = joined[\"diff_altitude\"].rolling(int(1 / 0.04)).mean()\n",
    "    \n",
    "    # select only where difference in altitude is small enough\n",
    "    # and the aircraft is sufficiently above what we think is ground level\n",
    "    joined = joined[abs(joined[\"diff_altitude\"]) < 0.25]\n",
    "    start_altitude = joined[altitude].iloc[:10].mean()\n",
    "    end_altitude = joined[altitude].iloc[-10:].mean()\n",
    "    min_altitude = max(start_altitude, end_altitude)\n",
    "    joined = joined[joined[altitude] > min_altitude * 2]\n",
    "    joined = joined.dropna()\n",
    "    \n",
    "    # group periods of time when it was cruising, take the average\n",
    "    joined['group'] = (joined['time'].diff() > 10 * 10**9).cumsum()\n",
    "    grouped = joined.groupby('group').mean()\n",
    "    return grouped[[altitude, rpm]]"
   ]
  },
  {
   "cell_type": "markdown",
   "id": "c9c49f9e-1567-4c57-8a8d-7d0e23942a6a",
   "metadata": {},
   "source": [
    "## Creating the distributed Coiled cluster "
   ]
  },
  {
   "cell_type": "code",
   "execution_count": null,
   "id": "c2b732bb-6fde-4568-9c1d-798b1be7ab07",
   "metadata": {},
   "outputs": [],
   "source": [
    "%%time\n",
    "# Create a Coiled cluster that uses our conda environment\n",
    "import os\n",
    "worker_env = {\"S3_KEY\": os.environ[\"S3_KEY\"],\n",
    "\"S3_SECRET\": os.environ[\"S3_SECRET\"],\n",
    "\"S3_SESSION\": os.environ[\"S3_SESSION\"],\n",
    "\"S3_ENDPOINT\": os.environ['S3_ENDPOINT']}\n",
    "\n",
    "import coiled\n",
    "cluster = coiled.Cluster(\n",
    "    name=\"opal-dask\",\n",
    "    software=\"usaf/demo\",\n",
    "    n_workers=40,\n",
    "    account='usaf',\n",
    "    environ=worker_env\n",
    ")\n",
    "\n",
    "from dask.distributed import Client\n",
    "client = Client(cluster)\n",
    "print('Dashboard:', client.dashboard_link)"
   ]
  },
  {
   "cell_type": "markdown",
   "id": "c926316a-e536-458d-bd8b-338cc990ec84",
   "metadata": {},
   "source": [
    "## Running the pre-defined function on the cluster"
   ]
  },
  {
   "cell_type": "code",
   "execution_count": null,
   "id": "1e901a62-6cf7-42d2-9278-ea5318354b5d",
   "metadata": {},
   "outputs": [],
   "source": [
    "%%time\n",
    "from dask.distributed import Client, progress\n",
    "import dask.bag\n",
    "import dask.dataframe\n",
    "\n",
    "\n",
    "\n",
    "ds_bag = dask.bag.from_sequence(path_tuples)\n",
    "ds_bag = ds_bag.map(lambda ds: get_rpm_at_cruise_altitude(ds[0], ds[1], options))\n",
    "future = client.compute(ds_bag)\n",
    "progress(future, notebook=False)\n",
    "df = pd.concat(future.result())"
   ]
  },
  {
   "cell_type": "markdown",
   "id": "9b4ffa1c-98f4-4d54-a89d-c46eb34e57db",
   "metadata": {},
   "source": [
    "## Plotting the results with matplotlib"
   ]
  },
  {
   "cell_type": "code",
   "execution_count": null,
   "id": "7249b355-3cf2-49bf-9291-c79b203c952f",
   "metadata": {},
   "outputs": [],
   "source": [
    "df.plot(\n",
    "    kind=\"scatter\", x=altitude, y=rpm, \n",
    "    xlabel=\"Altitude (ft)\", ylabel=\"Engine RPM\",\n",
    "    title=\"Engine RPM over altitude when cruising (all flights)\",\n",
    "    figsize=(15, 10)\n",
    ")"
   ]
  },
  {
   "cell_type": "markdown",
   "id": "bd29b613-03a4-4e6c-af5e-acdbee54d293",
   "metadata": {},
   "source": [
    "## Interactive Scatter plot with Bokeh"
   ]
  },
  {
   "cell_type": "code",
   "execution_count": null,
   "id": "3837679c-ff6c-4c60-9af0-385e796f7aef",
   "metadata": {},
   "outputs": [],
   "source": [
    "from bokeh.plotting import figure, output_file, show\n",
    "from bokeh.resources import INLINE\n",
    "import bokeh.io\n",
    "from bokeh import *\n",
    "bokeh.io.output_notebook(INLINE)\n",
    "\n",
    "# output to static HTML file\n",
    "output_file(\"line.html\")\n",
    "\n",
    "p = figure(title = \"Trends of Engine RPM with Altitude\", width=1000, height=400)\n",
    "p.xaxis.axis_label = \"Altitude\"\n",
    "p.yaxis.axis_label = \"Engine RPM\"\n",
    "# add a circle renderer with a size, color, and alpha\n",
    "p.circle(df['NAV-25'], df['N1_RPM_ACTUAL'], size=3, color=\"navy\", alpha=0.2)\n",
    "# show the results\n",
    "show(p)"
   ]
  },
  {
   "cell_type": "code",
   "execution_count": null,
   "id": "aa6709ec-e20d-4b84-a111-0542277bb577",
   "metadata": {},
   "outputs": [],
   "source": []
  }
 ],
 "metadata": {
  "kernelspec": {
   "display_name": "Python [conda env:coiled]",
   "language": "python",
   "name": "conda-env-coiled-py"
  },
  "language_info": {
   "codemirror_mode": {
    "name": "ipython",
    "version": 3
   },
   "file_extension": ".py",
   "mimetype": "text/x-python",
   "name": "python",
   "nbconvert_exporter": "python",
   "pygments_lexer": "ipython3",
   "version": "3.9.12"
  }
 },
 "nbformat": 4,
 "nbformat_minor": 5
}
