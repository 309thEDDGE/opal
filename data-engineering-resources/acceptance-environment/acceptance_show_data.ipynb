{
 "cells": [
  {
   "cell_type": "markdown",
   "id": "99bf4c43-3dd2-41e9-a560-567233b12f06",
   "metadata": {},
   "source": [
    "# Chapter 10 Catalog"
   ]
  },
  {
   "cell_type": "code",
   "execution_count": null,
   "id": "a266a6ea-89d1-467b-ad34-13bfb4db31cd",
   "metadata": {},
   "outputs": [],
   "source": [
    "import metaflow\n",
    "ch10_cat_run = metaflow.Flow(\"Chapter10Catalog\").latest_successful_run\n",
    "ch10_cat_run.data"
   ]
  },
  {
   "cell_type": "code",
   "execution_count": null,
   "id": "704d9b3e-5b0b-4ca5-96e1-0213c0e414ce",
   "metadata": {},
   "outputs": [],
   "source": [
    "import pandas as pd\n",
    "display(pd.DataFrame(ch10_cat_run.data.data_dict).T)\n",
    "display(ch10_cat_run.data.sources)"
   ]
  },
  {
   "cell_type": "markdown",
   "id": "cb3a3e14-1a6f-4d27-ad82-2872a3c721f7",
   "metadata": {},
   "source": [
    "# Tip Parsed Data"
   ]
  },
  {
   "cell_type": "code",
   "execution_count": null,
   "id": "70c93ee4-e1e7-46df-926f-8750ff9b1765",
   "metadata": {},
   "outputs": [],
   "source": [
    "parse_run = metaflow.Flow(\"TipParseFlow\").latest_successful_run\n",
    "parse_run.data"
   ]
  },
  {
   "cell_type": "code",
   "execution_count": null,
   "id": "6708365f-909a-4043-8ed3-fefc068ea860",
   "metadata": {},
   "outputs": [],
   "source": [
    "parse_run.data.tip_metadata"
   ]
  },
  {
   "cell_type": "code",
   "execution_count": null,
   "id": "98259e52-e0d7-4da3-b507-afc8e153e6c5",
   "metadata": {},
   "outputs": [],
   "source": [
    "parse_run.data.ch10_name"
   ]
  },
  {
   "cell_type": "markdown",
   "id": "bcd95ed3-a510-4deb-8225-372b4840620e",
   "metadata": {},
   "source": [
    "# Tip Translated Data"
   ]
  },
  {
   "cell_type": "code",
   "execution_count": null,
   "id": "cb903e8a-7a6a-445a-ac9d-1b392b811aa4",
   "metadata": {},
   "outputs": [],
   "source": [
    "translate_run = metaflow.Flow(\"TipTranslateFlow\").latest_successful_run\n",
    "translate_run.data"
   ]
  },
  {
   "cell_type": "code",
   "execution_count": null,
   "id": "02a4478b-58fa-4b56-a450-bd0ae410bc74",
   "metadata": {},
   "outputs": [],
   "source": [
    "translate_run.data.tip_metadata"
   ]
  },
  {
   "cell_type": "markdown",
   "id": "8bfbb91b-05ae-4f72-9629-b769a3bd89ef",
   "metadata": {},
   "source": [
    "# Midnight Catalog for Tip Data"
   ]
  },
  {
   "cell_type": "code",
   "execution_count": null,
   "id": "edbbc62e-e853-4f68-9291-8e03c54bc163",
   "metadata": {},
   "outputs": [],
   "source": [
    "mn_cat_run = metaflow.Flow(\"TipMidnightCatalog\").latest_successful_run\n",
    "mn_cat_run.data"
   ]
  },
  {
   "cell_type": "code",
   "execution_count": null,
   "id": "89d54afc-073b-4e2d-b5f1-9f526fbbb343",
   "metadata": {},
   "outputs": [],
   "source": [
    "mn_cat_run.data.catalog_df"
   ]
  },
  {
   "cell_type": "code",
   "execution_count": null,
   "id": "32deda6e-5374-4849-acc5-ebe631e85026",
   "metadata": {},
   "outputs": [],
   "source": [
    "import opal.flow\n",
    "import pandas as pd\n",
    "s3 = opal.flow.minio_s3fs()\n",
    "path = mn_cat_run.data.catalog_df[\"NAV\"].loc[\"667200107040933\"]\n",
    "pd.read_parquet(path, filesystem=s3)"
   ]
  },
  {
   "cell_type": "code",
   "execution_count": null,
   "id": "36ec39f9-a1c1-42d6-9e50-c9c66678bd81",
   "metadata": {},
   "outputs": [],
   "source": []
  }
 ],
 "metadata": {
  "kernelspec": {
   "display_name": "Python 3 (ipykernel)",
   "language": "python",
   "name": "python3"
  },
  "language_info": {
   "codemirror_mode": {
    "name": "ipython",
    "version": 3
   },
   "file_extension": ".py",
   "mimetype": "text/x-python",
   "name": "python",
   "nbconvert_exporter": "python",
   "pygments_lexer": "ipython3",
   "version": "3.9.7"
  },
  "vscode": {
   "interpreter": {
    "hash": "916dbcbb3f70747c44a77c7bcd40155683ae19c65e1c03b4aa3499c5328201f1"
   }
  }
 },
 "nbformat": 4,
 "nbformat_minor": 5
}
